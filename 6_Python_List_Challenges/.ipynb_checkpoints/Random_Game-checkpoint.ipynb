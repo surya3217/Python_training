{
 "cells": [
  {
   "cell_type": "markdown",
   "metadata": {},
   "source": [
    "### 01. Treasure Hunt Game"
   ]
  },
  {
   "cell_type": "code",
   "execution_count": 5,
   "metadata": {},
   "outputs": [
    {
     "name": "stdout",
     "output_type": "stream",
     "text": [
      "1\t0\t1\t1\t0\t0\t1\t1\t1\t0\t\n",
      "0\t1\t0\t0\t0\t1\t0\t1\t0\t0\t\n",
      "1\t1\t0\t1\t0\t0\t1\t1\t0\t0\t\n",
      "1\t0\t1\t0\t1\t0\t1\t1\t1\t0\t\n",
      "0\t1\t0\t0\t1\t1\t1\t1\t1\t1\t\n",
      "0\t0\t0\t1\t1\t0\t1\t0\t1\t0\t\n",
      "1\t1\t0\t1\t0\t1\t1\t1\t0\t0\t\n",
      "1\t0\t1\t0\t0\t0\t0\t0\t0\t0\t\n",
      "1\t1\t0\t0\t1\t1\t0\t1\t1\t0\t\n",
      "1\t0\t0\t1\t1\t0\t1\t0\t0\t1\t\n",
      "Enter the coordinates for treasure like (x y): 0 1\n",
      "Loss\n",
      "Enter the coordinates for treasure like (x y): 1 3\n",
      "Loss\n",
      "Enter the coordinates for treasure like (x y): 5 3\n",
      "Success\n"
     ]
    }
   ],
   "source": [
    "\"\"\"\n",
    "Problem Statement:\n",
    "    Create a list of list of integers 10 by 10. In a random position in the array store \n",
    "    the number 1. Get the user to enter coordinates where they think the treasure is.If \n",
    "    there is a 1 at this position display ‘success’. Repeat Until they find the treasure.\n",
    "\"\"\"\n",
    "import random\n",
    "\n",
    "treasure = [[random.randrange(0,2) for x in range(10)] for x in range(10)] \n",
    "for i in range(len(treasure)):  \n",
    "    for j in range(len(treasure[i])):  \n",
    "        print(treasure[i][j], end=\"\\t\") \n",
    "    print() \n",
    "\n",
    "while(True):\n",
    "    row, col= input('Enter the coordinates for treasure like (x y): ').split()\n",
    "    if treasure[int(row)][int(col)]== 1:\n",
    "        print('Success')\n",
    "        break\n",
    "    else:\n",
    "        print('Loss')\n",
    "        continue\n"
   ]
  },
  {
   "cell_type": "code",
   "execution_count": null,
   "metadata": {},
   "outputs": [],
   "source": []
  }
 ],
 "metadata": {
  "kernelspec": {
   "display_name": "Python 3",
   "language": "python",
   "name": "python3"
  },
  "language_info": {
   "codemirror_mode": {
    "name": "ipython",
    "version": 3
   },
   "file_extension": ".py",
   "mimetype": "text/x-python",
   "name": "python",
   "nbconvert_exporter": "python",
   "pygments_lexer": "ipython3",
   "version": "3.7.4"
  }
 },
 "nbformat": 4,
 "nbformat_minor": 2
}
