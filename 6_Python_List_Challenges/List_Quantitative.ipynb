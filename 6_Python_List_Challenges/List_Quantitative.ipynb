{
 "cells": [
  {
   "cell_type": "markdown",
   "metadata": {},
   "source": [
    "### 01. Two Dimensional Random List"
   ]
  },
  {
   "cell_type": "code",
   "execution_count": 4,
   "metadata": {},
   "outputs": [
    {
     "name": "stdout",
     "output_type": "stream",
     "text": [
      "[ [2, 10, 208, 192, 100, 60, 24, 150, 96, 227]\n",
      "[235, 90, 200, 21, 236, 31, 75, 119, 91, 183]\n",
      "[97, 249, 210, 46, 35, 104, 55, 200, 104, 219]\n",
      "[236, 59, 243, 52, 240, 36, 142, 27, 129, 77]\n",
      "[42, 236, 151, 24, 185, 233, 120, 200, 193, 107]\n",
      "[242, 144, 228, 133, 28, 82, 188, 114, 229, 141]\n",
      "[91, 51, 140, 203, 104, 35, 32, 91, 117, 21]\n",
      "[167, 84, 209, 102, 121, 135, 203, 176, 129, 101]\n",
      "[45, 204, 73, 23, 200, 41, 54, 3, 12, 165]\n",
      "[59, 73, 161, 233, 67, 197, 37, 234, 225, 76]\n",
      "]\n"
     ]
    }
   ],
   "source": [
    "\"\"\"\n",
    "Problem Statement: \n",
    "    Create a 2-Dimensional list of list of integers 10 by 10. Fill the 2-Dimensional\n",
    "    list with random numbers in the range 0 to 255.\n",
    "\"\"\"\n",
    "import random\n",
    "a = [[random.randrange(0,256) for x in range(10)] for x in range(10)] \n",
    "\n",
    "print('[',end=' ')\n",
    "for i in range(len(a)):  \n",
    "        print(a[i]) \n",
    "print(']') \n"
   ]
  },
  {
   "cell_type": "markdown",
   "metadata": {},
   "source": [
    "### 02. Pattern Builder"
   ]
  },
  {
   "cell_type": "code",
   "execution_count": 6,
   "metadata": {},
   "outputs": [
    {
     "name": "stdout",
     "output_type": "stream",
     "text": [
      "Enter the number of line for pattern: 6\n",
      "* \n",
      "* * \n",
      "* * * \n",
      "* * * * \n",
      "* * * * * \n",
      "* * * * * * \n",
      "* * * * * \n",
      "* * * * \n",
      "* * * \n",
      "* * \n",
      "* \n"
     ]
    }
   ],
   "source": [
    "\"\"\"\n",
    "Problem Statement:\n",
    "    Write a Python program to construct the following pattern. \n",
    "    Take input from User.  \n",
    "    * \n",
    "    * * \n",
    "    * * * \n",
    "    * * * * \n",
    "    * * * * * \n",
    "    * * * * \n",
    "    * * * \n",
    "    * * \n",
    "    *     \n",
    "\"\"\"\n",
    "row= int(input('Enter the number of line for pattern: '))\n",
    "for i in range(row):\n",
    "    for j in range(i+1):\n",
    "        print('*',end= ' ')\n",
    "    print()\n",
    "\n",
    "for i in range(row-1):\n",
    "    for j in range(row-1-i,0,-1):\n",
    "        print('*',end= ' ')\n",
    "    print()\n"
   ]
  },
  {
   "cell_type": "code",
   "execution_count": null,
   "metadata": {},
   "outputs": [],
   "source": []
  }
 ],
 "metadata": {
  "kernelspec": {
   "display_name": "Python 3",
   "language": "python",
   "name": "python3"
  },
  "language_info": {
   "codemirror_mode": {
    "name": "ipython",
    "version": 3
   },
   "file_extension": ".py",
   "mimetype": "text/x-python",
   "name": "python",
   "nbconvert_exporter": "python",
   "pygments_lexer": "ipython3",
   "version": "3.7.4"
  }
 },
 "nbformat": 4,
 "nbformat_minor": 2
}
