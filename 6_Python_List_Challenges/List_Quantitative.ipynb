{
 "cells": [
  {
   "cell_type": "markdown",
   "metadata": {},
   "source": [
    "### 01. Two Dimensional Random List"
   ]
  },
  {
   "cell_type": "code",
   "execution_count": 4,
   "metadata": {},
   "outputs": [
    {
     "name": "stdout",
     "output_type": "stream",
     "text": [
      "[ [2, 10, 208, 192, 100, 60, 24, 150, 96, 227]\n",
      "[235, 90, 200, 21, 236, 31, 75, 119, 91, 183]\n",
      "[97, 249, 210, 46, 35, 104, 55, 200, 104, 219]\n",
      "[236, 59, 243, 52, 240, 36, 142, 27, 129, 77]\n",
      "[42, 236, 151, 24, 185, 233, 120, 200, 193, 107]\n",
      "[242, 144, 228, 133, 28, 82, 188, 114, 229, 141]\n",
      "[91, 51, 140, 203, 104, 35, 32, 91, 117, 21]\n",
      "[167, 84, 209, 102, 121, 135, 203, 176, 129, 101]\n",
      "[45, 204, 73, 23, 200, 41, 54, 3, 12, 165]\n",
      "[59, 73, 161, 233, 67, 197, 37, 234, 225, 76]\n",
      "]\n"
     ]
    }
   ],
   "source": [
    "\"\"\"\n",
    "Problem Statement: \n",
    "    Create a 2-Dimensional list of list of integers 10 by 10. Fill the 2-Dimensional\n",
    "    list with random numbers in the range 0 to 255.\n",
    "\"\"\"\n",
    "import random\n",
    "a = [[random.randrange(0,256) for x in range(10)] for x in range(10)] \n",
    "\n",
    "print('[',end=' ')\n",
    "for i in range(len(a)):  \n",
    "        print(a[i]) \n",
    "print(']') \n"
   ]
  },
  {
   "cell_type": "markdown",
   "metadata": {},
   "source": [
    "### 02. Pattern Builder"
   ]
  },
  {
   "cell_type": "code",
   "execution_count": 6,
   "metadata": {},
   "outputs": [
    {
     "name": "stdout",
     "output_type": "stream",
     "text": [
      "Enter the number of line for pattern: 6\n",
      "* \n",
      "* * \n",
      "* * * \n",
      "* * * * \n",
      "* * * * * \n",
      "* * * * * * \n",
      "* * * * * \n",
      "* * * * \n",
      "* * * \n",
      "* * \n",
      "* \n"
     ]
    }
   ],
   "source": [
    "\"\"\"\n",
    "Problem Statement:\n",
    "    Write a Python program to construct the following pattern. \n",
    "    Take input from User.  \n",
    "    * \n",
    "    * * \n",
    "    * * * \n",
    "    * * * * \n",
    "    * * * * * \n",
    "    * * * * \n",
    "    * * * \n",
    "    * * \n",
    "    *     \n",
    "\"\"\"\n",
    "row= int(input('Enter the number of line for pattern: '))\n",
    "for i in range(row):\n",
    "    for j in range(i+1):\n",
    "        print('*',end= ' ')\n",
    "    print()\n",
    "\n",
    "for i in range(row-1):\n",
    "    for j in range(row-1-i,0,-1):\n",
    "        print('*',end= ' ')\n",
    "    print()\n"
   ]
  },
  {
   "cell_type": "markdown",
   "metadata": {},
   "source": [
    "### 03. Pallindromic Integer"
   ]
  },
  {
   "cell_type": "code",
   "execution_count": 7,
   "metadata": {},
   "outputs": [
    {
     "name": "stdout",
     "output_type": "stream",
     "text": [
      "Enter space separated values : 12 29 61 55 14\n",
      "['12', '29', '61', '55', '14']\n",
      "[12, 29, 61, 55, 14]\n",
      "Palindromic integer found: True\n"
     ]
    }
   ],
   "source": [
    "\"\"\"\n",
    "Problem Statement:\n",
    "    You are given a space separated list of integers. \n",
    "    If all the integers are positive and if \"any integer\" is a palindromic integer, \n",
    "    then you need to print True else print False.      \n",
    "Hint: \n",
    "    A palindromic number or numeral palindrome is a number that remains the same\n",
    "    when its digits are reversed. Like 16461, for example, it is \"symmetrical\"   \n",
    "Sample Input:\n",
    "    12 9 61 5 14\n",
    "    12 29 61 55 14\n",
    "Sample Output:\n",
    "    True     \n",
    "\"\"\"\n",
    "lis_str= input(\"Enter space separated values : \").split()   \n",
    "lis_int= list(map(int, lis_str))\n",
    "print(lis_str)      # list with integers in string form\n",
    "print(lis_int)      # list with integers\n",
    "\n",
    "flag=0\n",
    "for num in lis_int:     # checking if no. is +ve or -ve\n",
    "    if num> 0:\n",
    "        flag=1\n",
    "    else:\n",
    "        flag=0\n",
    "        break\n",
    "\n",
    "if flag==1:             # if +ve then checking there is any Palindromic integer or not\n",
    "    for index, st in enumerate(lis_str):\n",
    "        if st==st[::-1]:\n",
    "            print('Palindromic integer found: True')\n",
    "            break\n",
    "        elif index== (len(lis_str)-1):\n",
    "            print('Palindromic integer found: False')\n",
    "else:\n",
    "    print('Palindromic integer found: False')\n"
   ]
  },
  {
   "cell_type": "markdown",
   "metadata": {},
   "source": [
    "### 04. Centered Average "
   ]
  },
  {
   "cell_type": "code",
   "execution_count": 9,
   "metadata": {},
   "outputs": [
    {
     "name": "stdout",
     "output_type": "stream",
     "text": [
      "Enter space separated values: 1 2 3 4 100\n",
      "[2, 3, 4]\n",
      "Centered Average: 3\n"
     ]
    }
   ],
   "source": [
    "\"\"\"\n",
    "Problem Statement:\n",
    "    Return the \"centered average\" of an array of integers, which we'll say is the mean\n",
    "    average of the values, except ignoring the largest and smallest values in the array. \n",
    "    If there are multiple copies of the smallest value, ignore just one copy, and \n",
    "    likewise for the largest value. Use int division to produce the final average. \n",
    "    You may assume that the array is length 3 or more.\n",
    "Sample Input:\n",
    "    1, 2, 3, 4, 100 \n",
    "Sample Output:\n",
    "    3 \n",
    "\"\"\" \n",
    "lis1= list(map(int, input(\"Enter space separated values: \").split())) # taking input as integer\n",
    "\n",
    "lis1.remove(min(lis1))\n",
    "lis1.remove(max(lis1))\n",
    "print(lis1)\n",
    "\n",
    "avg= sum(lis1)//len(lis1)\n",
    "print('Centered Average:',avg)\n"
   ]
  },
  {
   "cell_type": "markdown",
   "metadata": {},
   "source": [
    "### 05. Unlucky 13"
   ]
  },
  {
   "cell_type": "code",
   "execution_count": 6,
   "metadata": {},
   "outputs": [
    {
     "name": "stdout",
     "output_type": "stream",
     "text": [
      "Enter space separated values: 13, 1, 2, 13, 2, 1, 13\n",
      "Desired sum: 3\n",
      "\n",
      "List of index of 13 and its following element: [0, 1, 3, 4, 6]\n",
      "Desired sum: 3\n"
     ]
    }
   ],
   "source": [
    "\"\"\"\n",
    "Problem Statement:\n",
    "    Return the sum of the numbers in the array, returning 0 for an empty array. \n",
    "    Except the number 13 is very unlucky, so it does not count and numbers that \n",
    "    come immediately after a 13 also do not count\n",
    "    Take input from user\n",
    "Sample Input:\n",
    "    13, 1, 2, 13, 2, 1, 13 \n",
    "    1, 13, 1, 2, 5, 2, 13, 2, 1, 13, 9\n",
    "Sample Output:\n",
    "    3\n",
    "    11\n",
    "\"\"\" \n",
    "# taking values as int\n",
    "lis1= list(map(int, input(\"Enter space separated values: \").split(',')))\n",
    "\n",
    "ind=0       # counter     \n",
    "lsum1=0     # sum\n",
    "while(ind< len(lis1)):\n",
    "    if lis1[ind]== 13:    # if 13 found then counter jump 2 place\n",
    "        ind+= 2\n",
    "    else:                 # else counter jump 1 place\n",
    "        lsum1+= lis1[ind]\n",
    "        ind+= 1\n",
    "print('Desired sum:',lsum1)\n",
    "print()\n",
    "\n",
    "'''Or'''\n",
    "\n",
    "lis2= []\n",
    "lsum2= 0\n",
    "for index, num in enumerate(lis1):\n",
    "    if num== 13:                # if 13 found then index of 13 and its following no. \n",
    "        lis2.append(index)      # store in lis2 \n",
    "        if index < len(lis1)-1:\n",
    "            lis2.append(index+1)\n",
    "print('List of index of 13 and its following element:',lis2)\n",
    "\n",
    "for index, num in enumerate(lis1):    # checking if lis1 element's index is not in\n",
    "    if index not in lis2:             # lis2 then sum those element\n",
    "        lsum2= lsum2+ num\n",
    "print('Desired sum:',lsum2)\n",
    "\n"
   ]
  },
  {
   "cell_type": "markdown",
   "metadata": {},
   "source": [
    "### 06. Operations Function"
   ]
  },
  {
   "cell_type": "code",
   "execution_count": 4,
   "metadata": {},
   "outputs": [
    {
     "name": "stdout",
     "output_type": "stream",
     "text": [
      "Enter space separated values: 5 2 6 2 3 5\n",
      "Sum = 23\n",
      "Multiplication = 1800\n",
      "Largest = 6\n",
      "Smallest = 2\n",
      "Sorted list  = [2, 2, 3, 5, 5, 6]\n",
      "List with unique values = [2, 3, 5, 6]\n"
     ]
    }
   ],
   "source": [
    "\"\"\"\n",
    "Problem Statement:\n",
    "    Write following functions for list operations. Take list as input from the User\n",
    "    Add(), Multiply(), Largest(), Smallest(), Sorting(), Remove_Duplicates(), Print()\n",
    "    Only call Print() function to display the results in the below displayed \n",
    "    format (i.e all the functions must be called inside the print() function \n",
    "    and only the Print() is to be called in the main script) \n",
    "Sample Input:\n",
    "    5,2,6,2,3\n",
    "Sample Output:\n",
    "    Sum = 18\n",
    "    Multiply = 360\n",
    "    Largest = 6\n",
    "    Smallest = 2\n",
    "    Sorted = [2, 2, 3, 5, 6]\n",
    "    Without Duplicates = [2, 3, 5, 6]\n",
    "\"\"\" \n",
    "\n",
    "def Add(num):       # function to add\n",
    "    print('Sum =',sum(num))\n",
    "\n",
    "def Multiply(num):  # function to multiply\n",
    "    mult= 1\n",
    "    for val in num: mult*= val\n",
    "    print('Multiplication =',mult)\n",
    "\n",
    "def Largest(num):         # function to find maximum\n",
    "    print('Largest =',max(num))\n",
    "\n",
    "def Smallest(num):        # function to find minimum\n",
    "    print('Smallest =',min(num))\n",
    "\n",
    "def Sorting(num):       # function for sorting\n",
    "    num.sort()\n",
    "    print('Sorted list  =',num)\n",
    "\n",
    "def Remove_Duplicates(num):  # function to remove duplicates\n",
    "    lis2= []\n",
    "    for i in num:\n",
    "        while(i not in lis2):\n",
    "            lis2.append(i)\n",
    "    print('List with unique values =',lis2)\n",
    "    \n",
    "def Print(num):      # function to print\n",
    "    Add(num)\n",
    "    Multiply(num)\n",
    "    Largest(num)\n",
    "    Smallest(num)\n",
    "    Sorting(num) \n",
    "    Remove_Duplicates(num)\n",
    "\n",
    "\n",
    "lis= list(map(int, input('Enter space separated values: ').split() ))\n",
    "Print(lis)\n"
   ]
  },
  {
   "cell_type": "markdown",
   "metadata": {},
   "source": [
    "### 07. Bricks"
   ]
  },
  {
   "cell_type": "code",
   "execution_count": 8,
   "metadata": {},
   "outputs": [
    {
     "name": "stdout",
     "output_type": "stream",
     "text": [
      "Enter the ',' separated values values: 2,2,4\n",
      "FALSE\n"
     ]
    }
   ],
   "source": [
    "\"\"\"\n",
    "Problem Statement:\n",
    "    We want to make a row of bricks that is target inches long. \n",
    "    We have a number of small bricks (1 inch each) and big bricks (5 inches each). \n",
    "    Make a function that prints True if it is possible to make the exact target \n",
    "    by choosing from the given bricks or False otherwise. \n",
    "    Take list as input from user where its 1st element represents number of small bricks, \n",
    "    middle element represents number of big bricks and 3rd element represents the target.\n",
    "Sample Input:\n",
    "    2, 2, 11\n",
    "Sample Output:\n",
    "    True\n",
    "\"\"\" \n",
    "\n",
    "def small_target(lis):    \n",
    "    \"\"\"This function is used for small target calculation. \"\"\"\n",
    "    tgt= 0\n",
    "    flag= 0\n",
    "    for x in range(lis[0]):\n",
    "        tgt= tgt + 1       # increment target by one\n",
    "        \n",
    "        if tgt== lis[-1]:  # if tgt match with target flag up \n",
    "            flag= 1\n",
    "            break\n",
    "        elif tgt!= lis[-1] and x== lis[0]:  \n",
    "            flag= 0 \n",
    "    return flag\n",
    "\n",
    "def big_target(lis):\n",
    "    \"\"\"This function is used for big target calculation. \"\"\"\n",
    "    tgt= 0\n",
    "    flag= 0\n",
    "    for x in range(lis[1]):\n",
    "        tgt= tgt + 5\n",
    "        \n",
    "        if tgt> lis[-1]:  # check if tgt greater than target\n",
    "            tgt= tgt-5\n",
    "            break \n",
    "        elif tgt== lis[-1]:  # check if tgt match with target\n",
    "            flag =1\n",
    "            break\n",
    "\n",
    "    while(tgt!= lis[-1] ):   # calculate tgt for value than 5\n",
    "        tgt= tgt + 1\n",
    "        \n",
    "        if tgt== lis[-1]:   # check if tgt match with target\n",
    "            flag =1\n",
    "            break  \n",
    "    return flag    \n",
    "\n",
    "\n",
    "\n",
    "bricks= list(map(int, input(\"Enter the ',' separated values values: \").split(','))) # input values as integer\n",
    "if bricks[-1]< 5:\n",
    "    flag= small_target(bricks)   # function call\n",
    "else:\n",
    "    flag= big_target(bricks)     # function call\n",
    "\n",
    "print('TRUE') if flag==1 else print('FALSE')\n"
   ]
  },
  {
   "cell_type": "code",
   "execution_count": null,
   "metadata": {},
   "outputs": [],
   "source": []
  },
  {
   "cell_type": "code",
   "execution_count": null,
   "metadata": {},
   "outputs": [],
   "source": []
  }
 ],
 "metadata": {
  "kernelspec": {
   "display_name": "Python 3",
   "language": "python",
   "name": "python3"
  },
  "language_info": {
   "codemirror_mode": {
    "name": "ipython",
    "version": 3
   },
   "file_extension": ".py",
   "mimetype": "text/x-python",
   "name": "python",
   "nbconvert_exporter": "python",
   "pygments_lexer": "ipython3",
   "version": "3.7.4"
  }
 },
 "nbformat": 4,
 "nbformat_minor": 2
}
