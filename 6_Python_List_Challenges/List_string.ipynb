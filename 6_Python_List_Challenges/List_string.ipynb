{
 "cells": [
  {
   "cell_type": "markdown",
   "metadata": {},
   "source": [
    "### 01. Vowels Finder"
   ]
  },
  {
   "cell_type": "code",
   "execution_count": 1,
   "metadata": {},
   "outputs": [
    {
     "name": "stdout",
     "output_type": "stream",
     "text": [
      "['lbm', 'Clfrn', 'klhm', 'Flrd']\n"
     ]
    }
   ],
   "source": [
    "\"\"\"\n",
    "Problem Statement:\n",
    "    Remove all the vowels from the list of states\n",
    "Sample Input:\n",
    "    state_name = [ 'Alabama', 'California', 'Oklahoma', 'Florida']\n",
    "Sample Output:\n",
    "    ['lbm', 'clfrn', 'klhm', 'flrd'] \n",
    "\"\"\"\n",
    "\n",
    "state_name = [ 'Alabama', 'California', 'Oklahoma', 'Florida']\n",
    "vowel= ['A','E','I','O','U','a','e','i','o','u']\n",
    "lis2= []\n",
    "\n",
    "for name in state_name:\n",
    "    for c in name:\n",
    "        if c in vowel:\n",
    "            name= name.replace(c,'')\n",
    "    lis2.append(name)\n",
    "\n",
    "print(lis2)\n"
   ]
  },
  {
   "cell_type": "markdown",
   "metadata": {},
   "source": [
    "### 02. Pangram"
   ]
  },
  {
   "cell_type": "code",
   "execution_count": 6,
   "metadata": {},
   "outputs": [
    {
     "name": "stdout",
     "output_type": "stream",
     "text": [
      "Enter the string: Sphinx of black quartz, judge my vow.\n",
      "PANAGRAM\n"
     ]
    }
   ],
   "source": [
    "\"\"\"\n",
    "Problem Statement:\n",
    "    Write a Python function to check whether a string is PANGRAM or not\n",
    "Hint: \n",
    "    Pangrams are words or sentences containing every letter of the alphabet at least once.\n",
    "    For example: \"The quick brown fox jumps over the lazy dog\"  is a PANGRAM.  \n",
    "Sample Input:\n",
    "    The five boxing wizards jumps. \n",
    "    Sphinx of black quartz, judge my vow.\n",
    "    The jay, pig, fox, zebra and my wolves quack!\n",
    "    Pack my box with five dozen liquor jugs.\n",
    "Sample Output:\n",
    "    NOT PANGRAM \n",
    "    PANGRAM\n",
    "    PANGRAM\n",
    "    PANGRAM\n",
    "\"\"\"  \n",
    "def panagram(inp):    # function definition\n",
    "    flag= 0\n",
    "    str2= ''+ str1.lower()  # making lowercase string of input\n",
    "    for char in alph:       # checking for every character\n",
    "        if char in str2:\n",
    "            flag= 1\n",
    "        else:\n",
    "            flag= 0\n",
    "            break\n",
    "\n",
    "    print('PANAGRAM') if flag==1 else print('NOT PANAGRAM')\n",
    "\n",
    "\n",
    "str1= input('Enter the string: ')\n",
    "alph= 'abcdefghijklmnopqrstuvwxyz'  # string to compare with input string for lowercase only \n",
    "panagram(str2)     # calling the function\n"
   ]
  },
  {
   "cell_type": "markdown",
   "metadata": {},
   "source": [
    "### 03. Reverse Function"
   ]
  },
  {
   "cell_type": "code",
   "execution_count": 7,
   "metadata": {},
   "outputs": [
    {
     "name": "stdout",
     "output_type": "stream",
     "text": [
      "Enter the string: I am testing\n",
      "gnitset ma I\n"
     ]
    }
   ],
   "source": [
    "\"\"\"\n",
    "Problem Statement:\n",
    "    Define a function reverse() that computes the reversal of a string.\n",
    "    Without using Python's inbuilt function\n",
    "Sample Input:\n",
    "    I am testing\n",
    "Sample Output:\n",
    "    gnitset ma I\n",
    "\"\"\" \n",
    "\n",
    "def reverse(str1):\n",
    "    print(str1[::-1])\n",
    "\n",
    "str1= input('Enter the string: ')\n",
    "reverse(str1)\n"
   ]
  },
  {
   "cell_type": "markdown",
   "metadata": {},
   "source": [
    "### 04. Translate Function"
   ]
  },
  {
   "cell_type": "code",
   "execution_count": 1,
   "metadata": {},
   "outputs": [
    {
     "name": "stdout",
     "output_type": "stream",
     "text": [
      "Enter the sentence: This is fun\n",
      "ToThohisos isos fofunon\n"
     ]
    }
   ],
   "source": [
    "\"\"\"\n",
    "Problem Statement:\n",
    "    Write a function translate() that will translate a text into \"rövarspråket\" \n",
    "    Swedish for \"robber's language\". That is, double every consonant and place \n",
    "    an occurrence of \"o\" in between.\n",
    "Sample Input:\n",
    "    This is fun\n",
    "Sample Output:\n",
    "    ToThohisos isos fofunon\n",
    "\"\"\"\n",
    "\n",
    "def translate(str1):    # function definition\n",
    "    name= ''\n",
    "    vowel= 'AEIOUaeiou '\n",
    "    for ch in str1:\n",
    "        name+= ch+ 'o'+ ch if ch not in vowel else ch\n",
    "    print(name)\n",
    "\n",
    "str1= input('Enter the sentence: ')\n",
    "translate(str1)     # calling the function\n"
   ]
  },
  {
   "cell_type": "markdown",
   "metadata": {},
   "source": [
    "### 05. Anagram"
   ]
  },
  {
   "cell_type": "code",
   "execution_count": 4,
   "metadata": {},
   "outputs": [
    {
     "name": "stdout",
     "output_type": "stream",
     "text": [
      "Enter string: Listen\n",
      "Enter string: Silent\n",
      "Anagram strings\n"
     ]
    }
   ],
   "source": [
    "\"\"\"\n",
    "Problem Statement:\n",
    "   Two words are anagrams if you can rearrange the letters of one to spell the second.  \n",
    "   For example, the following words are anagrams:\n",
    "   ['abets', 'baste', 'bates', 'beast', 'beats', 'betas', 'tabes']\n",
    "   create a function which takes two arguments and return whether they are angram or not.  \n",
    "\"\"\" \n",
    "\n",
    "def anagram(a,b):          # set has unique characters\n",
    "    c= True if set(a)== set(b) else False  \n",
    "    return c\n",
    "    \n",
    "str1= input('Enter string: ').lower()\n",
    "str2= input('Enter string: ').lower()\n",
    "print('Anagram strings') if anagram(str1,str2) else print('Not Anagram strings')\n"
   ]
  },
  {
   "cell_type": "code",
   "execution_count": null,
   "metadata": {},
   "outputs": [],
   "source": []
  }
 ],
 "metadata": {
  "kernelspec": {
   "display_name": "Python 3",
   "language": "python",
   "name": "python3"
  },
  "language_info": {
   "codemirror_mode": {
    "name": "ipython",
    "version": 3
   },
   "file_extension": ".py",
   "mimetype": "text/x-python",
   "name": "python",
   "nbconvert_exporter": "python",
   "pygments_lexer": "ipython3",
   "version": "3.7.4"
  }
 },
 "nbformat": 4,
 "nbformat_minor": 2
}
