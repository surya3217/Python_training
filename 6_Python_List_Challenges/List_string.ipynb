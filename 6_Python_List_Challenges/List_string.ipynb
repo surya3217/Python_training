{
 "cells": [
  {
   "cell_type": "markdown",
   "metadata": {},
   "source": [
    "### 01. Vowels Finder"
   ]
  },
  {
   "cell_type": "code",
   "execution_count": null,
   "metadata": {},
   "outputs": [],
   "source": [
    "\"\"\"\n",
    "Problem Statement:\n",
    "    Remove all the vowels from the list of states\n",
    "Sample Input:\n",
    "    state_name = [ 'Alabama', 'California', 'Oklahoma', 'Florida']\n",
    "Sample Output:\n",
    "    ['lbm', 'clfrn', 'klhm', 'flrd'] \n",
    "\"\"\"\n",
    "\n",
    "state_name = [ 'Alabama', 'California', 'Oklahoma', 'Florida']\n",
    "vowel= ['A','E','I','O','U','a','e','i','o','u']\n",
    "lis2= []\n",
    "\n",
    "for name in state_name:\n",
    "    for c in name:\n",
    "        if c in vowel:\n",
    "            name= name.replace(c,'')\n",
    "    lis2.append(name)\n",
    "\n",
    "print(lis2)\n"
   ]
  }
 ],
 "metadata": {
  "kernelspec": {
   "display_name": "Python 3",
   "language": "python",
   "name": "python3"
  },
  "language_info": {
   "codemirror_mode": {
    "name": "ipython",
    "version": 3
   },
   "file_extension": ".py",
   "mimetype": "text/x-python",
   "name": "python",
   "nbconvert_exporter": "python",
   "pygments_lexer": "ipython3",
   "version": "3.7.4"
  }
 },
 "nbformat": 4,
 "nbformat_minor": 2
}
