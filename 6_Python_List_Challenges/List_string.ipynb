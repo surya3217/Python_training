{
 "cells": [
  {
   "cell_type": "markdown",
   "metadata": {},
   "source": [
    "### 01. Vowels Finder"
   ]
  },
  {
   "cell_type": "code",
   "execution_count": 1,
   "metadata": {},
   "outputs": [
    {
     "name": "stdout",
     "output_type": "stream",
     "text": [
      "['lbm', 'Clfrn', 'klhm', 'Flrd']\n"
     ]
    }
   ],
   "source": [
    "\"\"\"\n",
    "Problem Statement:\n",
    "    Remove all the vowels from the list of states\n",
    "Sample Input:\n",
    "    state_name = [ 'Alabama', 'California', 'Oklahoma', 'Florida']\n",
    "Sample Output:\n",
    "    ['lbm', 'clfrn', 'klhm', 'flrd'] \n",
    "\"\"\"\n",
    "\n",
    "state_name = [ 'Alabama', 'California', 'Oklahoma', 'Florida']\n",
    "vowel= ['A','E','I','O','U','a','e','i','o','u']\n",
    "lis2= []\n",
    "\n",
    "for name in state_name:\n",
    "    for c in name:\n",
    "        if c in vowel:\n",
    "            name= name.replace(c,'')\n",
    "    lis2.append(name)\n",
    "\n",
    "print(lis2)\n"
   ]
  },
  {
   "cell_type": "markdown",
   "metadata": {},
   "source": [
    "### 02. Pangram"
   ]
  },
  {
   "cell_type": "code",
   "execution_count": 6,
   "metadata": {},
   "outputs": [
    {
     "name": "stdout",
     "output_type": "stream",
     "text": [
      "Enter the string: Sphinx of black quartz, judge my vow.\n",
      "PANAGRAM\n"
     ]
    }
   ],
   "source": [
    "\"\"\"\n",
    "Problem Statement:\n",
    "    Write a Python function to check whether a string is PANGRAM or not\n",
    "Hint: \n",
    "    Pangrams are words or sentences containing every letter of the alphabet at least once.\n",
    "    For example: \"The quick brown fox jumps over the lazy dog\"  is a PANGRAM.  \n",
    "Sample Input:\n",
    "    The five boxing wizards jumps. \n",
    "    Sphinx of black quartz, judge my vow.\n",
    "    The jay, pig, fox, zebra and my wolves quack!\n",
    "    Pack my box with five dozen liquor jugs.\n",
    "Sample Output:\n",
    "    NOT PANGRAM \n",
    "    PANGRAM\n",
    "    PANGRAM\n",
    "    PANGRAM\n",
    "\"\"\"  \n",
    "def panagram(inp):    # function definition\n",
    "    flag= 0\n",
    "    str2= ''+ str1.lower()  # making lowercase string of input\n",
    "    for char in alph:       # checking for every character\n",
    "        if char in str2:\n",
    "            flag= 1\n",
    "        else:\n",
    "            flag= 0\n",
    "            break\n",
    "\n",
    "    print('PANAGRAM') if flag==1 else print('NOT PANAGRAM')\n",
    "\n",
    "\n",
    "str1= input('Enter the string: ')\n",
    "alph= 'abcdefghijklmnopqrstuvwxyz'  # string to compare with input string for lowercase only \n",
    "panagram(str2)     # calling the function\n"
   ]
  },
  {
   "cell_type": "code",
   "execution_count": null,
   "metadata": {},
   "outputs": [],
   "source": []
  }
 ],
 "metadata": {
  "kernelspec": {
   "display_name": "Python 3",
   "language": "python",
   "name": "python3"
  },
  "language_info": {
   "codemirror_mode": {
    "name": "ipython",
    "version": 3
   },
   "file_extension": ".py",
   "mimetype": "text/x-python",
   "name": "python",
   "nbconvert_exporter": "python",
   "pygments_lexer": "ipython3",
   "version": "3.7.4"
  }
 },
 "nbformat": 4,
 "nbformat_minor": 2
}
