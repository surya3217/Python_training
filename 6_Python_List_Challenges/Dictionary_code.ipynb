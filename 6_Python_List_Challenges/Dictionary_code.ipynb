{
 "cells": [
  {
   "cell_type": "markdown",
   "metadata": {},
   "source": [
    "### 01. List of File Names"
   ]
  },
  {
   "cell_type": "code",
   "execution_count": 2,
   "metadata": {},
   "outputs": [
    {
     "name": "stdout",
     "output_type": "stream",
     "text": [
      "{'data0001.txt': 1, 'data0002.txt': 2, 'data0003.txt': 3}\n"
     ]
    }
   ],
   "source": [
    "\"\"\"\n",
    "Problem Statement:\n",
    "    Assume you’re given the following list of files:\n",
    "    ist_of_files = ['data0001.txt', 'data0002.txt','data0003.txt']\n",
    "\n",
    "    Create a dictionary filenum where the keys are the filenames and the\n",
    "    value is the file number (i.e., data0001.txt has a file number of 1) \n",
    "    as an integer.\n",
    "\"\"\" \n",
    "\n",
    "files = ['data0001.txt', 'data0002.txt','data0003.txt']\n",
    "filenum= {}\n",
    "for index, x in enumerate(files,1):\n",
    "    filenum[x]= index\n",
    "\n",
    "print(filenum)\n"
   ]
  },
  {
   "cell_type": "markdown",
   "metadata": {},
   "source": [
    "### 02. Supermarket"
   ]
  },
  {
   "cell_type": "code",
   "execution_count": 1,
   "metadata": {},
   "outputs": [
    {
     "name": "stdout",
     "output_type": "stream",
     "text": [
      "Enter items and its net  price, like this \"CANDY 20\": \n",
      "\n",
      "APPLE JUICE 12\n",
      "POTATO CHIPS 30\n",
      "CANDY 5\n",
      "CANDY 5\n",
      "APPLE JUICE 20\n",
      "CANDY 5\n",
      "POTATO CHIPS 30\n",
      "\n",
      "OrderedDict([('APPLE JUICE', 32), ('POTATO CHIPS', 60), ('CANDY', 15)])\n"
     ]
    }
   ],
   "source": [
    "\"\"\"\n",
    "Problem Statement:\n",
    "    You are the manager of a supermarket. You have a list of items together with their \n",
    "    prices that consumers bought on a particular day. Your task is to print each item_name \n",
    "    and net_price in order of its first occurrence.   \n",
    "Hint: \n",
    "    item_name = Name of the item. \n",
    "    net_price = Quantity of the item sold multiplied by the price of each item.\n",
    "    try to use new class for dictionary : OrderedDict \n",
    "Sample Input:\n",
    "    BANANA FRIES 12\n",
    "    POTATO CHIPS 30\n",
    "    APPLE JUICE 10\n",
    "    CANDY 5\n",
    "    APPLE JUICE 10\n",
    "    CANDY 5\n",
    "    CANDY 5\n",
    "    CANDY 5\n",
    "    POTATO CHIPS 30\n",
    "Sample Output:\n",
    "    BANANA FRIES 12\n",
    "    POTATO CHIPS 60\n",
    "    APPLE JUICE 20\n",
    "    CANDY 20\n",
    "\"\"\" \n",
    "\n",
    "from collections import OrderedDict \n",
    "food= OrderedDict()   # OrderedDict preserves the order in which the keys are inserted\n",
    "\n",
    "print('Enter items and its net  price, like this \"CANDY 20\": \\n')\n",
    "while(True):\n",
    "    item= input()    # take input, if no input then break\n",
    "    if not item:\n",
    "        break \n",
    "\n",
    "    list1 = item.split()    # split item and price and converting price into integer\n",
    "    value = int(list1[-1])\n",
    "    key = \" \".join(list1[:-1])\n",
    "\n",
    "    food[key]= (food[key] +int(value)) if key in food else int(value)\n",
    "\n",
    "#for x in food:\n",
    "#    print(x,food[x])\n",
    "\n",
    "'''Or'''\n",
    "\n",
    "print(food)\n"
   ]
  },
  {
   "cell_type": "markdown",
   "metadata": {},
   "source": [
    "### 03. Teen Calculator"
   ]
  },
  {
   "cell_type": "code",
   "execution_count": 7,
   "metadata": {},
   "outputs": [
    {
     "name": "stdout",
     "output_type": "stream",
     "text": [
      "Enter string: {'a' : 2, 'b' : 15, 'c' : 13}\n",
      "Dictionary: {'a': 2, 'b': 15, 'c': 13}\n",
      "Desired sum: 17\n"
     ]
    }
   ],
   "source": [
    "\"\"\"\n",
    "Problem Statement:\n",
    "    Take dictionary as input from user with keys, a b c, with some integer values and\n",
    "    print their sum. However, if any of the values is a 'teen' in the range 13 to 19 \n",
    "    inclusive then that value counts as 0, except 15 and 16 do not count as a teens. \n",
    "    Write a separate helper \"def fix_teen(n):\"that takes in an int value and returns \n",
    "    that value fixed for the teen rule. In this way, you avoid repeating the teen code \n",
    "    3 times.\n",
    "Hint: \n",
    "    from ast import literal_eval\n",
    "    dict1 = literal_eval(\"{'a': 2, 'b' : 15, 'c' : 13}\") \n",
    "Sample Input:\n",
    "    {'a' : 2, 'b' : 15, 'c' : 13}\n",
    "Sample Output:\n",
    "    Sum = 17\n",
    "\"\"\" \n",
    "\n",
    "from ast import literal_eval\n",
    "\n",
    "def fix_teen(n):\n",
    "    if n in range(13,20) and (n not in (15,16)):\n",
    "        return 0\n",
    "    else:\n",
    "        return n\n",
    "\n",
    "\n",
    "dict1 = literal_eval(input('Enter string: '))    # convert input string to dictionary\n",
    "print('Dictionary:',dict1)\n",
    "sumd= 0       # sumd variable to add no.\n",
    "\n",
    "for x in dict1:\n",
    "    sumd += fix_teen(dict1[x])\n",
    "    \n",
    "print('Desired sum:',sumd)\n"
   ]
  },
  {
   "cell_type": "markdown",
   "metadata": {},
   "source": [
    "### 04. Character Frequency"
   ]
  },
  {
   "cell_type": "code",
   "execution_count": 8,
   "metadata": {},
   "outputs": [
    {
     "name": "stdout",
     "output_type": "stream",
     "text": [
      "Enter the string: www.google.com\n",
      "{'w': 3, '.': 2, 'g': 2, 'o': 3, 'l': 1, 'e': 1, 'c': 1, 'm': 1}\n"
     ]
    }
   ],
   "source": [
    "\"\"\"\n",
    "Problem Statement:\n",
    "    This program accepts a string from User and counts the number of characters \n",
    "    (character frequency) in the input string. \n",
    "Sample Input:\n",
    "    www.google.com\n",
    "Sample Output:\n",
    "    {'c': 1, 'e': 1, 'g': 2, 'm': 1, 'l': 1, 'o': 3, '.': 2, 'w': 3}\n",
    "\"\"\" \n",
    "\n",
    "str1= input('Enter the string: ')\n",
    "freq= {ch: 0 for ch in str1}   # dictionary comprehension\n",
    "\n",
    "for ch in str1:\n",
    "    freq[ch] += 1 \n",
    "\n",
    "print(freq)\n"
   ]
  },
  {
   "cell_type": "markdown",
   "metadata": {},
   "source": [
    "### 05. Letter Distribution"
   ]
  },
  {
   "cell_type": "code",
   "execution_count": 13,
   "metadata": {},
   "outputs": [
    {
     "name": "stdout",
     "output_type": "stream",
     "text": [
      "Enter the string: This is a test.Show me the distribution, already!\n",
      "\n",
      "Letter Distribution: \n",
      "t: 6 15%\n",
      "h: 3 7%\n",
      "i: 5 12%\n",
      "s: 5 12%\n",
      "a: 3 7%\n",
      "e: 4 10%\n",
      "o: 2 5%\n",
      "w: 1 2%\n",
      "m: 1 2%\n",
      "d: 2 5%\n",
      "r: 2 5%\n",
      "b: 1 2%\n",
      "u: 1 2%\n",
      "n: 1 2%\n",
      "l: 1 2%\n",
      "y: 1 2%\n"
     ]
    }
   ],
   "source": [
    "\"\"\" \n",
    "Problem Statement:\n",
    "    Display the distribution of letters from within the text.   \n",
    "Hint: \n",
    "    Use dictionaries to solve import string and use string.ascii_lowercase \n",
    "Algorithm:\n",
    "    Convert all letters to lowercase, Ignore characters that aren't lowercase letters\n",
    "    Create a dictionary in which the keys are letters and the values are the counts.\n",
    "Sample Input:\n",
    "    This is a test.Show me the distribution, already!\n",
    "Sample Output:\n",
    "    t: 6 15%\n",
    "    h: 3 7%\n",
    "    i: 5 12%\n",
    "    s: 5 12%\n",
    "    a: 3 7%\n",
    "    e: 4 10%\n",
    "    o: 2 5%\n",
    "    w: 1 2%\n",
    "    m: 1 2%\n",
    "    d: 2 5%\n",
    "    r: 2 5%\n",
    "    b: 1 2%\n",
    "    u: 1 2%\n",
    "    n: 1 2%\n",
    "    l: 1 2%\n",
    "    y: 1 2%\n",
    "\"\"\" \n",
    "\n",
    "import math\n",
    "import string\n",
    "\n",
    "str2= input('Enter the string: ').lower()\n",
    "\n",
    "freq= {ch: 0 for ch in str2 if ch in string.ascii_lowercase}\n",
    "\n",
    "for x in str2:\n",
    "    if x in string.ascii_lowercase:\n",
    "        freq[x] += 1 \n",
    "\n",
    "print()\n",
    "total= sum(freq.values())\n",
    "print('Letter Distribution: ')\n",
    "\n",
    "for key in freq:\n",
    "    print('{}: {} {}%'.format(key,freq[key],math.floor((freq[key]/total)*100) ))\n"
   ]
  },
  {
   "cell_type": "code",
   "execution_count": null,
   "metadata": {},
   "outputs": [],
   "source": []
  }
 ],
 "metadata": {
  "kernelspec": {
   "display_name": "Python 3",
   "language": "python",
   "name": "python3"
  },
  "language_info": {
   "codemirror_mode": {
    "name": "ipython",
    "version": 3
   },
   "file_extension": ".py",
   "mimetype": "text/x-python",
   "name": "python",
   "nbconvert_exporter": "python",
   "pygments_lexer": "ipython3",
   "version": "3.7.4"
  }
 },
 "nbformat": 4,
 "nbformat_minor": 2
}
