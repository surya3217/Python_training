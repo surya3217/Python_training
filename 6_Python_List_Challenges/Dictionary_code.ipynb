{
 "cells": [
  {
   "cell_type": "markdown",
   "metadata": {},
   "source": [
    "### 01. List of File Names"
   ]
  },
  {
   "cell_type": "code",
   "execution_count": 2,
   "metadata": {},
   "outputs": [
    {
     "name": "stdout",
     "output_type": "stream",
     "text": [
      "{'data0001.txt': 1, 'data0002.txt': 2, 'data0003.txt': 3}\n"
     ]
    }
   ],
   "source": [
    "\"\"\"\n",
    "Problem Statement:\n",
    "    Assume you’re given the following list of files:\n",
    "    ist_of_files = ['data0001.txt', 'data0002.txt','data0003.txt']\n",
    "\n",
    "    Create a dictionary filenum where the keys are the filenames and the\n",
    "    value is the file number (i.e., data0001.txt has a file number of 1) \n",
    "    as an integer.\n",
    "\"\"\" \n",
    "\n",
    "files = ['data0001.txt', 'data0002.txt','data0003.txt']\n",
    "filenum= {}\n",
    "for index, x in enumerate(files,1):\n",
    "    filenum[x]= index\n",
    "\n",
    "print(filenum)\n"
   ]
  },
  {
   "cell_type": "code",
   "execution_count": null,
   "metadata": {},
   "outputs": [],
   "source": []
  }
 ],
 "metadata": {
  "kernelspec": {
   "display_name": "Python 3",
   "language": "python",
   "name": "python3"
  },
  "language_info": {
   "codemirror_mode": {
    "name": "ipython",
    "version": 3
   },
   "file_extension": ".py",
   "mimetype": "text/x-python",
   "name": "python",
   "nbconvert_exporter": "python",
   "pygments_lexer": "ipython3",
   "version": "3.7.4"
  }
 },
 "nbformat": 4,
 "nbformat_minor": 2
}
