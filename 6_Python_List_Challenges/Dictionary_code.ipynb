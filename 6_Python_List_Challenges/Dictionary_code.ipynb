{
 "cells": [
  {
   "cell_type": "markdown",
   "metadata": {},
   "source": [
    "### 01. List of File Names"
   ]
  },
  {
   "cell_type": "code",
   "execution_count": 2,
   "metadata": {},
   "outputs": [
    {
     "name": "stdout",
     "output_type": "stream",
     "text": [
      "{'data0001.txt': 1, 'data0002.txt': 2, 'data0003.txt': 3}\n"
     ]
    }
   ],
   "source": [
    "\"\"\"\n",
    "Problem Statement:\n",
    "    Assume you’re given the following list of files:\n",
    "    ist_of_files = ['data0001.txt', 'data0002.txt','data0003.txt']\n",
    "\n",
    "    Create a dictionary filenum where the keys are the filenames and the\n",
    "    value is the file number (i.e., data0001.txt has a file number of 1) \n",
    "    as an integer.\n",
    "\"\"\" \n",
    "\n",
    "files = ['data0001.txt', 'data0002.txt','data0003.txt']\n",
    "filenum= {}\n",
    "for index, x in enumerate(files,1):\n",
    "    filenum[x]= index\n",
    "\n",
    "print(filenum)\n"
   ]
  },
  {
   "cell_type": "markdown",
   "metadata": {},
   "source": [
    "### 02. Supermarket"
   ]
  },
  {
   "cell_type": "code",
   "execution_count": 1,
   "metadata": {},
   "outputs": [
    {
     "name": "stdout",
     "output_type": "stream",
     "text": [
      "Enter items and its net  price, like this \"CANDY 20\": \n",
      "\n",
      "APPLE JUICE 12\n",
      "POTATO CHIPS 30\n",
      "CANDY 5\n",
      "CANDY 5\n",
      "APPLE JUICE 20\n",
      "CANDY 5\n",
      "POTATO CHIPS 30\n",
      "\n",
      "OrderedDict([('APPLE JUICE', 32), ('POTATO CHIPS', 60), ('CANDY', 15)])\n"
     ]
    }
   ],
   "source": [
    "\"\"\"\n",
    "Problem Statement:\n",
    "    You are the manager of a supermarket. You have a list of items together with their \n",
    "    prices that consumers bought on a particular day. Your task is to print each item_name \n",
    "    and net_price in order of its first occurrence.   \n",
    "Hint: \n",
    "    item_name = Name of the item. \n",
    "    net_price = Quantity of the item sold multiplied by the price of each item.\n",
    "    try to use new class for dictionary : OrderedDict \n",
    "Sample Input:\n",
    "    BANANA FRIES 12\n",
    "    POTATO CHIPS 30\n",
    "    APPLE JUICE 10\n",
    "    CANDY 5\n",
    "    APPLE JUICE 10\n",
    "    CANDY 5\n",
    "    CANDY 5\n",
    "    CANDY 5\n",
    "    POTATO CHIPS 30\n",
    "Sample Output:\n",
    "    BANANA FRIES 12\n",
    "    POTATO CHIPS 60\n",
    "    APPLE JUICE 20\n",
    "    CANDY 20\n",
    "\"\"\" \n",
    "\n",
    "from collections import OrderedDict \n",
    "food= OrderedDict()   # OrderedDict preserves the order in which the keys are inserted\n",
    "\n",
    "print('Enter items and its net  price, like this \"CANDY 20\": \\n')\n",
    "while(True):\n",
    "    item= input()    # take input, if no input then break\n",
    "    if not item:\n",
    "        break \n",
    "\n",
    "    list1 = item.split()    # split item and price and converting price into integer\n",
    "    value = int(list1[-1])\n",
    "    key = \" \".join(list1[:-1])\n",
    "\n",
    "    food[key]= (food[key] +int(value)) if key in food else int(value)\n",
    "\n",
    "#for x in food:\n",
    "#    print(x,food[x])\n",
    "\n",
    "'''Or'''\n",
    "\n",
    "print(food)\n"
   ]
  },
  {
   "cell_type": "code",
   "execution_count": null,
   "metadata": {},
   "outputs": [],
   "source": []
  }
 ],
 "metadata": {
  "kernelspec": {
   "display_name": "Python 3",
   "language": "python",
   "name": "python3"
  },
  "language_info": {
   "codemirror_mode": {
    "name": "ipython",
    "version": 3
   },
   "file_extension": ".py",
   "mimetype": "text/x-python",
   "name": "python",
   "nbconvert_exporter": "python",
   "pygments_lexer": "ipython3",
   "version": "3.7.4"
  }
 },
 "nbformat": 4,
 "nbformat_minor": 2
}
