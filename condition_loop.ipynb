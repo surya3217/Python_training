{
 "cells": [
  {
   "cell_type": "markdown",
   "metadata": {},
   "source": [
    "### 01  Area and Perimeter of Circle"
   ]
  },
  {
   "cell_type": "code",
   "execution_count": 3,
   "metadata": {},
   "outputs": [
    {
     "name": "stdout",
     "output_type": "stream",
     "text": [
      "Enter radius of circle(m): 5\n",
      "Area: 78.5398 m² \n",
      "Parameter: 31.4159 m\n"
     ]
    }
   ],
   "source": [
    "import math\n",
    "\n",
    "rad= float(input('Enter radius of circle(m): '))\n",
    "area= math.pi*rad*rad\n",
    "para= 2*math.pi*rad\n",
    "print('Area: {:.4f} m\\u00b2 \\nParameter: {:.4f} m'.format(area,para))\n"
   ]
  },
  {
   "cell_type": "markdown",
   "metadata": {},
   "source": [
    "### 02 Factorial of a number"
   ]
  },
  {
   "cell_type": "code",
   "execution_count": 1,
   "metadata": {},
   "outputs": [
    {
     "name": "stdout",
     "output_type": "stream",
     "text": [
      "Enter the number: 5\n",
      "120\n",
      "120\n"
     ]
    }
   ],
   "source": [
    "import math\n",
    "num= int(input('Enter the number: '))\n",
    "fact= 1\n",
    "for i in range(1,num+1):\n",
    "    fact= fact*i\n",
    "print(fact)\n",
    "\n",
    "'''OR'''\n",
    "print(math.factorial(num))\n"
   ]
  },
  {
   "cell_type": "markdown",
   "metadata": {},
   "source": [
    "### 03 Classification of people"
   ]
  },
  {
   "cell_type": "code",
   "execution_count": 10,
   "metadata": {},
   "outputs": [
    {
     "name": "stdout",
     "output_type": "stream",
     "text": [
      "Enter age: 5\n",
      "Child\n"
     ]
    }
   ],
   "source": [
    "# Take the age as input from the user and print whether he is a \n",
    "# infant, Child, Adult, Senior Citizen\n",
    "# 0 - 1 is Infant\n",
    "# > 1 and < than 18 is Child \n",
    "# > 18 and < 60 is Adult\n",
    "# > 60 is Senior Citizen \n",
    "\n",
    "age= int(input('Enter age: '))\n",
    "\n",
    "if age>=0 and age<=1:\n",
    "    print('Infant')\n",
    "elif age>1 and age<18:\n",
    "    print('Child')\n",
    "elif age>=18 and age<60:\n",
    "    print('Adult')\n",
    "elif age>=60:\n",
    "    print('Senior Citizen')\n",
    "else:\n",
    "    print('Wrong input')\n"
   ]
  },
  {
   "cell_type": "markdown",
   "metadata": {},
   "source": [
    "### 04 Fizz Buzz"
   ]
  },
  {
   "cell_type": "code",
   "execution_count": 6,
   "metadata": {},
   "outputs": [
    {
     "name": "stdout",
     "output_type": "stream",
     "text": [
      "1\n",
      "2\n",
      "Fizz\n",
      "4\n",
      "Buzz\n",
      "Fizz\n",
      "7\n",
      "8\n",
      "Fizz\n",
      "Buzz\n",
      "11\n",
      "Fizz\n",
      "13\n",
      "14\n",
      "FizzBuzz\n",
      "16\n",
      "17\n",
      "Fizz\n",
      "19\n",
      "Buzz\n",
      "Fizz\n",
      "22\n",
      "23\n",
      "Fizz\n",
      "Buzz\n",
      "26\n",
      "Fizz\n",
      "28\n",
      "29\n",
      "FizzBuzz\n",
      "31\n",
      "32\n",
      "Fizz\n",
      "34\n",
      "Buzz\n",
      "Fizz\n",
      "37\n",
      "38\n",
      "Fizz\n",
      "Buzz\n",
      "41\n",
      "Fizz\n",
      "43\n",
      "44\n",
      "FizzBuzz\n",
      "46\n",
      "47\n",
      "Fizz\n",
      "49\n",
      "Buzz\n"
     ]
    }
   ],
   "source": [
    "# Write a Python program which iterates the integers from 1 to 50(included). \n",
    "# For multiples of 3 print \"Fizz\" instead of the number and for the multiples of 5 \n",
    "# print \"Buzz\". For numbers which are multiples of both 3 and 5 print \"FizzBuzz\". \n",
    "\n",
    "for x in range(1,51):\n",
    "    if x%3==0 and x%5==0:\n",
    "        print('FizzBuzz')\n",
    "    elif x%3==0:\n",
    "        print('Fizz')\n",
    "    elif x%5==0:\n",
    "        print('Buzz')\n",
    "    else:\n",
    "        print(x)\n"
   ]
  },
  {
   "cell_type": "markdown",
   "metadata": {},
   "source": [
    "### 05 while loop"
   ]
  },
  {
   "cell_type": "code",
   "execution_count": 14,
   "metadata": {},
   "outputs": [
    {
     "name": "stdout",
     "output_type": "stream",
     "text": [
      "1 2 3 4 5 6 7 8 9 10 \n",
      "\n",
      "1 2 3 4 5 6 7 8 9 10 "
     ]
    }
   ],
   "source": [
    "# Print all the numbers from 1 to 10 using condition in while loop\n",
    "i=1\n",
    "while(i<=10):\n",
    "    print(i,end=\" \")\n",
    "    i=i+1\n",
    "print('\\n')\n",
    "\n",
    "\n",
    "# Print all the numbers from 1 to 10 using while True loop\n",
    "i=1\n",
    "while(True):\n",
    "    if i<=10:\n",
    "        print(i,end=\" \")\n",
    "    else:\n",
    "        break\n",
    "    i=i+1"
   ]
  },
  {
   "cell_type": "code",
   "execution_count": 15,
   "metadata": {},
   "outputs": [
    {
     "name": "stdout",
     "output_type": "stream",
     "text": [
      "2 4 6 8 10 \n",
      "\n",
      "2 4 6 8 10 "
     ]
    }
   ],
   "source": [
    "# Print all the even numbers from 1 to 10 using condition in while loop\n",
    "i=2\n",
    "while(i<=10):\n",
    "    print(i,end=\" \")\n",
    "    i=i+2\n",
    "print('\\n')\n",
    "\n",
    "# Print all the even numbers from 1 to 10 using while True loop\n",
    "i=2\n",
    "while(True):\n",
    "    if i<=10:\n",
    "        print(i,end=\" \")\n",
    "    else:\n",
    "        break\n",
    "    i=i+2"
   ]
  },
  {
   "cell_type": "code",
   "execution_count": 16,
   "metadata": {},
   "outputs": [
    {
     "name": "stdout",
     "output_type": "stream",
     "text": [
      "1 3 5 7 9 \n",
      "\n",
      "1 3 5 7 9 "
     ]
    }
   ],
   "source": [
    "# Print all the odd numbers from 1 to 10 using condition in while loop\n",
    "i=1\n",
    "while(i<=10):\n",
    "    print(i,end=\" \")\n",
    "    i=i+2\n",
    "print('\\n')\n",
    "\n",
    "# Print all the odd numbers from 1 to 10 using while True loop\n",
    "i=1\n",
    "while(True):\n",
    "    if i<=10:\n",
    "        print(i,end=\" \")\n",
    "    else:\n",
    "        break\n",
    "    i=i+2\n"
   ]
  },
  {
   "cell_type": "code",
   "execution_count": null,
   "metadata": {},
   "outputs": [],
   "source": []
  }
 ],
 "metadata": {
  "kernelspec": {
   "display_name": "Python 3",
   "language": "python",
   "name": "python3"
  },
  "language_info": {
   "codemirror_mode": {
    "name": "ipython",
    "version": 3
   },
   "file_extension": ".py",
   "mimetype": "text/x-python",
   "name": "python",
   "nbconvert_exporter": "python",
   "pygments_lexer": "ipython3",
   "version": "3.7.4"
  }
 },
 "nbformat": 4,
 "nbformat_minor": 2
}
