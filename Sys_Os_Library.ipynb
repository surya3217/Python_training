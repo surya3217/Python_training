{
 "cells": [
  {
   "cell_type": "markdown",
   "metadata": {},
   "source": [
    "## Sys Module"
   ]
  },
  {
   "cell_type": "code",
   "execution_count": 41,
   "metadata": {},
   "outputs": [],
   "source": [
    "import sys"
   ]
  },
  {
   "cell_type": "code",
   "execution_count": null,
   "metadata": {},
   "outputs": [],
   "source": [
    "'''\n",
    "The sys module provides information about constants, functions and methods of the Python interpreter.\n",
    "'''"
   ]
  },
  {
   "cell_type": "code",
   "execution_count": 1,
   "metadata": {},
   "outputs": [
    {
     "data": {
      "text/plain": [
       "'3.7.4 (default, Aug  9 2019, 18:34:13) [MSC v.1915 64 bit (AMD64)]'"
      ]
     },
     "execution_count": 1,
     "metadata": {},
     "output_type": "execute_result"
    }
   ],
   "source": [
    "'''\n",
    "version \tVersion number of the Python interpreter \n",
    "'''\n",
    "sys.version\n"
   ]
  },
  {
   "cell_type": "code",
   "execution_count": 2,
   "metadata": {},
   "outputs": [
    {
     "data": {
      "text/plain": [
       "sys.version_info(major=3, minor=7, micro=4, releaselevel='final', serial=0)"
      ]
     },
     "execution_count": 2,
     "metadata": {},
     "output_type": "execute_result"
    }
   ],
   "source": [
    "sys.version_info\n"
   ]
  },
  {
   "cell_type": "code",
   "execution_count": null,
   "metadata": {},
   "outputs": [],
   "source": [
    "'''\n",
    "Lots of scripts need access to the arguments passed to the script, when the script was started.\n",
    "\n",
    "argvargv (or to be precise sys.argv) is a list, which contains the command-line arguments passed to the script. \n",
    "The first item of this list contains the name of the script itself. The arguments follow the script name.\n",
    "'''"
   ]
  },
  {
   "cell_type": "code",
   "execution_count": 8,
   "metadata": {},
   "outputs": [
    {
     "name": "stdout",
     "output_type": "stream",
     "text": [
      "['C:\\\\Users\\\\Windows10\\\\Anaconda3\\\\lib\\\\site-packages\\\\ipykernel_launcher.py', '-f', 'C:\\\\Users\\\\Windows10\\\\AppData\\\\Roaming\\\\jupyter\\\\runtime\\\\kernel-5086b7a3-aa62-4af1-9c54-9e2eae5633d8.json']\n",
      "\n",
      "Function name: C:\\Users\\Windows10\\Anaconda3\\lib\\site-packages\\ipykernel_launcher.py\n",
      "1. argument: -f\n",
      "2. argument: C:\\Users\\Windows10\\AppData\\Roaming\\jupyter\\runtime\\kernel-5086b7a3-aa62-4af1-9c54-9e2eae5633d8.json\n"
     ]
    }
   ],
   "source": [
    "\n",
    "# it's easy to print this list of course:\n",
    "print(sys.argv)\n",
    "print()\n",
    "\n",
    "# or it can be iterated via a for loop:\n",
    "for i in range(len(sys.argv)):\n",
    "    if i == 0:\n",
    "        print( \"Function name: %s\" % sys.argv[0])\n",
    "    else:\n",
    "        print( \"%d. argument: %s\" % (i,sys.argv[i]) )\n",
    "        "
   ]
  },
  {
   "cell_type": "code",
   "execution_count": null,
   "metadata": {},
   "outputs": [],
   "source": [
    "'''\n",
    "To change the way the interpreter prints interactively entered expressions, you will have to rebind \n",
    "sys.displayhook: to a callable object. \n",
    "'''"
   ]
  },
  {
   "cell_type": "code",
   "execution_count": 9,
   "metadata": {},
   "outputs": [
    {
     "data": {
      "text/plain": [
       "42"
      ]
     },
     "execution_count": 9,
     "metadata": {},
     "output_type": "execute_result"
    }
   ],
   "source": [
    "x = 42\n",
    "x"
   ]
  },
  {
   "cell_type": "code",
   "execution_count": 18,
   "metadata": {},
   "outputs": [
    {
     "name": "stdout",
     "output_type": "stream",
     "text": [
      "out:  9\n"
     ]
    }
   ],
   "source": [
    "\n",
    "def my_display(x):\n",
    "    print( \"out: \", x)\n",
    "\n",
    "sys.displayhook = my_display   # can change only the output behaviour \n",
    "x\n",
    "\n",
    "a= 2+3+4\n",
    "a"
   ]
  },
  {
   "cell_type": "code",
   "execution_count": 16,
   "metadata": {},
   "outputs": [
    {
     "name": "stdout",
     "output_type": "stream",
     "text": [
      "42\n"
     ]
    }
   ],
   "source": [
    "print(x)   ## fucntion behaviour will remain same"
   ]
  },
  {
   "cell_type": "markdown",
   "metadata": {},
   "source": [
    "### Standard data streams"
   ]
  },
  {
   "cell_type": "code",
   "execution_count": null,
   "metadata": {},
   "outputs": [],
   "source": [
    "'''\n",
    "The standard input (stdin) is normally connected to the keyboard, while the standard error and standard output \n",
    "go to the terminal (or window) in which you are working.\n",
    "\n",
    "These data streams can be accessed from Python via the objects of the sys module with the same names, i.e. \n",
    "sys.stdin, sys.stdout and sys.stderr. \n",
    "'''"
   ]
  },
  {
   "cell_type": "code",
   "execution_count": 19,
   "metadata": {},
   "outputs": [
    {
     "name": "stdout",
     "output_type": "stream",
     "text": [
      "<_io.TextIOWrapper name='<stdin>' mode='r' encoding='cp1252'>\n",
      "<ipykernel.iostream.OutStream object at 0x0000018DCD2643C8>\n",
      "<ipykernel.iostream.OutStream object at 0x0000018DCD264288>\n"
     ]
    }
   ],
   "source": [
    "for i in (sys.stdin, sys.stdout, sys.stderr):\n",
    "    print(i)\n",
    "    "
   ]
  },
  {
   "cell_type": "code",
   "execution_count": 31,
   "metadata": {},
   "outputs": [
    {
     "name": "stdout",
     "output_type": "stream",
     "text": [
      "Going via stdout\n",
      "Another way to do it!\n"
     ]
    }
   ],
   "source": [
    "\n",
    "print( \"Going via stdout\")\n",
    "sys.stdout.write(\"Another way to do it!\\n\")  ## can also print using 'sys library'\n"
   ]
  },
  {
   "cell_type": "code",
   "execution_count": 32,
   "metadata": {},
   "outputs": [
    {
     "name": "stdout",
     "output_type": "stream",
     "text": [
      "read value via stdin: 42\n",
      "42\n",
      "type in value:  \n"
     ]
    }
   ],
   "source": [
    "x = input(\"read value via stdin: \")\n",
    "print(x)\n",
    "\n",
    "print( \"type in value: \", sys.stdin.readline() )\n",
    "\n",
    "# type in value: 42\n",
    "# '42'\n"
   ]
  },
  {
   "cell_type": "markdown",
   "metadata": {},
   "source": [
    "### Redirections"
   ]
  },
  {
   "cell_type": "code",
   "execution_count": null,
   "metadata": {},
   "outputs": [],
   "source": [
    "'''\n",
    "The standard output (stdout) can be redirected e.g. into a file, so that we can process this file later with \n",
    "another program. The same is possible with the standard error stream, we can redirect it into a file as well. \n",
    "We can redirect both stderr and stdout into the same file or into separate files. \n",
    "'''"
   ]
  },
  {
   "cell_type": "code",
   "execution_count": 36,
   "metadata": {},
   "outputs": [
    {
     "name": "stdout",
     "output_type": "stream",
     "text": [
      "Coming through stdout\n"
     ]
    }
   ],
   "source": [
    "import sys\n",
    "\n",
    "print(\"Coming through stdout\")\n",
    "\n",
    "# stdout is saved\n",
    "save_stdout = sys.stdout\n",
    "# save_stdout\n",
    "\n",
    "## terminal output between fh and fh.clos, goes to text file\n",
    "fh = open(\"test.txt\",\"w\")\n",
    "\n",
    "sys.stdout = fh\n",
    "print(\"This line goes to test.txt\")\n",
    "\n",
    "# return to normal:\n",
    "sys.stdout = save_stdout\n",
    "\n",
    "fh.close()\n"
   ]
  },
  {
   "cell_type": "code",
   "execution_count": 37,
   "metadata": {},
   "outputs": [
    {
     "data": {
      "text/plain": [
       "'little'"
      ]
     },
     "execution_count": 37,
     "metadata": {},
     "output_type": "execute_result"
    }
   ],
   "source": [
    "'''\n",
    "byteorder \tAn indicator of the native byte order.\n",
    "'big' on big-endian (most-significant byte first) platforms,\n",
    "'little' on little-endian (least-significant byte first)\n",
    "'''\n",
    "sys.byteorder\n"
   ]
  },
  {
   "cell_type": "code",
   "execution_count": 38,
   "metadata": {},
   "outputs": [
    {
     "data": {
      "text/plain": [
       "'C:\\\\Users\\\\Windows10\\\\Anaconda3\\\\python.exe'"
      ]
     },
     "execution_count": 38,
     "metadata": {},
     "output_type": "execute_result"
    }
   ],
   "source": [
    "'''\n",
    "executable \t A string containing the name of the executable binary (path and executable file name) \n",
    "for the Python interpreter. \n",
    "'''\n",
    "sys.executable\n"
   ]
  },
  {
   "cell_type": "code",
   "execution_count": 39,
   "metadata": {},
   "outputs": [
    {
     "data": {
      "text/plain": [
       "['C:\\\\Users\\\\Windows10\\\\Desktop\\\\Python_training\\\\Python_training',\n",
       " 'C:\\\\Users\\\\Windows10\\\\Desktop\\\\Python_training\\\\ML-AI',\n",
       " 'C:\\\\Users\\\\Windows10\\\\Anaconda3\\\\python37.zip',\n",
       " 'C:\\\\Users\\\\Windows10\\\\Anaconda3\\\\DLLs',\n",
       " 'C:\\\\Users\\\\Windows10\\\\Anaconda3\\\\lib',\n",
       " 'C:\\\\Users\\\\Windows10\\\\Anaconda3',\n",
       " '',\n",
       " 'C:\\\\Users\\\\Windows10\\\\Anaconda3\\\\lib\\\\site-packages',\n",
       " 'C:\\\\Users\\\\Windows10\\\\Anaconda3\\\\lib\\\\site-packages\\\\win32',\n",
       " 'C:\\\\Users\\\\Windows10\\\\Anaconda3\\\\lib\\\\site-packages\\\\win32\\\\lib',\n",
       " 'C:\\\\Users\\\\Windows10\\\\Anaconda3\\\\lib\\\\site-packages\\\\Pythonwin',\n",
       " 'C:\\\\Users\\\\Windows10\\\\Anaconda3\\\\lib\\\\site-packages\\\\IPython\\\\extensions',\n",
       " 'C:\\\\Users\\\\Windows10\\\\.ipython']"
      ]
     },
     "execution_count": 39,
     "metadata": {},
     "output_type": "execute_result"
    }
   ],
   "source": [
    "'''\n",
    "path \tContains the search pyth, where Python is looking for modules. \n",
    "'''\n",
    "sys.path"
   ]
  },
  {
   "cell_type": "code",
   "execution_count": 40,
   "metadata": {},
   "outputs": [
    {
     "data": {
      "text/plain": [
       "'win32'"
      ]
     },
     "execution_count": 40,
     "metadata": {},
     "output_type": "execute_result"
    }
   ],
   "source": [
    "'''\n",
    "platform \tName of the platform on which Python is running, e.g. \"linux2\" for Linux and \"win32\" for Windows \n",
    "'''\n",
    "sys.platform\n"
   ]
  },
  {
   "cell_type": "code",
   "execution_count": null,
   "metadata": {},
   "outputs": [],
   "source": []
  },
  {
   "cell_type": "markdown",
   "metadata": {},
   "source": [
    "### OS Module"
   ]
  },
  {
   "cell_type": "code",
   "execution_count": null,
   "metadata": {},
   "outputs": [],
   "source": [
    "'''\n",
    "It is possible to automatically perform many operating system tasks. The OS module in Python provides functions\n",
    "for creating and removing a directory (folder), fetching its contents, changing and identifying the current directory, \n",
    "etc. \n",
    "'''"
   ]
  },
  {
   "cell_type": "code",
   "execution_count": 42,
   "metadata": {},
   "outputs": [],
   "source": [
    "import os"
   ]
  },
  {
   "cell_type": "code",
   "execution_count": 56,
   "metadata": {},
   "outputs": [],
   "source": [
    "'''create a new directory using the mkdir() function\n",
    "new directory corresponding to the path in the string argument\n",
    "'''\n",
    "os.mkdir(\"C:\\\\Users\\\\Windows10\\\\Desktop\\\\tempdir\")   ## use two backslash, folder name: tempdir\n"
   ]
  },
  {
   "cell_type": "code",
   "execution_count": 51,
   "metadata": {},
   "outputs": [],
   "source": [
    "'''change the current working directory'''\n",
    "os.chdir(\"C:\\\\Users\\\\Windows10\\\\Desktop\") \n"
   ]
  },
  {
   "cell_type": "code",
   "execution_count": 52,
   "metadata": {},
   "outputs": [
    {
     "data": {
      "text/plain": [
       "'C:\\\\Users\\\\Windows10\\\\Desktop'"
      ]
     },
     "execution_count": 52,
     "metadata": {},
     "output_type": "execute_result"
    }
   ],
   "source": [
    "os.getcwd()  ## givr current working directory"
   ]
  },
  {
   "cell_type": "code",
   "execution_count": 60,
   "metadata": {},
   "outputs": [],
   "source": [
    "'''rmdir() function in the OS module removes the specified directory'''\n",
    "os.chdir(\"C:\\\\Users\\\\Windows10\\\\Desktop\") \n"
   ]
  },
  {
   "cell_type": "code",
   "execution_count": 63,
   "metadata": {},
   "outputs": [],
   "source": [
    "os.rmdir(\"tempdir\")\n"
   ]
  },
  {
   "cell_type": "code",
   "execution_count": null,
   "metadata": {},
   "outputs": [],
   "source": []
  },
  {
   "cell_type": "code",
   "execution_count": 65,
   "metadata": {},
   "outputs": [
    {
     "data": {
      "text/plain": [
       "'listdir() function returns the list of all files and directories in the specified directory.'"
      ]
     },
     "execution_count": 65,
     "metadata": {},
     "output_type": "execute_result"
    }
   ],
   "source": [
    "'''listdir() function returns the list of all files and directories in the specified directory.'''\n",
    "\n",
    "os.listdir()"
   ]
  },
  {
   "cell_type": "code",
   "execution_count": null,
   "metadata": {},
   "outputs": [],
   "source": [
    "'''\n",
    "chflags() sets path flags to the numeric flags. These flags may take a combination(bitwise OR) of the following values:\n",
    "\n",
    "    os.UF_NODUMP – Don’t dump the file\n",
    "    os.UF_IMMUTABLE − You may not change the file\n",
    "    os.SF_NOUNLINK – You may not rename or delete the file\n",
    "    etc.\n",
    "'''\n",
    "\n",
    "os.chflags('Today.txt',os.SF_NOUNLINK)\n"
   ]
  },
  {
   "cell_type": "code",
   "execution_count": null,
   "metadata": {},
   "outputs": [],
   "source": [
    "'''chroot Python os Module alters the current process’ root directory to the given path. To use this, we need \n",
    "super-user privileges.'''\n",
    "os.chroot(\"/Photos\")\n"
   ]
  },
  {
   "cell_type": "code",
   "execution_count": null,
   "metadata": {},
   "outputs": [],
   "source": []
  },
  {
   "cell_type": "code",
   "execution_count": null,
   "metadata": {},
   "outputs": [],
   "source": []
  }
 ],
 "metadata": {
  "kernelspec": {
   "display_name": "Python 3",
   "language": "python",
   "name": "python3"
  },
  "language_info": {
   "codemirror_mode": {
    "name": "ipython",
    "version": 3
   },
   "file_extension": ".py",
   "mimetype": "text/x-python",
   "name": "python",
   "nbconvert_exporter": "python",
   "pygments_lexer": "ipython3",
   "version": "3.7.4"
  }
 },
 "nbformat": 4,
 "nbformat_minor": 2
}
