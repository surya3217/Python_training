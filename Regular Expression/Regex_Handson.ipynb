{
 "cells": [
  {
   "cell_type": "markdown",
   "metadata": {},
   "source": [
    "### Simpsons Phone Book"
   ]
  },
  {
   "cell_type": "code",
   "execution_count": 1,
   "metadata": {},
   "outputs": [
    {
     "name": "stdout",
     "output_type": "stream",
     "text": [
      "code challanges\n",
      "\n",
      "4  \n",
      "4.000\n",
      "-1.00\n",
      "+4.54\n",
      "\n",
      "lara@hackerrank.com\n",
      "brian-23@hackerrank.com\n",
      "britts_54@hackerrank.com\n",
      "\n",
      "4123456789123456\n",
      "5123-4567-8912-5555\n",
      "61234-567-8912-3456\n",
      "4123356789123456\n",
      "5133-3367 -8912-3456\n",
      "5123 - 3567 - 8912 - 3456\n",
      "\n",
      "ajeet@forsk.com\n",
      "kunal-23@forsk.com\n",
      "yogendra_54@forsk.com\n",
      "\n",
      "\n",
      "\n",
      "11111131\n",
      "12\n",
      "1\n",
      "\n",
      "A cat and a rat can't be friends. but cat and dog can\n",
      "Forsk forsk Summer Bootcamp\n",
      "\n",
      "Start a sentence and then bring it to end after the Start\"\n",
      "\n",
      "Jack Neu 555-7666\n",
      "Jeb Neu 555-5543\n",
      "Jennifer Neu 555-3652\n",
      "J Neu 555-7666\n",
      "JNeu 555-7666\n",
      "\n",
      "321-555-4321\n",
      "123.555.1234\n",
      "123*555*1234\n",
      "321â€“555--4321\n",
      "900-555-1234\n",
      "800-555-1234\n",
      "\n",
      "Mr. Sylvester\n",
      "Mr Smith\n",
      "Ms Davis\n",
      "Mrs. Robinson\n",
      "Mr. T\n",
      "\n",
      "SylvesterFernandes@gmail.com\n",
      "sylvester.fernandes@university.edu\n",
      "sylvester-321-fernandes@my-work.net\n",
      "\n",
      "https://www.google.com\n",
      "http://forsk.in\n",
      "https://youtube.com\n",
      "https://www.nasa.gov\n",
      "\n",
      "\n",
      "+9999999999\n",
      "999999-999\n",
      "99999x9999\n",
      "\n",
      "\n",
      "\n",
      "\n",
      "['Jack Neu 555-7666', 'Jeb Neu 555-5543', 'Jennifer Neu 555-3652', 'J Neu 555-7666']\n"
     ]
    }
   ],
   "source": [
    "\"\"\"\n",
    " Problem Statement:\n",
    "    There are some people with the surname Neu. \n",
    "    We are looking for a Neu, but we don't know the first name, \n",
    "    we just know that it starts with a J. \n",
    "    Let's write a Python script, which finds all the lines of the phone book, \n",
    "    which contain a person with the described surname and a first name starting with J. \n",
    " Hint: \n",
    "     Use Regular Expressions \n",
    "     re.search(r\"J.*Neu\",line)  \n",
    " Solution:\n",
    "     Jack Neu 555-7666\n",
    "     Jeb Neu 555-5543\n",
    "     Jennifer Neu 555-3652\n",
    "\"\"\"\n",
    "\n",
    "import re\n",
    "\n",
    "f= open(\"temp\",'rt')\n",
    "file_contents = f.read()\n",
    "print(file_contents)\n",
    "\n",
    "x= re.findall(r\"J.+Neu.*\",file_contents)\n",
    "print(x)\n",
    "\n",
    "f.close()\n"
   ]
  },
  {
   "cell_type": "markdown",
   "metadata": {},
   "source": [
    "### Regular Expression 1"
   ]
  },
  {
   "cell_type": "code",
   "execution_count": 2,
   "metadata": {},
   "outputs": [
    {
     "name": "stdout",
     "output_type": "stream",
     "text": [
      "['4', '4.000', '-1.00', '+4.54', '-23', '54', '4123456789123456', '5123', '-4567', '-8912', '-5555', '61234', '-567', '-8912', '-3456', '4123356789123456', '5133', '-3367', '-8912', '-3456', '5123', '3567', '8912', '3456', '-23', '54', '11111131', '12', '1', '555', '-7666', '555', '-5543', '555', '-3652', '555', '-7666', '555', '-7666', '321', '-555', '-4321', '123.555', '.1234', '123', '555', '1234', '321', '555', '-4321', '900', '-555', '-1234', '800', '-555', '-1234', '-321', '+9999999999', '999999', '-999', '99999', '9999']\n"
     ]
    }
   ],
   "source": [
    "\"\"\"\n",
    "  Problem Statement:\n",
    "    You are given a string N. Your task is to verify that N is a floating point number.\n",
    "\n",
    "    In this task, a valid float number must satisfy all of the following \n",
    "    requirements: Number can start with +, - or . symbol.\n",
    "  Hint: \n",
    "    Using Regular Expression \n",
    "  Input:\n",
    "    4  \n",
    "    4.000\n",
    "    -1.00\n",
    "    +4.54\n",
    "  Output:\n",
    "    False\n",
    "    True\n",
    "    True\n",
    "    True\n",
    "\"\"\"\n",
    "\n",
    "import re\n",
    "\n",
    "f= open(\"temp\",'r')\n",
    "contents = f.read()\n",
    "# print(contents)\n",
    "\n",
    "x= re.findall(r\"[-+]?\\d*\\.?\\d+\", contents)\n",
    "print(x)\n"
   ]
  },
  {
   "cell_type": "markdown",
   "metadata": {},
   "source": [
    "### Regular Expression 2"
   ]
  },
  {
   "cell_type": "code",
   "execution_count": 4,
   "metadata": {},
   "outputs": [
    {
     "name": "stdout",
     "output_type": "stream",
     "text": [
      "['lara@hackerrank.com', 'brian-23@hackerrank.com', 'britts_54@hackerrank.com', 'ajeet@forsk.com', 'kunal-23@forsk.com', 'yogendra_54@forsk.com', 'SylvesterFernandes@gmail.com', 'fernandes@university.edu']\n"
     ]
    }
   ],
   "source": [
    "\"\"\"\n",
    "  Problem Statement:\n",
    "    You are given N email addresses. \n",
    "    Your task is to print a list containing only valid email addresses in alphabetical order.\n",
    "    Valid email addresses must follow these rules:\n",
    "\n",
    "    It must have the username@websitename.extension format type.\n",
    "    The username can only contain letters, digits, dashes and underscores.\n",
    "    The website name can only have letters and digits.\n",
    "    The minimum length is 2 and maximum length of the extension is 4. \n",
    "  Hint: \n",
    "    Using Regular Expression \n",
    "  Input:\n",
    "    lara@hackerrank.com\n",
    "    brian-23@hackerrank.com\n",
    "    britts_54@hackerrank.com\n",
    "  Output:\n",
    "    ['brian-23@hackerrank.com', 'britts_54@hackerrank.com', 'lara@hackerrank.com']\n",
    "\"\"\"\n",
    "\n",
    "import re\n",
    "\n",
    "with open('temp','r') as fp:\n",
    "    content= fp.read()\n",
    "\n",
    "pattern= r'[\\w-]+@[a-zA-Z0-9]+\\..{2,4}'\n",
    "\n",
    "x= re.findall(pattern, content)\n",
    "\n",
    "print(x)\n",
    "# print(len(x))\n"
   ]
  },
  {
   "cell_type": "markdown",
   "metadata": {},
   "source": [
    "### Regular Expression 3"
   ]
  },
  {
   "cell_type": "code",
   "execution_count": 1,
   "metadata": {},
   "outputs": [
    {
     "name": "stdout",
     "output_type": "stream",
     "text": [
      "Valid credit vard: \n",
      "['4123456789123456', '5123-4567-8912-5555', '4123356789123456']\n"
     ]
    }
   ],
   "source": [
    "\"\"\"\n",
    "  Problem Statement:\n",
    "    You and Virat are good friends. \n",
    "    Yesterday, Virat received credit cards from ABCD Bank. \n",
    "    He wants to verify whether his credit card numbers are valid or not. \n",
    "    You happen to be great at regex so he is asking for your help!\n",
    "\n",
    "    A valid credit card from ABCD Bank has the following characteristics:\n",
    "\n",
    "    It must start with a '4', '5' or ' 6'.\n",
    "    It must contain exactly 16 digits\n",
    "    It must only consist of digits (0-9)\n",
    "    It may have digits in groups of 4, separated by one hyphen \"-\"\n",
    "    It must NOT use any other separator like ', ' , '_', etc\n",
    "    It must NOT have 4 or more consecutive repeated digits \n",
    " \n",
    "  Hint: \n",
    "    Using Regular Expression \n",
    "  Input:\n",
    "    4123456789123456\n",
    "    5123-4567-8912-3456\n",
    "    61234-567-8912-3456\n",
    "    4123356789123456\n",
    "    5133-3367 -8912-3456\n",
    "    5123 - 3567 - 8912 - 3456\n",
    "  Output:\n",
    "    Valid\n",
    "    Valid\n",
    "    Invalid\n",
    "    Valid\n",
    "    Invalid\n",
    "    Invalid\n",
    "\"\"\"\n",
    "\n",
    "import re\n",
    "with open('temp','r') as fp:\n",
    "    content= fp.read()\n",
    "\n",
    "pattern= r\"[456]\\d{3}-?\\d{4}-?\\d{4}-?\\d{4}\"\n",
    "\n",
    "x= re.findall(pattern, content)\n",
    "\n",
    "print(\"Valid credit vard: \")\n",
    "print(x)\n"
   ]
  }
 ],
 "metadata": {
  "kernelspec": {
   "display_name": "Python 3",
   "language": "python",
   "name": "python3"
  },
  "language_info": {
   "codemirror_mode": {
    "name": "ipython",
    "version": 3
   },
   "file_extension": ".py",
   "mimetype": "text/x-python",
   "name": "python",
   "nbconvert_exporter": "python",
   "pygments_lexer": "ipython3",
   "version": "3.7.4"
  }
 },
 "nbformat": 4,
 "nbformat_minor": 2
}
