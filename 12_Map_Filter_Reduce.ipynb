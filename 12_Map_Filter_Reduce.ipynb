{
 "cells": [
  {
   "cell_type": "markdown",
   "metadata": {},
   "source": [
    "### 01. Divisible by 7"
   ]
  },
  {
   "cell_type": "code",
   "execution_count": 2,
   "metadata": {
    "scrolled": true
   },
   "outputs": [
    {
     "name": "stdout",
     "output_type": "stream",
     "text": [
      "[7, 14, 21, 28, 35, 42, 49, 56, 63, 70, 77, 84, 91, 98, 105, 112, 119, 126, 133, 140, 147, 154, 161, 168, 175, 182, 189, 196, 203, 210, 217, 224, 231, 238, 245, 252, 259, 266, 273, 280, 287, 294, 301, 308, 315, 322, 329, 336, 343, 350, 357, 364, 371, 378, 385, 392, 399, 406, 413, 420, 427, 434, 441, 448, 455, 462, 469, 476, 483, 490, 497, 504, 511, 518, 525, 532, 539, 546, 553, 560, 567, 574, 581, 588, 595, 602, 609, 616, 623, 630, 637, 644, 651, 658, 665, 672, 679, 686, 693, 700, 707, 714, 721, 728, 735, 742, 749, 756, 763, 770, 777, 784, 791, 798, 805, 812, 819, 826, 833, 840, 847, 854, 861, 868, 875, 882, 889, 896, 903, 910, 917, 924, 931, 938, 945, 952, 959, 966, 973, 980, 987, 994]\n"
     ]
    }
   ],
   "source": [
    "\"\"\"\n",
    "Find all of the numbers from 1-1000 that are divisible by 7\n",
    "\"\"\"\n",
    "#### Method 1 ####\n",
    "list1 = []\n",
    "def divisible(number):\n",
    "    if number%7==0:\n",
    "        return number\n",
    "\n",
    "for i in range(1,1001):\n",
    "    num1 = divisible(i)\n",
    "    if num1:\n",
    "        list1.append(num1)\n",
    "print(list1)\n",
    "\n",
    "#### Method 2 ####\n",
    "    \n",
    "divisible_7 = [x for x in range(1,1001) if x%7==0]\n",
    "#print(divisible_7)\n",
    "\n",
    "#### Method 3 ####\n",
    "\n",
    "divisible2_7 = list(filter(lambda x: x%7==0,list(range(1,1001))))\n",
    "#print(divisible_7a)\n",
    "\n",
    "\n",
    "'''Filter takes a function and a collection. \n",
    "It returns a collection of every item for which the function returned True.'''"
   ]
  },
  {
   "cell_type": "markdown",
   "metadata": {},
   "source": [
    "### 02. Find 3 in number"
   ]
  },
  {
   "cell_type": "code",
   "execution_count": 4,
   "metadata": {},
   "outputs": [
    {
     "name": "stdout",
     "output_type": "stream",
     "text": [
      "[3, 13, 23, 30, 31, 32, 33, 34, 35, 36, 37, 38, 39, 43, 53, 63, 73, 83, 93, 103, 113, 123, 130, 131, 132, 133, 134, 135, 136, 137, 138, 139, 143, 153, 163, 173, 183, 193, 203, 213, 223, 230, 231, 232, 233, 234, 235, 236, 237, 238, 239, 243, 253, 263, 273, 283, 293, 300, 301, 302, 303, 304, 305, 306, 307, 308, 309, 310, 311, 312, 313, 314, 315, 316, 317, 318, 319, 320, 321, 322, 323, 324, 325, 326, 327, 328, 329, 330, 331, 332, 333, 334, 335, 336, 337, 338, 339, 340, 341, 342, 343, 344, 345, 346, 347, 348, 349, 350, 351, 352, 353, 354, 355, 356, 357, 358, 359, 360, 361, 362, 363, 364, 365, 366, 367, 368, 369, 370, 371, 372, 373, 374, 375, 376, 377, 378, 379, 380, 381, 382, 383, 384, 385, 386, 387, 388, 389, 390, 391, 392, 393, 394, 395, 396, 397, 398, 399, 403, 413, 423, 430, 431, 432, 433, 434, 435, 436, 437, 438, 439, 443, 453, 463, 473, 483, 493, 503, 513, 523, 530, 531, 532, 533, 534, 535, 536, 537, 538, 539, 543, 553, 563, 573, 583, 593, 603, 613, 623, 630, 631, 632, 633, 634, 635, 636, 637, 638, 639, 643, 653, 663, 673, 683, 693, 703, 713, 723, 730, 731, 732, 733, 734, 735, 736, 737, 738, 739, 743, 753, 763, 773, 783, 793, 803, 813, 823, 830, 831, 832, 833, 834, 835, 836, 837, 838, 839, 843, 853, 863, 873, 883, 893, 903, 913, 923, 930, 931, 932, 933, 934, 935, 936, 937, 938, 939, 943, 953, 963, 973, 983, 993]\n"
     ]
    }
   ],
   "source": [
    "\"\"\"\n",
    "Find all of the numbers from 1-1000 that have a 3 in them\n",
    "\"\"\"\n",
    "#### Method 1 ####\n",
    "list1 = []\n",
    "def item(number):\n",
    "    if '3' in str(number):\n",
    "        return number\n",
    "for i in range(1,1001):\n",
    "    num1 = item(i)\n",
    "    if num1:\n",
    "        list1.append(num1)\n",
    "#print(list1)\n",
    "\n",
    "#### Method 2 ####\n",
    "item_3 = [x for x in range(1,1001) if '3' in str(x)]\n",
    "\n",
    "#### Method 3 ####\n",
    "item_3a = list(filter(lambda x: '3' in str(x),list(range(1,1001))))\n",
    "print(item_3a)\n"
   ]
  },
  {
   "cell_type": "markdown",
   "metadata": {},
   "source": [
    "### 03. Number of spaces"
   ]
  },
  {
   "cell_type": "code",
   "execution_count": 10,
   "metadata": {},
   "outputs": [
    {
     "name": "stdout",
     "output_type": "stream",
     "text": [
      "Enter string: my name is silver\n",
      "3\n"
     ]
    }
   ],
   "source": [
    "\"\"\"\n",
    "Count the number of spaces in a string\n",
    "input:my name is silver\n",
    "\"\"\"\n",
    "#### Method 1 ####\n",
    "n=0\n",
    "string = input(\"Enter string: \")\n",
    "for i in string:\n",
    "    if i==' ':\n",
    "        n+=1\n",
    "print(n)\n",
    "\n",
    "#### Method 2 ####\n",
    "a = len([i for i in string if i==' '])\n",
    "print(a)\n",
    "\n",
    "#### Method 3 ####\n",
    "b = len(list(filter(lambda x: x==' ',string)))\n",
    "print(b)\n"
   ]
  },
  {
   "cell_type": "markdown",
   "metadata": {},
   "source": [
    "### 04. Remove vowels"
   ]
  },
  {
   "cell_type": "code",
   "execution_count": 14,
   "metadata": {},
   "outputs": [
    {
     "name": "stdout",
     "output_type": "stream",
     "text": [
      "Enter string: education chrismas is a big fest\n",
      "dctn chrsms s  bg fst\n",
      "dctn chrsms s  bg fst\n",
      "dctn chrsms s  bg fst\n"
     ]
    }
   ],
   "source": [
    "\"\"\"\n",
    "Remove all of the vowels in a string\n",
    "input:'education chrismas is a big fest'\n",
    "\"\"\"\n",
    "str1= input('Enter string: ')\n",
    "vowels = \"aeiou\"\n",
    "remain = []\n",
    "for i in str1:\n",
    "    if i not in vowels:\n",
    "        remain.append(i)\n",
    "a = \"\".join(remain)\n",
    "print(a)\n",
    "\n",
    "#### Method 2 ####\n",
    "lis1= [x for x in str1 if x not in 'aeiou']\n",
    "str2 = \"\".join(lis1)\n",
    "print(str2)\n",
    "\n",
    "#### Method 3 ####\n",
    "a= list(filter(lambda x: x not in 'aeiou',str1))\n",
    "print(\"\".join(a))\n"
   ]
  },
  {
   "cell_type": "markdown",
   "metadata": {},
   "source": [
    "### 05. String having less than 4 letters"
   ]
  },
  {
   "cell_type": "code",
   "execution_count": 9,
   "metadata": {},
   "outputs": [
    {
     "name": "stdout",
     "output_type": "stream",
     "text": [
      "Enter a string: The quick brown fox jumped over the lazy dog\n",
      "['The', 'fox', 'the', 'dog']\n",
      "['The', 'fox', 'the', 'dog']\n"
     ]
    }
   ],
   "source": [
    "\"\"\"\n",
    "Find all of the words in a string that are less than 4 letters\n",
    "input:The quick brown fox jumped over the lazy dog\n",
    "\"\"\"\n",
    "lis1 = input(\"Enter a string: \").split()\n",
    "b= [x for x in lis1 if len(x)< 4]\n",
    "print(b)\n",
    "\n",
    "'''or'''\n",
    "c= list(filter(lambda x: len(x)<4, lis1))\n",
    "print(c)\n"
   ]
  },
  {
   "cell_type": "markdown",
   "metadata": {},
   "source": [
    "### 06. All consonants"
   ]
  },
  {
   "cell_type": "code",
   "execution_count": 1,
   "metadata": {},
   "outputs": [
    {
     "name": "stdout",
     "output_type": "stream",
     "text": [
      "Enter string: The quick brown fox jumped over the lazy dog\n",
      "['T', 'h', 'q', 'c', 'k', 'b', 'r', 'w', 'n', 'f', 'x', 'j', 'm', 'p', 'd', 'v', 'r', 't', 'h', 'l', 'z', 'y', 'd', 'g']\n",
      "['T', 'h', 'q', 'c', 'k', 'b', 'r', 'w', 'n', 'f', 'x', 'j', 'm', 'p', 'd', 'v', 'r', 't', 'h', 'l', 'z', 'y', 'd', 'g']\n"
     ]
    }
   ],
   "source": [
    "\"\"\"\n",
    "A list of all consonants in the sentence.\n",
    "input:'The quick brown fox jumped over the lazy dog'\n",
    "\"\"\"\n",
    "sent= input('Enter string: ')\n",
    "a = [i for i in sent if i not in 'aeiou ']\n",
    "print(a)\n",
    "\n",
    "'''or'''\n",
    "lis1= list(filter(lambda x: x not in 'aeiou ', sent))\n",
    "print(lis1)"
   ]
  },
  {
   "cell_type": "markdown",
   "metadata": {},
   "source": [
    "### 07. Capital letters"
   ]
  },
  {
   "cell_type": "code",
   "execution_count": 2,
   "metadata": {},
   "outputs": [
    {
     "name": "stdout",
     "output_type": "stream",
     "text": [
      "Enter string: The Quick Brown Fox Jumped Over The Lazy Dog\n",
      "['T', 'Q', 'B', 'F', 'J', 'O', 'T', 'L', 'D']\n",
      "['T', 'Q', 'B', 'F', 'J', 'O', 'T', 'L', 'D']\n"
     ]
    }
   ],
   "source": [
    "\"\"\"\n",
    "A list of all the capital letters (and not white space) in a given sentance.\n",
    "input:'The Quick Brown Fox Jumped Over The Lazy Dog'\n",
    "\"\"\"\n",
    "sent= input('Enter string: ')\n",
    "capital = [i for i in sent if i==i.upper() if i!=' ']\n",
    "print(capital)\n",
    "\n",
    "'''or'''\n",
    "a= list(filter(lambda x: x==x.upper() and x!=' ', sent))\n",
    "print(a)"
   ]
  },
  {
   "cell_type": "markdown",
   "metadata": {},
   "source": [
    "### 08. Squares of numbers"
   ]
  },
  {
   "cell_type": "code",
   "execution_count": 3,
   "metadata": {},
   "outputs": [
    {
     "name": "stdout",
     "output_type": "stream",
     "text": [
      "[1, 4, 9, 16, 25, 36, 49, 64, 81, 100, 121, 144, 169, 196, 225, 256, 289, 324, 361, 400, 441, 484, 529, 576, 625, 676, 729, 784, 841, 900, 961]\n",
      "[1, 4, 9, 16, 25, 36, 49, 64, 81, 100, 121, 144, 169, 196, 225, 256, 289, 324, 361, 400, 441, 484, 529, 576, 625, 676, 729, 784, 841, 900, 961]\n"
     ]
    }
   ],
   "source": [
    "\"\"\"\n",
    "A list of all square numbers formed by squaring the numbers from 1 to 1000.\n",
    "\"\"\"\n",
    "a= len([x for x in range(1,1001) if x**2< 1000])\n",
    "print([x**2 for x in range(1,a+1) ])\n",
    "\n",
    "'''or'''\n",
    "\n",
    "b= list(filter(lambda x: x**2<1000, range(1,1001)))\n",
    "print(list(map(lambda x: x**2, b)))\n"
   ]
  },
  {
   "cell_type": "markdown",
   "metadata": {},
   "source": [
    "### 09. Map1"
   ]
  },
  {
   "cell_type": "code",
   "execution_count": 4,
   "metadata": {},
   "outputs": [
    {
     "name": "stdout",
     "output_type": "stream",
     "text": [
      "Generated random secret agents: \n",
      "['Mr. Orange', 'Mr. Orange', 'Mr. Blonde']\n",
      "['Mr. Orange', 'Mr. Orange', 'Mr. Blonde']\n"
     ]
    }
   ],
   "source": [
    "\"\"\"\n",
    "Problem Statement:\n",
    "import random\n",
    "names = ['Mary', 'Isla', 'Sam']\n",
    "code_names = ['Mr. Pink', 'Mr. Orange', 'Mr. Blonde']\n",
    "for i in range(len(names)):\n",
    "    names[i] = random.choice(code_names)\n",
    "print (names)\n",
    "\n",
    "As you can see, this algorithm can potentially assign the same secret code name to multiple secret agents. \n",
    "Rewrite the above code using map and lambda.\n",
    "\"\"\"\n",
    "import random\n",
    "names = ['Mary', 'Isla', 'Sam']\n",
    "code_names = ['Mr. Pink', 'Mr. Orange', 'Mr. Blonde']\n",
    "print('Generated random secret agents: ')\n",
    "print([random.choice(code_names) for i in range(len(names)) ])  # list comprehension\n",
    "\n",
    "'''or'''\n",
    "name=  list(map(lambda x: random.choice(code_names), range(3)))  # mapping\n",
    "print(name)"
   ]
  },
  {
   "cell_type": "markdown",
   "metadata": {},
   "source": [
    "### 10. Map2"
   ]
  },
  {
   "cell_type": "code",
   "execution_count": 5,
   "metadata": {},
   "outputs": [
    {
     "name": "stdout",
     "output_type": "stream",
     "text": [
      "Secret codes:\n",
      "[-81831209780139242, -5801220667050319345, -2177109046453740629]\n"
     ]
    }
   ],
   "source": [
    "\"\"\"\n",
    "Problem Statement:\n",
    "names = ['Mary', 'Isla', 'Sam']\n",
    "for i in range(len(names)):\n",
    "    names[i] = hash(names[i])\n",
    "print (names)\n",
    "\n",
    "(Hopefully, the secret agents will have good memories and won’t forget each other’s secret \n",
    "code names during the secret mission.)\n",
    "Rewrite the above code using map.\n",
    "\"\"\"\n",
    "\n",
    "names = ['Mary', 'Isla', 'Sam']\n",
    "#hash(names)   ## list cannot be hashable as it is immutable \n",
    "''' hash[object]= hash value,  use only for immutable object(string,int,float,tuple) '''\n",
    "''' check whether obj is immutable or not '''\n",
    "\n",
    "print('Secret codes:')\n",
    "print( list(map(lambda x: hash(x), names ))  )\n"
   ]
  },
  {
   "cell_type": "markdown",
   "metadata": {},
   "source": [
    "### 11. Height"
   ]
  },
  {
   "cell_type": "code",
   "execution_count": 7,
   "metadata": {},
   "outputs": [
    {
     "name": "stdout",
     "output_type": "stream",
     "text": [
      "[{'name': 'Mary', 'height': 160}, {'name': 'Isla', 'height': 80}]\n",
      "Average height: 120.0\n"
     ]
    }
   ],
   "source": [
    "\"\"\"\n",
    "Problem Statement:\n",
    "people = [{'name': 'Mary', 'height': 160},\n",
    "          {'name': 'Isla', 'height': 80},\n",
    "          {'name': 'Sam'}]\n",
    "          \n",
    "height_total = 0\n",
    "height_count = 0\n",
    "for person in people:\n",
    "    if 'height' in person:\n",
    "        height_total += person['height']\n",
    "        height_count += 1\n",
    "\n",
    "    if height_count > 0:\n",
    "        average_height = height_total / height_count\n",
    "print (average_height)\n",
    "    \n",
    "Try rewriting the code below using map, reduce and filter. \n",
    "Filter takes a function and a collection. \n",
    "It returns a collection of every item for which the function returned True.\n",
    "\"\"\"\n",
    "\n",
    "from functools import reduce\n",
    "people = [{'name': 'Mary', 'height': 160},\n",
    "          {'name': 'Isla', 'height': 80},\n",
    "          {'name': 'Sam'}]\n",
    "\n",
    "a= list(filter(lambda x:'height' in x, people))   # filter dict. where height key exist\n",
    "print(a)\n",
    "avg_height = reduce(lambda x,y : (x['height']+ y['height'])/len(a) , a)\n",
    "print('Average height:',avg_height)\n"
   ]
  },
  {
   "cell_type": "markdown",
   "metadata": {},
   "source": [
    "### 12. Fahrenheit temperatures"
   ]
  },
  {
   "cell_type": "code",
   "execution_count": 13,
   "metadata": {},
   "outputs": [
    {
     "name": "stdout",
     "output_type": "stream",
     "text": [
      "Celsius values:  [-34.44, -28.89, -23.33, -17.78]\n",
      "Celsius dictionary:  {'t1': -34.44, 't2': -28.89, 't3': -23.33, 't4': -17.78}\n",
      "Celsius dictionary through Fahrenheit temperature:  {'t1': -34.444, 't2': -28.889, 't3': -23.333, 't4': -17.778}\n"
     ]
    }
   ],
   "source": [
    "\"\"\"\n",
    "Problem Statement:\n",
    "# Initialize `fahrenheit` dictionary \n",
    "fahrenheit = {'t1':-30, 't2':-20, 't3':-10, 't4':0}\n",
    "\n",
    "1 Get the corresponding `celsius` values in list\n",
    "2 Create the `celsius` dictionary\n",
    "3 convert a dictionary of Fahrenheit temperatures into celsius\n",
    "\"\"\"\n",
    "\n",
    "fahrenheit = {'t1':-30, 't2':-20, 't3':-10, 't4':0}\n",
    "\n",
    "#1 Get the corresponding `celsius` values in list\n",
    "# round to limit value upto 2 decimal places \n",
    "celsius= list(map(lambda x: round( (5/9)*(x-32),2 ), fahrenheit.values() )) \n",
    "print('Celsius values: ',celcius)\n",
    "\n",
    "#2 Create the `celsius` dictionary\n",
    "celsius_dict= {x:val for x,val in zip(fahrenheit,celcius) }   # dictionary comprehension\n",
    "\n",
    "'''or'''\n",
    "celsius_dict = dict(zip(fahrenheit.keys(), celsius))\n",
    "print('Celsius dictionary: ',celsius_dict)\n",
    "\n",
    "#3 convert a dictionary of Fahrenheit temperatures into celsius\n",
    "celsiusf = {k: round((float(5)/9)*(v-32),3) for (k,v) in fahrenheit.items()}\n",
    "print('Celsius dictionary through Fahrenheit temperature: ',celsiusf)\n"
   ]
  },
  {
   "cell_type": "markdown",
   "metadata": {},
   "source": [
    "### 13. Book_shop1"
   ]
  },
  {
   "cell_type": "code",
   "execution_count": 7,
   "metadata": {},
   "outputs": [
    {
     "name": "stdout",
     "output_type": "stream",
     "text": [
      "Order number and Price per items*the quantity: \n",
      "('34587', 163.8)\n",
      "('98762', 284.0)\n",
      "('77226', 108.85000000000001)\n",
      "('88112', 84.97)\n"
     ]
    }
   ],
   "source": [
    "\"\"\"\n",
    "  Problem Statement:\n",
    "   1. Imagine an accounting routine used in a book shop.\n",
    "   2. It works on a list with sublists, which look like this:\n",
    "(Order Number) (Book Title)  (Author) (Quantity)  (Price per Item)\n",
    "        34587 Learning Python, Mark Lutz  4 40.95\n",
    "        98762 Programming Python, Mark Lutz 5 56.80\n",
    "        77226 Head First Python, Paul Barry 3 32.95\n",
    "        88112 Einführung in Python3, Bernd Klein  3 24.99    \n",
    "        \n",
    "   3. Write a Python program, \n",
    "    A) which returns Order Summary as a list with 2-tuples. \n",
    "       Each tuple consists of the order number and the product of the price per items \n",
    "       and the quantity. \n",
    "       The product should be increased by 10 INR if the value of the order is smaller \n",
    "       than 100.00 INR.\n",
    "  Hint:\n",
    "    Write a Python program using lambda and map.\n",
    "# Assume the data in form of list of list\n",
    "orders = [ [\"34587\", \"Learning Python, Mark Lutz\", 4, 40.95], \n",
    "           [\"98762\", \"Programming Python, Mark Lutz\", 5, 56.80], \n",
    "           [\"77226\", \"Head First Python, Paul Barry\", 3,32.95],\n",
    "           [\"88112\", \"Einführung in Python3, Bernd Klein\",  3, 24.99]]\n",
    "\"\"\"\n",
    "\n",
    "orders = [ [\"34587\", \"Learning Python, Mark Lutz\", 4, 40.95], \n",
    "           [\"98762\", \"Programming Python, Mark Lutz\", 5, 56.80], \n",
    "           [\"77226\", \"Head First Python, Paul Barry\", 3,32.95],\n",
    "           [\"88112\", \"Einführung in Python3, Bernd Klein\",  3, 24.99]]\n",
    "\n",
    "# x[0] denote order no.,  x[-2] denote quantity,  x[-1] denote price per item\n",
    "# calculating the values and form a tuple\n",
    "summary= list(map(lambda x: (x[0], x[-1]*x[-2] if x[-1]*x[-2]>100 else x[-1]*x[-2] +10), orders))\n",
    "print('Order number and Price per items*the quantity: ')\n",
    "\n",
    "for value in summary:\n",
    "    print(value)\n"
   ]
  },
  {
   "cell_type": "markdown",
   "metadata": {},
   "source": [
    "### 14. Book_shop2"
   ]
  },
  {
   "cell_type": "code",
   "execution_count": 10,
   "metadata": {},
   "outputs": [
    {
     "name": "stdout",
     "output_type": "stream",
     "text": [
      "Order number, Total amount of order:\n",
      "[1, 678.3299999999999]\n",
      "[2, 494.46000000000004]\n",
      "[3, 364.79999999999995]\n",
      "[4, 492.57]\n"
     ]
    }
   ],
   "source": [
    "\"\"\"\n",
    "  Problem Statement:\n",
    "    The same bookshop, but this time we work on a different list.\n",
    "    The sublists of our lists look like this:\n",
    "    [ordernumber, (article number, quantity, price per unit), \n",
    "    ... (article number, quantity, price per unit) ]\n",
    "       \n",
    "    [ [1, (\"5464\", 4, 9.99), (\"8274\",18,12.99), (\"9744\", 9, 44.95)], \n",
    "      [2, (\"5464\", 9, 9.99), (\"9744\", 9, 44.95)],\n",
    "      [3, (\"5464\", 9, 9.99), (\"88112\", 11, 24.99)],\n",
    "      [4, (\"8732\", 7, 11.99), (\"7733\",11,18.99), (\"88112\", 5, 39.95)] ]\n",
    "    \n",
    "   Write a program which returns a list of list with \n",
    "    [order number, total amount of order].\n",
    "\"\"\"\n",
    "\n",
    "orders= [ [1, (\"5464\", 4, 9.99), (\"8274\",18,12.99), (\"9744\", 9, 44.95)], \n",
    "          [2, (\"5464\", 9, 9.99), (\"9744\", 9, 44.95)],\n",
    "          [3, (\"5464\", 9, 9.99), (\"88112\", 11, 24.99)],\n",
    "          [4, (\"8732\", 7, 11.99), (\"7733\",11,18.99), (\"88112\", 5, 39.95)] ]\n",
    "\n",
    "def mult(x):\n",
    "    '''find total amount of order for particular order number'''\n",
    "    el_sum= 0\n",
    "    for val in x[1:]:\n",
    "         el_sum += val[1]*val[2]\n",
    "    return el_sum\n",
    "         \n",
    "lis1 = list( map(lambda x: x[0], orders ))  # list of order no.\n",
    "lis2 = list( map(mult, orders ))   # list of total amount of order for every order no.\n",
    "\n",
    "output= list(map(lambda x: [x[0], x[1]], zip(lis1,lis2)  ))\n",
    "\n",
    "print('Order number, Total amount of order:')\n",
    "for value in output:\n",
    "    print(value)\n"
   ]
  },
  {
   "cell_type": "code",
   "execution_count": null,
   "metadata": {},
   "outputs": [],
   "source": []
  },
  {
   "cell_type": "code",
   "execution_count": 13,
   "metadata": {},
   "outputs": [
    {
     "name": "stdout",
     "output_type": "stream",
     "text": [
      "Enter the numbers: 1 2 3 4 5 6 7 8 9\n",
      "Product of Odd numbers: 945\n"
     ]
    }
   ],
   "source": [
    "\"\"\"\n",
    "This Python function accepts a list of numbers and computes the product of all the odd numbers:\n",
    "def productOfOdds(list):\n",
    "    result = 1\n",
    "    for i in list:\n",
    "        if i % 2 == 1:\n",
    "            result *= i\n",
    "    return result\n",
    "Rewrite the Python code using map, filter, and reduce:\n",
    "\"\"\"\n",
    "\n",
    "from functools import reduce\n",
    "def productOfOdds(list2):\n",
    "    '''Computes the product of all the odd numbers'''\n",
    "    return reduce(lambda x,y: x*y , list(filter(lambda a: a%2==1, list2)))\n",
    "\n",
    "\n",
    "lis1= map(int, input('Enter the numbers: ').split())  # taking input from user\n",
    "print('Product of Odd numbers:',productOfOdds(lis1))  # calling the function\n",
    "\n"
   ]
  },
  {
   "cell_type": "code",
   "execution_count": null,
   "metadata": {},
   "outputs": [],
   "source": []
  }
 ],
 "metadata": {
  "kernelspec": {
   "display_name": "Python 3",
   "language": "python",
   "name": "python3"
  },
  "language_info": {
   "codemirror_mode": {
    "name": "ipython",
    "version": 3
   },
   "file_extension": ".py",
   "mimetype": "text/x-python",
   "name": "python",
   "nbconvert_exporter": "python",
   "pygments_lexer": "ipython3",
   "version": "3.7.4"
  }
 },
 "nbformat": 4,
 "nbformat_minor": 2
}
