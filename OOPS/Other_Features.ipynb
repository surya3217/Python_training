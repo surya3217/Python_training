{
 "cells": [
  {
   "cell_type": "markdown",
   "metadata": {},
   "source": [
    "### Polymorphism"
   ]
  },
  {
   "cell_type": "code",
   "execution_count": 3,
   "metadata": {},
   "outputs": [
    {
     "name": "stdout",
     "output_type": "stream",
     "text": [
      "kitty\n",
      "MEOW!\n",
      "Woof\n"
     ]
    }
   ],
   "source": [
    "\"\"\"\n",
    "Polymorphism means that if class B inherits from class A, it doesn’t have to inherit \n",
    "everything about class A, it can do some of the things that class A does differently. \n",
    "\n",
    "It is most commonly used while dealing with inheritance. Python is implicitly polymorphic, \n",
    "it has the ability to overload standard operators so that they have appropriate behaviour \n",
    "based on their context.\n",
    "\"\"\"\n",
    "class Animal:\n",
    "    def __init__(self,name):\n",
    "        self.name=name\n",
    "    def talk(self):\n",
    "        pass\n",
    "    \n",
    "class Dog(Animal):   ## inherit Animal class\n",
    "    def talk(self):\n",
    "        print('Woof')\n",
    "        \n",
    "class Cat(Animal):   ## inherit Animal class\n",
    "    def talk(self):\n",
    "        print('MEOW!')\n",
    "        \n",
    "c= Cat('kitty') \n",
    "print(c.name)\n",
    "c.talk()\n",
    "\n",
    "d=Dog(Animal)\n",
    "d.talk()\n"
   ]
  },
  {
   "cell_type": "code",
   "execution_count": null,
   "metadata": {},
   "outputs": [],
   "source": []
  }
 ],
 "metadata": {
  "kernelspec": {
   "display_name": "Python 3",
   "language": "python",
   "name": "python3"
  },
  "language_info": {
   "codemirror_mode": {
    "name": "ipython",
    "version": 3
   },
   "file_extension": ".py",
   "mimetype": "text/x-python",
   "name": "python",
   "nbconvert_exporter": "python",
   "pygments_lexer": "ipython3",
   "version": "3.7.4"
  }
 },
 "nbformat": 4,
 "nbformat_minor": 2
}
