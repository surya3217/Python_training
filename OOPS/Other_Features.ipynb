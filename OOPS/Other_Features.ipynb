{
 "cells": [
  {
   "cell_type": "markdown",
   "metadata": {},
   "source": [
    "### Polymorphism"
   ]
  },
  {
   "cell_type": "code",
   "execution_count": 3,
   "metadata": {},
   "outputs": [
    {
     "name": "stdout",
     "output_type": "stream",
     "text": [
      "kitty\n",
      "MEOW!\n",
      "Woof\n"
     ]
    }
   ],
   "source": [
    "\"\"\"\n",
    "Polymorphism means that if class B inherits from class A, it doesn’t have to inherit \n",
    "everything about class A, it can do some of the things that class A does differently. \n",
    "\n",
    "It is most commonly used while dealing with inheritance. Python is implicitly polymorphic, \n",
    "it has the ability to overload standard operators so that they have appropriate behaviour \n",
    "based on their context.\n",
    "\"\"\"\n",
    "class Animal:\n",
    "    def __init__(self,name):\n",
    "        self.name=name\n",
    "    def talk(self):\n",
    "        pass\n",
    "    \n",
    "class Dog(Animal):   ## inherit Animal class\n",
    "    def talk(self):\n",
    "        print('Woof')\n",
    "        \n",
    "class Cat(Animal):   ## inherit Animal class\n",
    "    def talk(self):\n",
    "        print('MEOW!')\n",
    "        \n",
    "c= Cat('kitty') \n",
    "print(c.name)\n",
    "c.talk()\n",
    "\n",
    "d=Dog(Animal)\n",
    "d.talk()\n"
   ]
  },
  {
   "cell_type": "markdown",
   "metadata": {},
   "source": [
    "### Python Class: Abstraction"
   ]
  },
  {
   "cell_type": "code",
   "execution_count": 7,
   "metadata": {},
   "outputs": [
    {
     "name": "stdout",
     "output_type": "stream",
     "text": [
      "11000.0\n"
     ]
    },
    {
     "ename": "TypeError",
     "evalue": "Can't instantiate abstract class Employee with abstract methods calculate_salary",
     "output_type": "error",
     "traceback": [
      "\u001b[1;31m---------------------------------------------------------------------------\u001b[0m",
      "\u001b[1;31mTypeError\u001b[0m                                 Traceback (most recent call last)",
      "\u001b[1;32m<ipython-input-7-3e3afbc87c2c>\u001b[0m in \u001b[0;36m<module>\u001b[1;34m\u001b[0m\n\u001b[0;32m     23\u001b[0m \u001b[0mprint\u001b[0m\u001b[1;33m(\u001b[0m\u001b[0memp_1\u001b[0m\u001b[1;33m.\u001b[0m\u001b[0mcalculate_salary\u001b[0m\u001b[1;33m(\u001b[0m\u001b[1;36m10000\u001b[0m\u001b[1;33m)\u001b[0m\u001b[1;33m)\u001b[0m\u001b[1;33m\u001b[0m\u001b[1;33m\u001b[0m\u001b[0m\n\u001b[0;32m     24\u001b[0m \u001b[1;33m\u001b[0m\u001b[0m\n\u001b[1;32m---> 25\u001b[1;33m \u001b[0memp2\u001b[0m\u001b[1;33m=\u001b[0m \u001b[0mEmployee\u001b[0m\u001b[1;33m(\u001b[0m\u001b[1;33m)\u001b[0m\u001b[1;33m\u001b[0m\u001b[1;33m\u001b[0m\u001b[0m\n\u001b[0m\u001b[0;32m     26\u001b[0m \u001b[1;33m\u001b[0m\u001b[0m\n\u001b[0;32m     27\u001b[0m \u001b[1;33m\u001b[0m\u001b[0m\n",
      "\u001b[1;31mTypeError\u001b[0m: Can't instantiate abstract class Employee with abstract methods calculate_salary"
     ]
    }
   ],
   "source": [
    "\"\"\"\n",
    "Abstraction is used to simplify complex reality by modelling classes appropriate to the problem. \n",
    "Here, we have an abstract class which cannot be instantiated. This means you cannot create objects\n",
    "or instances for these classes. \n",
    "\n",
    "It can only be used for inheriting certain functionalities which you call as a base class. \n",
    "So you can inherit functionalities but at the same time, you cannot create an instance of \n",
    "this particular class.\n",
    "\"\"\"\n",
    "from abc import ABC, abstractmethod     \n",
    " \n",
    "class Employee(ABC):  ## become abstract class\n",
    "    @abstractmethod \n",
    "    def calculate_salary(self,sal):\n",
    "        pass\n",
    "\n",
    "class Developer(Employee):    ## derived class\n",
    "    def calculate_salary(self,sal):\n",
    "        finalsalary= sal*1.10\n",
    "        return  finalsalary\n",
    "\n",
    "emp_1 = Developer()\n",
    "print(emp_1.calculate_salary(10000))\n",
    "emp2= Employee()\n",
    "\n",
    "# If you actually go on and make an object of class “Employee”, it throws you an error as \n",
    "# python doesn’t allow you to create an object of abstract class. But using inheritance, you\n",
    "# can actually inherit the properties and perform the respective tasks.\n"
   ]
  }
 ],
 "metadata": {
  "kernelspec": {
   "display_name": "Python 3",
   "language": "python",
   "name": "python3"
  },
  "language_info": {
   "codemirror_mode": {
    "name": "ipython",
    "version": 3
   },
   "file_extension": ".py",
   "mimetype": "text/x-python",
   "name": "python",
   "nbconvert_exporter": "python",
   "pygments_lexer": "ipython3",
   "version": "3.7.4"
  }
 },
 "nbformat": 4,
 "nbformat_minor": 2
}
