{
 "cells": [
  {
   "cell_type": "code",
   "execution_count": null,
   "metadata": {},
   "outputs": [],
   "source": [
    "'''\n",
    "class Base:\n",
    "    pass\n",
    "class Derived(Base):\n",
    "    pass\n",
    "'''"
   ]
  },
  {
   "cell_type": "code",
   "execution_count": 1,
   "metadata": {},
   "outputs": [
    {
     "name": "stdout",
     "output_type": "stream",
     "text": [
      "aayushi johari\n",
      "1000000 \n",
      " aayushi.johari@company.com\n",
      "1.1\n"
     ]
    }
   ],
   "source": [
    "'''Updated the percentage rise in salary from 4% to 10% '''\n",
    "\n",
    "class employee:\n",
    "    num_employee=0     ## static variable\n",
    "    raise_amount=1.04\n",
    "    def __init__(self, first, last, sal):\n",
    "        self.first=first\n",
    "        self.last=last\n",
    "        self.sal=sal\n",
    "        self.email=first + '.' + last + '@company.com'\n",
    "        employee.num_employee+=1\n",
    "        \n",
    "    def fullname(self):\n",
    "        return '{} {}'.format(self.first, self.last)\n",
    "    \n",
    "    def apply_raise(self):\n",
    "        self.sal=int(self.sal* raise_amount)\n",
    "\n",
    "class developer(employee):   ## inheritance\n",
    "    raise_amount = 1.10\n",
    "\n",
    "\n",
    "emp_1= developer('aayushi', 'johari', 1000000)   ## developer class object\n",
    "print(emp_1.fullname() )\n",
    "print(emp_1.sal,'\\n', emp_1.email )\n",
    "\n",
    "print(emp_1.raise_amount)  # static variable called by object\n"
   ]
  },
  {
   "cell_type": "markdown",
   "metadata": {},
   "source": [
    "### 1. super_init()"
   ]
  },
  {
   "cell_type": "code",
   "execution_count": 2,
   "metadata": {},
   "outputs": [
    {
     "name": "stdout",
     "output_type": "stream",
     "text": [
      "Bird is ready\n",
      "Penguin is ready\n",
      "Penguin\n",
      "Swim faster\n",
      "Run faster\n"
     ]
    }
   ],
   "source": [
    "'''\n",
    "we use super() function before __init__() method. This is because we want to pull\n",
    "the content of __init__() method from the parent class into the child class.\n",
    "'''\n",
    "\n",
    "# parent class\n",
    "class Bird:\n",
    "    def __init__(self):\n",
    "        print(\"Bird is ready\")\n",
    "\n",
    "    def whoisThis(self):\n",
    "        print(\"Bird\")\n",
    "\n",
    "    def swim(self):\n",
    "        print(\"Swim faster\")\n",
    "\n",
    "# child class\n",
    "class Penguin(Bird):\n",
    "    def __init__(self):\n",
    "        super().__init__()         # call super() function\n",
    "        print(\"Penguin is ready\")\n",
    "\n",
    "    def whoisThis(self):\n",
    "        print(\"Penguin\")\n",
    "\n",
    "    def run(self):\n",
    "        print(\"Run faster\")\n",
    "\n",
    "peggy = Penguin()\n",
    "peggy.whoisThis()\n",
    "peggy.swim()\n",
    "peggy.run()\n"
   ]
  },
  {
   "cell_type": "markdown",
   "metadata": {},
   "source": [
    "### 2. super_init()"
   ]
  },
  {
   "cell_type": "code",
   "execution_count": 4,
   "metadata": {},
   "outputs": [
    {
     "name": "stdout",
     "output_type": "stream",
     "text": [
      "aayushi johari\n",
      "1000000 \n",
      " aayushi.johari@company.com\n",
      "Raise increment: 1.1 times\n",
      "Incremented salary: 1100000\n"
     ]
    }
   ],
   "source": [
    "'''Now if I want to add one more attribute, say a programming language in our init \n",
    "method, but it doesn’t exist in our parent class. Is there any solution for that? \n",
    "Yes! we can copy the entire employee logic and do that but it will again increase \n",
    "the code size.\n",
    "\n",
    "super.__init__(first, last, pay) which inherits the properties from the base\n",
    "class. To conclude, inheritance is used to reuse the code and reduce the \n",
    "complexity of a program.\n",
    "'''\n",
    "\n",
    "class employee:\n",
    "    num_employee=0      ## static variable\n",
    "    raise_amount=1.04     ## 4% increment in salary for employee \n",
    "    def __init__(self, first, last, sal):\n",
    "        self.first= first\n",
    "        self.last= last\n",
    "        self.sal= sal\n",
    "        self.email= first + '.' + last + '@company.com'\n",
    "        employee.num_employee+=1\n",
    "        \n",
    "    def fullname (self):\n",
    "        return '{} {}'.format(self.first, self.last)\n",
    "    \n",
    "    def apply_raise (self):\n",
    "        self.sal= int(self.sal* (developer.raise_amount) ) ## static variable called by developer class\n",
    "        return self.sal\n",
    "\n",
    "class developer(employee):   ## inheritance\n",
    "    raise_amount = 1.10      ## 10% increment in salary for developer\n",
    "    def __init__(self, first, last, sal, prog_lang):\n",
    "        super().__init__(first, last, sal)\n",
    "        self.prog_lang= prog_lang  \n",
    "\n",
    "\n",
    "emp_1=developer('aayushi', 'johari', 1000000,'Python')  ## developer class object\n",
    "print(emp_1.fullname() )\n",
    "print(emp_1.sal,'\\n', emp_1.email )\n",
    "print('Raise increment:',emp_1.raise_amount,'times')\n",
    "\n",
    "print('Incremented salary:',emp_1.apply_raise() )\n"
   ]
  },
  {
   "cell_type": "markdown",
   "metadata": {},
   "source": [
    "### Polygon"
   ]
  },
  {
   "cell_type": "code",
   "execution_count": 2,
   "metadata": {},
   "outputs": [
    {
     "name": "stdout",
     "output_type": "stream",
     "text": [
      "Enter side 1 : 3\n",
      "Enter side 2 : 5\n",
      "Enter side 3 : 4\n",
      "Side 1 is 3.0\n",
      "Side 2 is 5.0\n",
      "Side 3 is 4.0\n",
      "The area of the triangle is 6.00\n"
     ]
    }
   ],
   "source": [
    "class Polygon:\n",
    "    def __init__(self, no_of_sides):\n",
    "        self.n = no_of_sides\n",
    "        self.sides = [0 for i in range(no_of_sides)]\n",
    "\n",
    "    def inputSides(self):\n",
    "        self.sides = [float(input(\"Enter side \"+str(i+1)+\" : \")) for i in range(self.n)]\n",
    "\n",
    "    def dispSides(self):\n",
    "        for i in range(self.n):\n",
    "            print(\"Side\",i+1,\"is\",self.sides[i])\n",
    "            \n",
    "class Triangle(Polygon):\n",
    "    def __init__(self):\n",
    "        Polygon.__init__(self,3)\n",
    "\n",
    "    def findArea(self):\n",
    "        a, b, c = self.sides\n",
    "        # calculate the semi-perimeter\n",
    "        s = (a + b + c) / 2\n",
    "        area = (s*(s-a)*(s-b)*(s-c)) ** 0.5\n",
    "        print('The area of the triangle is %0.2f' %area)\n",
    "\n",
    "        \n",
    "t = Triangle()\n",
    "t.inputSides()\n",
    "t.dispSides()\n",
    "t.findArea()"
   ]
  },
  {
   "cell_type": "code",
   "execution_count": 7,
   "metadata": {},
   "outputs": [
    {
     "name": "stdout",
     "output_type": "stream",
     "text": [
      "True\n",
      "True\n",
      "False\n",
      "True\n"
     ]
    }
   ],
   "source": [
    "'''\n",
    "Two built-in functions \"isinstance()\" and \"issubclass()\" are used to check \n",
    "inheritances. \n",
    "\n",
    "Function isinstance(): returns True if the object is an instance \n",
    "of the class or other classes derived from it.Its argument are (object, class).\n",
    "'''\n",
    "print( isinstance(t,Triangle)) \n",
    "print( isinstance(t,Polygon))  \n",
    "\n",
    "print( isinstance(t,int))    \n",
    "print( isinstance(t,object)) \n"
   ]
  },
  {
   "cell_type": "code",
   "execution_count": 8,
   "metadata": {},
   "outputs": [
    {
     "name": "stdout",
     "output_type": "stream",
     "text": [
      "False\n",
      "True\n",
      "True\n"
     ]
    }
   ],
   "source": [
    "'''\n",
    "issubclass() is used to check for class inheritance.\n",
    "argument(Derived class, Base class)\n",
    "'''\n",
    "print( issubclass(Polygon,Triangle)) \n",
    "print( issubclass(Triangle,Polygon)) \n",
    "\n",
    "print( issubclass(bool,int))\n"
   ]
  },
  {
   "cell_type": "markdown",
   "metadata": {},
   "source": [
    "### Complex Number"
   ]
  },
  {
   "cell_type": "code",
   "execution_count": 11,
   "metadata": {},
   "outputs": [
    {
     "name": "stdout",
     "output_type": "stream",
     "text": [
      "2+3j\n",
      "(5, 0, 10)\n",
      "Attribute error\n"
     ]
    }
   ],
   "source": [
    "''' \n",
    "It has two functions, __init__() to initialize the variables (defaults to \n",
    "zero) and getData() to display the number properly.\n",
    "'''\n",
    "class ComplexNumber:\n",
    "    def __init__(self,r = 0,i = 0):\n",
    "        self.real = r\n",
    "        self.imag = i\n",
    "\n",
    "    def getData(self):\n",
    "        print(\"{0}+{1}j\".format(self.real,self.imag))\n",
    "\n",
    "# Create a new ComplexNumber object\n",
    "c1 = ComplexNumber(2,3)\n",
    "\n",
    "# Call getData() function\n",
    "c1.getData()\n",
    "\n",
    "# Create another ComplexNumber object\n",
    "# and create a new attribute 'attr'\n",
    "c2 = ComplexNumber(5)\n",
    "c2.attr = 10\n",
    "\n",
    "print((c2.real, c2.imag, c2.attr))\n",
    "\n",
    "# but c1 object doesn't have attribute 'attr'\n",
    "# AttributeError: 'ComplexNumber' object has no attribute 'attr'\n",
    "try:\n",
    "    c1.attr\n",
    "except AttributeError:\n",
    "    print('Attribute error')\n",
    "    "
   ]
  },
  {
   "cell_type": "code",
   "execution_count": null,
   "metadata": {},
   "outputs": [],
   "source": []
  }
 ],
 "metadata": {
  "kernelspec": {
   "display_name": "Python 3",
   "language": "python",
   "name": "python3"
  },
  "language_info": {
   "codemirror_mode": {
    "name": "ipython",
    "version": 3
   },
   "file_extension": ".py",
   "mimetype": "text/x-python",
   "name": "python",
   "nbconvert_exporter": "python",
   "pygments_lexer": "ipython3",
   "version": "3.7.4"
  }
 },
 "nbformat": 4,
 "nbformat_minor": 2
}
