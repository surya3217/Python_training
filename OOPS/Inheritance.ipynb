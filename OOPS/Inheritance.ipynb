{
 "cells": [
  {
   "cell_type": "code",
   "execution_count": null,
   "metadata": {},
   "outputs": [],
   "source": [
    "'''\n",
    "class Base:\n",
    "    pass\n",
    "class Derived(Base):\n",
    "    pass\n",
    "'''"
   ]
  },
  {
   "cell_type": "code",
   "execution_count": 1,
   "metadata": {},
   "outputs": [
    {
     "name": "stdout",
     "output_type": "stream",
     "text": [
      "aayushi johari\n",
      "1000000 \n",
      " aayushi.johari@company.com\n",
      "1.1\n"
     ]
    }
   ],
   "source": [
    "'''Updated the percentage rise in salary from 4% to 10% '''\n",
    "\n",
    "class employee:\n",
    "    num_employee=0     ## static variable\n",
    "    raise_amount=1.04\n",
    "    def __init__(self, first, last, sal):\n",
    "        self.first=first\n",
    "        self.last=last\n",
    "        self.sal=sal\n",
    "        self.email=first + '.' + last + '@company.com'\n",
    "        employee.num_employee+=1\n",
    "        \n",
    "    def fullname(self):\n",
    "        return '{} {}'.format(self.first, self.last)\n",
    "    \n",
    "    def apply_raise(self):\n",
    "        self.sal=int(self.sal* raise_amount)\n",
    "\n",
    "class developer(employee):   ## inheritance\n",
    "    raise_amount = 1.10\n",
    "\n",
    "\n",
    "emp_1= developer('aayushi', 'johari', 1000000)   ## developer class object\n",
    "print(emp_1.fullname() )\n",
    "print(emp_1.sal,'\\n', emp_1.email )\n",
    "\n",
    "print(emp_1.raise_amount)  # static variable called by object\n"
   ]
  },
  {
   "cell_type": "code",
   "execution_count": null,
   "metadata": {},
   "outputs": [],
   "source": []
  }
 ],
 "metadata": {
  "kernelspec": {
   "display_name": "Python 3",
   "language": "python",
   "name": "python3"
  },
  "language_info": {
   "codemirror_mode": {
    "name": "ipython",
    "version": 3
   },
   "file_extension": ".py",
   "mimetype": "text/x-python",
   "name": "python",
   "nbconvert_exporter": "python",
   "pygments_lexer": "ipython3",
   "version": "3.7.4"
  }
 },
 "nbformat": 4,
 "nbformat_minor": 2
}
