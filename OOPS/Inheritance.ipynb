{
 "cells": [
  {
   "cell_type": "code",
   "execution_count": null,
   "metadata": {},
   "outputs": [],
   "source": [
    "'''\n",
    "class Base:\n",
    "    pass\n",
    "class Derived(Base):\n",
    "    pass\n",
    "'''"
   ]
  },
  {
   "cell_type": "code",
   "execution_count": 1,
   "metadata": {},
   "outputs": [
    {
     "name": "stdout",
     "output_type": "stream",
     "text": [
      "aayushi johari\n",
      "1000000 \n",
      " aayushi.johari@company.com\n",
      "1.1\n"
     ]
    }
   ],
   "source": [
    "'''Updated the percentage rise in salary from 4% to 10% '''\n",
    "\n",
    "class employee:\n",
    "    num_employee=0     ## static variable\n",
    "    raise_amount=1.04\n",
    "    def __init__(self, first, last, sal):\n",
    "        self.first=first\n",
    "        self.last=last\n",
    "        self.sal=sal\n",
    "        self.email=first + '.' + last + '@company.com'\n",
    "        employee.num_employee+=1\n",
    "        \n",
    "    def fullname(self):\n",
    "        return '{} {}'.format(self.first, self.last)\n",
    "    \n",
    "    def apply_raise(self):\n",
    "        self.sal=int(self.sal* raise_amount)\n",
    "\n",
    "class developer(employee):   ## inheritance\n",
    "    raise_amount = 1.10\n",
    "\n",
    "\n",
    "emp_1= developer('aayushi', 'johari', 1000000)   ## developer class object\n",
    "print(emp_1.fullname() )\n",
    "print(emp_1.sal,'\\n', emp_1.email )\n",
    "\n",
    "print(emp_1.raise_amount)  # static variable called by object\n"
   ]
  },
  {
   "cell_type": "markdown",
   "metadata": {},
   "source": [
    "### 1. super_init()"
   ]
  },
  {
   "cell_type": "code",
   "execution_count": 2,
   "metadata": {},
   "outputs": [
    {
     "name": "stdout",
     "output_type": "stream",
     "text": [
      "Bird is ready\n",
      "Penguin is ready\n",
      "Penguin\n",
      "Swim faster\n",
      "Run faster\n"
     ]
    }
   ],
   "source": [
    "'''\n",
    "we use super() function before __init__() method. This is because we want to pull\n",
    "the content of __init__() method from the parent class into the child class.\n",
    "'''\n",
    "\n",
    "# parent class\n",
    "class Bird:\n",
    "    def __init__(self):\n",
    "        print(\"Bird is ready\")\n",
    "\n",
    "    def whoisThis(self):\n",
    "        print(\"Bird\")\n",
    "\n",
    "    def swim(self):\n",
    "        print(\"Swim faster\")\n",
    "\n",
    "# child class\n",
    "class Penguin(Bird):\n",
    "    def __init__(self):\n",
    "        super().__init__()         # call super() function\n",
    "        print(\"Penguin is ready\")\n",
    "\n",
    "    def whoisThis(self):\n",
    "        print(\"Penguin\")\n",
    "\n",
    "    def run(self):\n",
    "        print(\"Run faster\")\n",
    "\n",
    "peggy = Penguin()\n",
    "peggy.whoisThis()\n",
    "peggy.swim()\n",
    "peggy.run()\n"
   ]
  },
  {
   "cell_type": "markdown",
   "metadata": {},
   "source": [
    "### 2. super_init()"
   ]
  },
  {
   "cell_type": "code",
   "execution_count": 4,
   "metadata": {},
   "outputs": [
    {
     "name": "stdout",
     "output_type": "stream",
     "text": [
      "aayushi johari\n",
      "1000000 \n",
      " aayushi.johari@company.com\n",
      "Raise increment: 1.1 times\n",
      "Incremented salary: 1100000\n"
     ]
    }
   ],
   "source": [
    "'''Now if I want to add one more attribute, say a programming language in our init \n",
    "method, but it doesn’t exist in our parent class. Is there any solution for that? \n",
    "Yes! we can copy the entire employee logic and do that but it will again increase \n",
    "the code size.\n",
    "\n",
    "super.__init__(first, last, pay) which inherits the properties from the base\n",
    "class. To conclude, inheritance is used to reuse the code and reduce the \n",
    "complexity of a program.\n",
    "'''\n",
    "\n",
    "class employee:\n",
    "    num_employee=0      ## static variable\n",
    "    raise_amount=1.04     ## 4% increment in salary for employee \n",
    "    def __init__(self, first, last, sal):\n",
    "        self.first= first\n",
    "        self.last= last\n",
    "        self.sal= sal\n",
    "        self.email= first + '.' + last + '@company.com'\n",
    "        employee.num_employee+=1\n",
    "        \n",
    "    def fullname (self):\n",
    "        return '{} {}'.format(self.first, self.last)\n",
    "    \n",
    "    def apply_raise (self):\n",
    "        self.sal= int(self.sal* (developer.raise_amount) ) ## static variable called by developer class\n",
    "        return self.sal\n",
    "\n",
    "class developer(employee):   ## inheritance\n",
    "    raise_amount = 1.10      ## 10% increment in salary for developer\n",
    "    def __init__(self, first, last, sal, prog_lang):\n",
    "        super().__init__(first, last, sal)\n",
    "        self.prog_lang= prog_lang  \n",
    "\n",
    "\n",
    "emp_1=developer('aayushi', 'johari', 1000000,'Python')  ## developer class object\n",
    "print(emp_1.fullname() )\n",
    "print(emp_1.sal,'\\n', emp_1.email )\n",
    "print('Raise increment:',emp_1.raise_amount,'times')\n",
    "\n",
    "print('Incremented salary:',emp_1.apply_raise() )\n"
   ]
  },
  {
   "cell_type": "markdown",
   "metadata": {},
   "source": [
    "### Polygon"
   ]
  },
  {
   "cell_type": "code",
   "execution_count": 44,
   "metadata": {},
   "outputs": [
    {
     "name": "stdout",
     "output_type": "stream",
     "text": [
      "Enter side 1 : 3\n",
      "Enter side 2 : 4\n",
      "Enter side 3 : 5\n",
      "Side 1 is 3.0\n",
      "Side 2 is 4.0\n",
      "Side 3 is 5.0\n",
      "The area of the triangle is 6.00\n"
     ]
    }
   ],
   "source": [
    "class Polygon:\n",
    "    def __init__(self, no_of_sides):\n",
    "        self.n = no_of_sides\n",
    "        self.sides = [0 for i in range(no_of_sides)]\n",
    "\n",
    "    def inputSides(self):\n",
    "        self.sides = [float(input(\"Enter side \"+str(i+1)+\" : \")) for i in range(self.n)]\n",
    "\n",
    "    def dispSides(self):\n",
    "        for i in range(self.n):\n",
    "            print(\"Side\",i+1,\"is\",self.sides[i])\n",
    "            \n",
    "class Triangle(Polygon):\n",
    "    def __init__(self):\n",
    "        Polygon.__init__(self,3)\n",
    "\n",
    "    def findArea(self):\n",
    "        a, b, c = self.sides\n",
    "        # calculate the semi-perimeter\n",
    "        s = (a + b + c) / 2\n",
    "        area = (s*(s-a)*(s-b)*(s-c))  ** 0.5\n",
    "        print('The area of the triangle is %0.2f' %area)\n",
    "\n",
    "        \n",
    "t = Triangle()\n",
    "t.inputSides()\n",
    "t.dispSides()\n",
    "t.findArea()"
   ]
  },
  {
   "cell_type": "code",
   "execution_count": 45,
   "metadata": {},
   "outputs": [
    {
     "name": "stdout",
     "output_type": "stream",
     "text": [
      "True\n",
      "True\n",
      "False\n",
      "True\n"
     ]
    }
   ],
   "source": [
    "'''\n",
    "Two built-in functions \"isinstance()\" and \"issubclass()\" are used to check \n",
    "inheritances. \n",
    "\n",
    "Function isinstance(): returns True if the object is an instance \n",
    "of the class or other classes derived from it.Its argument are (object, class).\n",
    "'''\n",
    "print( isinstance(t,Triangle)) \n",
    "print( isinstance(t,Polygon))  \n",
    "\n",
    "print( isinstance(t,int))    \n",
    "print( isinstance(t,object)) \n"
   ]
  },
  {
   "cell_type": "code",
   "execution_count": 46,
   "metadata": {},
   "outputs": [
    {
     "name": "stdout",
     "output_type": "stream",
     "text": [
      "False\n",
      "True\n",
      "True\n"
     ]
    }
   ],
   "source": [
    "'''\n",
    "issubclass() is used to check for class inheritance.\n",
    "argument(Derived class, Base class)\n",
    "'''\n",
    "print( issubclass(Polygon,Triangle)) \n",
    "print( issubclass(Triangle,Polygon)) \n",
    "\n",
    "print( issubclass(bool,int))"
   ]
  },
  {
   "cell_type": "code",
   "execution_count": 47,
   "metadata": {},
   "outputs": [
    {
     "name": "stdout",
     "output_type": "stream",
     "text": [
      "True\n",
      "True\n",
      "True\n"
     ]
    }
   ],
   "source": [
    "'''   \n",
    "Every class in Python is derived from the class \"object\". It is the most base type in\n",
    "Python. So technically, all other class, either built-in or user-defines, are derived \n",
    "classes and all objects are instances of object class.\n",
    "'''\n",
    "print(issubclass(list,object))\n",
    "\n",
    "print(isinstance(5.5,object))\n",
    "\n",
    "print(isinstance(\"Hello\",object))"
   ]
  },
  {
   "cell_type": "markdown",
   "metadata": {},
   "source": [
    "### Complex Number"
   ]
  },
  {
   "cell_type": "code",
   "execution_count": 40,
   "metadata": {},
   "outputs": [
    {
     "name": "stdout",
     "output_type": "stream",
     "text": [
      "2+3j\n",
      "(5, 0, 10)\n",
      "Attribute error\n"
     ]
    }
   ],
   "source": [
    "''' \n",
    "It has two functions, __init__() to initialize the variables (defaults to \n",
    "zero) and getData() to display the number properly.\n",
    "'''\n",
    "class ComplexNumber:\n",
    "    def __init__(self,r = 0,i = 0):\n",
    "        self.real = r\n",
    "        self.imag = i\n",
    "\n",
    "    def getData(self):\n",
    "        print(\"{0}+{1}j\".format(self.real,self.imag))\n",
    "\n",
    "# Create a new ComplexNumber object\n",
    "c1 = ComplexNumber(2,3)\n",
    "\n",
    "# Call getData() function\n",
    "c1.getData()\n",
    "\n",
    "# Create another ComplexNumber object\n",
    "# and create a new attribute 'attr'\n",
    "c2 = ComplexNumber(5)\n",
    "c2.attr = 10\n",
    "\n",
    "print((c2.real, c2.imag, c2.attr))\n",
    "\n",
    "# but c1 object doesn't have attribute 'attr'\n",
    "# AttributeError: 'ComplexNumber' object has no attribute 'attr'\n",
    "try:\n",
    "    c1.attr\n",
    "except AttributeError:\n",
    "    print('Attribute error')\n",
    "    "
   ]
  },
  {
   "cell_type": "markdown",
   "metadata": {},
   "source": [
    "### Deleting Attributes, Objects and Class method"
   ]
  },
  {
   "cell_type": "code",
   "execution_count": 34,
   "metadata": {},
   "outputs": [
    {
     "name": "stdout",
     "output_type": "stream",
     "text": [
      "Attribute error\n"
     ]
    }
   ],
   "source": [
    "'''\n",
    "Using \"del, we can delete--> object, its attribute, class method\n",
    "'''\n",
    "'''\n",
    "On the command del c1, this binding is removed and the name c1 is deleted from the\n",
    "corresponding namespace. The object however continues to exist in memory and if no\n",
    "other name is bound to it, it is later automatically destroyed.\n",
    "\n",
    "This automatic destruction of unreferenced objects in Python is also called garbage collection.\n",
    "'''\n",
    "\n",
    "c1 = ComplexNumber(2,3)\n",
    "del c1.imag     ## now c1 has only one attribute real\n",
    "try:\n",
    "    c1.getData()    ## img is not defined\n",
    "except AttributeError:\n",
    "    print('Attribute error')"
   ]
  },
  {
   "cell_type": "code",
   "execution_count": 41,
   "metadata": {},
   "outputs": [
    {
     "name": "stdout",
     "output_type": "stream",
     "text": [
      "Attribute error\n"
     ]
    }
   ],
   "source": [
    "del ComplexNumber.getData\n",
    "try:\n",
    "    c1.getData()    ## getData is not defined, class method\n",
    "except AttributeError:\n",
    "    print('Attribute error')"
   ]
  },
  {
   "cell_type": "code",
   "execution_count": 30,
   "metadata": {},
   "outputs": [
    {
     "name": "stdout",
     "output_type": "stream",
     "text": [
      "Name Error\n"
     ]
    }
   ],
   "source": [
    "c3 = ComplexNumber(1,3)\n",
    "del c3     ## c3 is not defined, object\n",
    "try:\n",
    "    c3.real\n",
    "except NameError:\n",
    "    print('Name Error')"
   ]
  },
  {
   "cell_type": "markdown",
   "metadata": {},
   "source": [
    "### Multilevel inheritance"
   ]
  },
  {
   "cell_type": "code",
   "execution_count": 49,
   "metadata": {},
   "outputs": [],
   "source": [
    "'''\n",
    "In multilevel inheritance, features of the base class and the derived class is \n",
    "inherited into the new derived class.\n",
    "'''\n",
    "class Base:\n",
    "    pass\n",
    "class Derived1(Base):\n",
    "    pass\n",
    "class Derived2(Derived1):\n",
    "    pass\n"
   ]
  },
  {
   "cell_type": "markdown",
   "metadata": {},
   "source": [
    "### Multiple Inheritance"
   ]
  },
  {
   "cell_type": "code",
   "execution_count": 53,
   "metadata": {},
   "outputs": [
    {
     "name": "stdout",
     "output_type": "stream",
     "text": [
      "Base 1 class\n",
      "Child class\n",
      "Order of execution of class:\n"
     ]
    },
    {
     "data": {
      "text/plain": [
       "[__main__.MultiDerived, __main__.Base1, __main__.Base2, object]"
      ]
     },
     "execution_count": 53,
     "metadata": {},
     "output_type": "execute_result"
    }
   ],
   "source": [
    "'''\n",
    "In multiple inheritance, the features of all the base classes are inherited into the derived class.\n",
    "'''\n",
    "\n",
    "class Base1:\n",
    "    def feature1(self):\n",
    "        print('Base 1 class')\n",
    "    \n",
    "    def feature2(self):\n",
    "        print('Base1 class feature2')\n",
    "        \n",
    "class Base2:\n",
    "    def feature1(self):\n",
    "        print('Base 2 class')\n",
    "    \n",
    "    def feature4(self):\n",
    "        print('Base2 class feature3')\n",
    "        \n",
    "class MultiDerived(Base1, Base2):\n",
    "    def feature4(self):\n",
    "        print('Child class')\n",
    "\n",
    "m= MultiDerived()\n",
    "m.feature1()  ## now m is confused, for which class feature should be call\n",
    "m.feature4()\n",
    "\n",
    "print(\"Order of execution of class:\")\n",
    "MultiDerived.mro()\n",
    "\n",
    "## So MRO comes into the picture, always goes to left class then right class in \n",
    "## multiple inheritance."
   ]
  },
  {
   "cell_type": "markdown",
   "metadata": {},
   "source": [
    "### Method Resolution Order"
   ]
  },
  {
   "cell_type": "code",
   "execution_count": 57,
   "metadata": {},
   "outputs": [
    {
     "name": "stdout",
     "output_type": "stream",
     "text": [
      "[<class '__main__.M'>, <class '__main__.B'>, <class '__main__.A'>, <class '__main__.X'>, <class '__main__.Y'>, <class '__main__.Z'>, <class 'object'>]\n"
     ]
    }
   ],
   "source": [
    "'''\n",
    "MultiDerived class the search order is [MultiDerived, Base1, Base2, object]. \n",
    "This order is also called linearization of MultiDerived class and the set of \n",
    "rules used to find this order is called Method Resolution Order (MRO).\n",
    "\n",
    "MRO of a class can be viewed as the __mro__ attribute or mro() method.\n",
    "Always goes to left class then right class in multiple inheritance\n",
    "'''\n",
    "\n",
    "class X: pass\n",
    "class Y: pass\n",
    "class Z: pass\n",
    "\n",
    "class A(X,Y): pass\n",
    "class B(Y,Z): pass\n",
    "\n",
    "class M(B,A,Z): pass\n",
    "\n",
    "print(M.mro())\n"
   ]
  }
 ],
 "metadata": {
  "kernelspec": {
   "display_name": "Python 3",
   "language": "python",
   "name": "python3"
  },
  "language_info": {
   "codemirror_mode": {
    "name": "ipython",
    "version": 3
   },
   "file_extension": ".py",
   "mimetype": "text/x-python",
   "name": "python",
   "nbconvert_exporter": "python",
   "pygments_lexer": "ipython3",
   "version": "3.7.4"
  }
 },
 "nbformat": 4,
 "nbformat_minor": 2
}
