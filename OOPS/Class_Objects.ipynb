{
 "cells": [
  {
   "cell_type": "markdown",
   "metadata": {},
   "source": [
    "### Variables"
   ]
  },
  {
   "cell_type": "code",
   "execution_count": null,
   "metadata": {},
   "outputs": [],
   "source": [
    "'''\n",
    "instance variable: which declared with 'self' and change with object to object(object level variable)\n",
    "static variable: for all objects only one copy shared (class level variable)\n",
    "local variable: defined only in the methods and can access only in that methods without using 'self'.\n",
    "'''\n",
    "\n",
    "class Employee:\n",
    "    '''Displaying the data of employee '''\n",
    "    college_name= 'VIDHYA'    ## static variable, class level variable\n",
    "    def __init__(self,eno,ename,esalary):\n",
    "        self.eno= eno\n",
    "        self.ename= ename\n",
    "        self.esalary= esalary\n",
    "    \n",
    "    def display(self):\n",
    "        x=10        ## local variable\n",
    "        print('Employee no.:', self.eno)\n",
    "        print('Employee name:', self.ename)\n",
    "        print('Employee salary:', self.esalary)\n",
    "\n",
    "\n",
    "e1= Employee(1,'Silvester',45000)\n",
    "e2= Employee(2,'Mahesh',65000)\n",
    "\n",
    "e1.display()   ## calling the function through e1\n",
    " ## methods as well as data variables can be access by the objects of the class\n",
    "print( e2.ename)\n",
    "\n",
    "e2.display()   ## calling the function through e2\n",
    "print(Employee.__doc__)  ## show the doc string of class\n"
   ]
  },
  {
   "cell_type": "markdown",
   "metadata": {},
   "source": [
    "### Class Method"
   ]
  },
  {
   "cell_type": "code",
   "execution_count": 4,
   "metadata": {},
   "outputs": [
    {
     "name": "stdout",
     "output_type": "stream",
     "text": [
      "Dog have 4 legs\n",
      "Cat have 4 legs\n",
      "\n",
      "Cow have 4 legs\n"
     ]
    }
   ],
   "source": [
    "class Animal:\n",
    "    legs=4\n",
    "    \n",
    "    @classmethod\n",
    "    def walk(cls,name):\n",
    "        print('{} have {} legs'.format(name,cls.legs) )\n",
    "        \n",
    "Animal.walk('Dog')\n",
    "Animal.walk('Cat')\n",
    "\n",
    "'''or'''\n",
    "print()\n",
    "a= Animal()      ## can access class method by both method, using class name\n",
    "a.walk('Cow')    ## or with object\n"
   ]
  },
  {
   "cell_type": "markdown",
   "metadata": {},
   "source": [
    "### Count number of objects"
   ]
  },
  {
   "cell_type": "code",
   "execution_count": 3,
   "metadata": {},
   "outputs": [
    {
     "name": "stdout",
     "output_type": "stream",
     "text": [
      "count=  5\n",
      "5\n"
     ]
    }
   ],
   "source": [
    "\n",
    "class track:\n",
    "    count=0    ## static variable\n",
    "    \n",
    "    def __init__(self):     ## constructor\n",
    "        track.count= track.count+1\n",
    "        \n",
    "    @classmethod         ## class method\n",
    "    def getcount(cls):\n",
    "        print('count= ',cls.count)\n",
    "        \n",
    "t1= track()\n",
    "t1= track()\n",
    "t1= track()\n",
    "t1= track()\n",
    "t1= track() \n",
    "track.getcount()   ## calling class method\n",
    "print( track.count )    ## retriving static variable using class name\n"
   ]
  },
  {
   "cell_type": "markdown",
   "metadata": {},
   "source": [
    "### self vs cls"
   ]
  },
  {
   "cell_type": "code",
   "execution_count": 5,
   "metadata": {},
   "outputs": [
    {
     "name": "stdout",
     "output_type": "stream",
     "text": [
      "Instance method:  10 Durga\n"
     ]
    }
   ],
   "source": [
    "## first argument always is self for instance variable\n",
    "\n",
    "class test:\n",
    "    def m1(cls,self):    ## here keyword is changed (swapped each other) but internal behaviour is same\n",
    "        cls.x= 10          ## now cls.x as instance variable  \n",
    "        print('Instance method: ',cls.x, self)    ## self as normal variable\n",
    "        \n",
    "t= test()\n",
    "t.m1('Durga')\n"
   ]
  },
  {
   "cell_type": "code",
   "execution_count": null,
   "metadata": {},
   "outputs": [],
   "source": []
  }
 ],
 "metadata": {
  "kernelspec": {
   "display_name": "Python 3",
   "language": "python",
   "name": "python3"
  },
  "language_info": {
   "codemirror_mode": {
    "name": "ipython",
    "version": 3
   },
   "file_extension": ".py",
   "mimetype": "text/x-python",
   "name": "python",
   "nbconvert_exporter": "python",
   "pygments_lexer": "ipython3",
   "version": "3.7.4"
  }
 },
 "nbformat": 4,
 "nbformat_minor": 2
}
