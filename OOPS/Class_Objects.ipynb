{
 "cells": [
  {
   "cell_type": "markdown",
   "metadata": {},
   "source": [
    "### Variables"
   ]
  },
  {
   "cell_type": "code",
   "execution_count": null,
   "metadata": {},
   "outputs": [],
   "source": [
    "'''\n",
    "instance variable: which declared with 'self' and change with object to object(object level variable)\n",
    "static variable: for all objects only one copy shared (class level variable)\n",
    "local variable: defined only in the methods and can access only in that methods without using 'self'.\n",
    "'''\n",
    "\n",
    "class Employee:\n",
    "    '''Displaying the data of employee '''\n",
    "    college_name= 'VIDHYA'    ## static variable, class level variable\n",
    "    def __init__(self,eno,ename,esalary):\n",
    "        self.eno= eno\n",
    "        self.ename= ename\n",
    "        self.esalary= esalary\n",
    "    \n",
    "    def display(self):\n",
    "        x=10        ## local variable\n",
    "        print('Employee no.:', self.eno)\n",
    "        print('Employee name:', self.ename)\n",
    "        print('Employee salary:', self.esalary)\n",
    "\n",
    "\n",
    "e1= Employee(1,'Silvester',45000)\n",
    "e2= Employee(2,'Mahesh',65000)\n",
    "\n",
    "e1.display()   ## calling the function through e1\n",
    " ## methods as well as data variables can be access by the objects of the class\n",
    "print( e2.ename)\n",
    "\n",
    "e2.display()   ## calling the function through e2\n",
    "print(Employee.__doc__)  ## show the doc string of class\n"
   ]
  },
  {
   "cell_type": "markdown",
   "metadata": {},
   "source": [
    "### Class Method"
   ]
  },
  {
   "cell_type": "code",
   "execution_count": 4,
   "metadata": {},
   "outputs": [
    {
     "name": "stdout",
     "output_type": "stream",
     "text": [
      "Dog have 4 legs\n",
      "Cat have 4 legs\n",
      "\n",
      "Cow have 4 legs\n"
     ]
    }
   ],
   "source": [
    "class Animal:\n",
    "    legs=4\n",
    "    \n",
    "    @classmethod\n",
    "    def walk(cls,name):\n",
    "        print('{} have {} legs'.format(name,cls.legs) )\n",
    "        \n",
    "Animal.walk('Dog')\n",
    "Animal.walk('Cat')\n",
    "\n",
    "'''or'''\n",
    "print()\n",
    "a= Animal()      ## can access class method by both method, using class name\n",
    "a.walk('Cow')    ## or with object\n"
   ]
  },
  {
   "cell_type": "markdown",
   "metadata": {},
   "source": [
    "### Count number of objects"
   ]
  },
  {
   "cell_type": "code",
   "execution_count": 3,
   "metadata": {},
   "outputs": [
    {
     "name": "stdout",
     "output_type": "stream",
     "text": [
      "count=  5\n",
      "5\n"
     ]
    }
   ],
   "source": [
    "\n",
    "class track:\n",
    "    count=0    ## static variable\n",
    "    \n",
    "    def __init__(self):     ## constructor\n",
    "        track.count= track.count+1\n",
    "        \n",
    "    @classmethod         ## class method\n",
    "    def getcount(cls):\n",
    "        print('count= ',cls.count)\n",
    "        \n",
    "t1= track()\n",
    "t1= track()\n",
    "t1= track()\n",
    "t1= track()\n",
    "t1= track() \n",
    "track.getcount()   ## calling class method\n",
    "print( track.count )    ## retriving static variable using class name\n"
   ]
  },
  {
   "cell_type": "markdown",
   "metadata": {},
   "source": [
    "### self vs cls"
   ]
  },
  {
   "cell_type": "code",
   "execution_count": 5,
   "metadata": {},
   "outputs": [
    {
     "name": "stdout",
     "output_type": "stream",
     "text": [
      "Instance method:  10 Durga\n"
     ]
    }
   ],
   "source": [
    "## first argument always is self for instance variable\n",
    "\n",
    "class test:\n",
    "    def m1(cls,self):    ## here keyword is changed (swapped each other) but internal behaviour is same\n",
    "        cls.x= 10          ## now cls.x as instance variable  \n",
    "        print('Instance method: ',cls.x, self)    ## self as normal variable\n",
    "        \n",
    "t= test()\n",
    "t.m1('Durga')\n"
   ]
  },
  {
   "cell_type": "markdown",
   "metadata": {},
   "source": [
    "### Static method"
   ]
  },
  {
   "cell_type": "code",
   "execution_count": 9,
   "metadata": {},
   "outputs": [
    {
     "name": "stdout",
     "output_type": "stream",
     "text": [
      "hello buddy\n",
      "hello buddy\n"
     ]
    }
   ],
   "source": [
    "# static method behaves as general purpose method\n",
    "class test:\n",
    "    def m1():       ## static method\n",
    "        print('hello buddy')\n",
    "        \n",
    "t= test\n",
    "t.m1()       ## method can be called by both ways\n",
    "test.m1()    ## using object as well as with class name\n",
    " "
   ]
  },
  {
   "cell_type": "markdown",
   "metadata": {},
   "source": [
    "### Getter and Setter function"
   ]
  },
  {
   "cell_type": "code",
   "execution_count": 11,
   "metadata": {},
   "outputs": [
    {
     "name": "stdout",
     "output_type": "stream",
     "text": [
      "23\n",
      "45\n",
      "50\n",
      "vidhya\n",
      "vidhya\n",
      "vidhya\n"
     ]
    }
   ],
   "source": [
    "\n",
    "class student:\n",
    "    school= 'vidhya'    ## static variable\n",
    "    \n",
    "    def __init__(self,m1,m2,m3):\n",
    "        self.m1= m1\n",
    "        self.m2= m2\n",
    "        self.m3= m3\n",
    "    \n",
    "    def get_m1(self):    ## getting the value of instance variable\n",
    "        return self.m1\n",
    "\n",
    "    def get_m2(self):\n",
    "        return self.m2 \n",
    "\n",
    "    def get_m3(self):\n",
    "        return self.m3\n",
    "\n",
    "    def set_m1(self,value):  ## setting(modifying) the value of instance variable\n",
    "        self.m1= value       ## it is better to make setter function\n",
    "    \n",
    "    @classmethod\n",
    "    def sch_name(cls):\n",
    "        return cls.school\n",
    "    \n",
    "s1= student(23,45,34)\n",
    "s2= student(45,65,33)\n",
    "\n",
    "print( s1.get_m1())\n",
    "print( s2.get_m1())\n",
    "\n",
    "s1.set_m1(50)       ## call set function\n",
    "print( s1.get_m1())\n",
    "\n",
    "print( s1.school )   ## can access with both class as well object\n",
    "print( student.school )\n",
    "\n",
    "print( student.sch_name() )  ## calling class method\n"
   ]
  },
  {
   "cell_type": "markdown",
   "metadata": {},
   "source": [
    "### Inner class 1"
   ]
  },
  {
   "cell_type": "code",
   "execution_count": 19,
   "metadata": {},
   "outputs": [
    {
     "name": "stdout",
     "output_type": "stream",
     "text": [
      "Name: Ajay \n",
      "Rollno.: 12\n",
      "\n",
      "Laptop Configuration:\n",
      "HP i5 4\n"
     ]
    }
   ],
   "source": [
    "\"class -> class -> then create object of inner class\"\n",
    "\n",
    "class student:\n",
    "    def __init__(self, name, rollno):   ## constructor\n",
    "        self.name= name\n",
    "        self.rollno= rollno\n",
    "        \n",
    "    def show(self):     ## instance method\n",
    "        print('Name:',self.name, '\\nRollno.:',self.rollno)\n",
    "        l1.show()       ## calling the laptop method show\n",
    "    \n",
    "    class laptop:    ## inner class\n",
    "        def __init__(self):     ## inner class constructor\n",
    "            self.brand= 'HP'\n",
    "            self.proc= 'i5'\n",
    "            self.ram= 4\n",
    "        \n",
    "        def show(self):      ## inner class instance method\n",
    "            print('\\nLaptop Configuration:')\n",
    "            print(self.brand, self.proc, self.ram)\n",
    "            \n",
    "\n",
    "s1= student('Ajay',12)    ## creating objects\n",
    "s2= student('Rekha',13)\n",
    "\n",
    "l1= student.laptop()  ## can access inner class\n",
    "s1.show()\n"
   ]
  },
  {
   "cell_type": "markdown",
   "metadata": {},
   "source": [
    "### Inner class 2"
   ]
  },
  {
   "cell_type": "code",
   "execution_count": 24,
   "metadata": {},
   "outputs": [
    {
     "name": "stdout",
     "output_type": "stream",
     "text": [
      "Name: Rekha \n",
      "Rollno.: 13\n",
      "\n",
      "Laptop Configuration:\n",
      "HP i5 4\n"
     ]
    }
   ],
   "source": [
    "\"object--> object --> then call method\"\n",
    "\n",
    "class student:\n",
    "    def __init__(self, name,rollno):   ## constructor\n",
    "        self.name= name\n",
    "        self.rollno= rollno\n",
    "        self.lap= self.laptop()   ## creating object for inner class laptop, lap is reference variable\n",
    "        \n",
    "    def show(self):\n",
    "        print('Name:',self.name, '\\nRollno.:',self.rollno)\n",
    "        self.lap.show()     ## calling the laptop method show\n",
    "    \n",
    "    class laptop:       ## inner class\n",
    "        def __init__(self):      ## inner class constructor\n",
    "            self.brand= 'HP'\n",
    "            self.proc= 'i5'\n",
    "            self.ram= 4\n",
    "        \n",
    "        def show(self):\n",
    "            print('\\nLaptop Configuration:')\n",
    "            print(self.brand, self.proc, self.ram)\n",
    "            \n",
    "\n",
    "s1= student('Ajay',12)\n",
    "s2= student('Rekha',13)\n",
    "\n",
    "s2.show()\n",
    "       "
   ]
  },
  {
   "cell_type": "code",
   "execution_count": null,
   "metadata": {},
   "outputs": [],
   "source": []
  }
 ],
 "metadata": {
  "kernelspec": {
   "display_name": "Python 3",
   "language": "python",
   "name": "python3"
  },
  "language_info": {
   "codemirror_mode": {
    "name": "ipython",
    "version": 3
   },
   "file_extension": ".py",
   "mimetype": "text/x-python",
   "name": "python",
   "nbconvert_exporter": "python",
   "pygments_lexer": "ipython3",
   "version": "3.7.4"
  }
 },
 "nbformat": 4,
 "nbformat_minor": 2
}
