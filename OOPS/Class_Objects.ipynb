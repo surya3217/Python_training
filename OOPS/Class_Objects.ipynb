{
 "cells": [
  {
   "cell_type": "markdown",
   "metadata": {},
   "source": [
    "### Variables"
   ]
  },
  {
   "cell_type": "code",
   "execution_count": null,
   "metadata": {},
   "outputs": [],
   "source": [
    "'''\n",
    "instance variable: which declared with 'self' and change with object to object(object level variable)\n",
    "static variable: for all objects only one copy shared (class level variable)\n",
    "local variable: defined only in the methods and can access only in that methods without using 'self'.\n",
    "'''\n",
    "\n",
    "class Employee:\n",
    "    '''Displaying the data of employee '''\n",
    "    college_name= 'VIDHYA'    ## static variable, class level variable\n",
    "    def __init__(self,eno,ename,esalary):\n",
    "        self.eno= eno\n",
    "        self.ename= ename\n",
    "        self.esalary= esalary\n",
    "    \n",
    "    def display(self):\n",
    "        x=10        ## local variable\n",
    "        print('Employee no.:', self.eno)\n",
    "        print('Employee name:', self.ename)\n",
    "        print('Employee salary:', self.esalary)\n",
    "\n",
    "\n",
    "e1= Employee(1,'Silvester',45000)\n",
    "e2= Employee(2,'Mahesh',65000)\n",
    "\n",
    "e1.display()   ## calling the function through e1\n",
    " ## methods as well as data variables can be access by the objects of the class\n",
    "print( e2.ename)\n",
    "\n",
    "e2.display()   ## calling the function through e2\n",
    "print(Employee.__doc__)  ## show the doc string of class\n"
   ]
  },
  {
   "cell_type": "markdown",
   "metadata": {},
   "source": [
    "### Class Method"
   ]
  },
  {
   "cell_type": "code",
   "execution_count": 1,
   "metadata": {},
   "outputs": [
    {
     "name": "stdout",
     "output_type": "stream",
     "text": [
      "Dog have 4 legs\n",
      "Cat have 4 legs\n",
      "Cow have 4 legs\n"
     ]
    }
   ],
   "source": [
    "class Animal:\n",
    "    legs=4\n",
    "    \n",
    "    @classmethod\n",
    "    def walk(cls,name):\n",
    "        print('{} have {} legs'.format(name,cls.legs) )\n",
    "        \n",
    "Animal.walk('Dog')\n",
    "Animal.walk('Cat')\n",
    "\n",
    "'''or'''\n",
    "a= Animal()      ## can access class method by both method, using class name\n",
    "a.walk('Cow')    ## or with object\n"
   ]
  },
  {
   "cell_type": "code",
   "execution_count": null,
   "metadata": {},
   "outputs": [],
   "source": []
  }
 ],
 "metadata": {
  "kernelspec": {
   "display_name": "Python 3",
   "language": "python",
   "name": "python3"
  },
  "language_info": {
   "codemirror_mode": {
    "name": "ipython",
    "version": 3
   },
   "file_extension": ".py",
   "mimetype": "text/x-python",
   "name": "python",
   "nbconvert_exporter": "python",
   "pygments_lexer": "ipython3",
   "version": "3.7.4"
  }
 },
 "nbformat": 4,
 "nbformat_minor": 2
}
