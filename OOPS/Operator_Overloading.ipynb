{
 "cells": [
  {
   "cell_type": "markdown",
   "metadata": {},
   "source": [
    "### Special Functions in Python"
   ]
  },
  {
   "cell_type": "code",
   "execution_count": 1,
   "metadata": {},
   "outputs": [
    {
     "name": "stdout",
     "output_type": "stream",
     "text": [
      "<__main__.Point object at 0x0000020DCCCD3A88>\n"
     ]
    }
   ],
   "source": [
    "'''\n",
    "Class functions that begins with double underscore __ are called special functions\n",
    "in Python. This is because, well, they are not ordinary. The __init__() function\n",
    "we define, is one of them. It gets called every time we create a new object \n",
    "of that class.\n",
    "'''\n",
    "\n",
    "class Point:\n",
    "    def __init__(self, x = 0, y = 0):\n",
    "        self.x = x\n",
    "        self.y = y\n",
    "        \n",
    "p1 = Point(2,3)\n",
    "print(p1)\n"
   ]
  },
  {
   "cell_type": "code",
   "execution_count": 11,
   "metadata": {},
   "outputs": [
    {
     "name": "stdout",
     "output_type": "stream",
     "text": [
      "(2,3)\n",
      "<class '__main__.Point'>\n",
      "(2,3)\n",
      "(2,3)\n"
     ]
    }
   ],
   "source": [
    "class Point:\n",
    "    def __init__(self, x = 0, y = 0):\n",
    "        self.x = x\n",
    "        self.y = y\n",
    "    \n",
    "    def __str__(self):   ## special function\n",
    "        return \"({0},{1})\".format(self.x,self.y)\n",
    "    \n",
    "\n",
    "p1 = Point(2,3)\n",
    "print(p1)\n",
    "print(type(p1) )\n",
    "\n",
    "print( str(p1))        ## out: '(2,3)' , calling the str constructor\n",
    "print( format(p1))     ## out: '(2,3)'\n",
    "\n",
    "# '''\n",
    "# So, when you do str(p1) or format(p1), Python is internally doing p1.__str__().\n",
    "# Hence the name, special functions.\n",
    "# '''"
   ]
  },
  {
   "cell_type": "markdown",
   "metadata": {},
   "source": [
    "### '+' operator"
   ]
  },
  {
   "cell_type": "code",
   "execution_count": 12,
   "metadata": {},
   "outputs": [
    {
     "name": "stdout",
     "output_type": "stream",
     "text": [
      "(1,5)\n"
     ]
    }
   ],
   "source": [
    "'''\n",
    "when you do p1 + p2, Python will call p1.__add__(p2) which in turn is \n",
    "Point.__add__(p1,p2). Similarly, we can overload other operators as well. \n",
    "'''\n",
    "\n",
    "class Point:\n",
    "    def __init__(self, x = 0, y = 0):\n",
    "        self.x = x\n",
    "        self.y = y\n",
    "    \n",
    "    def __str__(self):\n",
    "        return \"({0},{1})\".format(self.x,self.y)\n",
    "    \n",
    "    def __add__(self,other):\n",
    "        x = self.x + other.x\n",
    "        y = self.y + other.y\n",
    "        return Point(x,y)\n",
    "\n",
    "p1 = Point(2,3)\n",
    "p2 = Point(-1,2)\n",
    "print(p1 + p2)    # use '+' as operator overloading \n"
   ]
  },
  {
   "cell_type": "code",
   "execution_count": null,
   "metadata": {},
   "outputs": [],
   "source": []
  }
 ],
 "metadata": {
  "kernelspec": {
   "display_name": "Python 3",
   "language": "python",
   "name": "python3"
  },
  "language_info": {
   "codemirror_mode": {
    "name": "ipython",
    "version": 3
   },
   "file_extension": ".py",
   "mimetype": "text/x-python",
   "name": "python",
   "nbconvert_exporter": "python",
   "pygments_lexer": "ipython3",
   "version": "3.7.4"
  }
 },
 "nbformat": 4,
 "nbformat_minor": 2
}
