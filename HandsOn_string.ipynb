{
 "cells": [
  {
   "cell_type": "markdown",
   "metadata": {},
   "source": [
    "### 1. Generate random numbers"
   ]
  },
  {
   "cell_type": "code",
   "execution_count": 3,
   "metadata": {},
   "outputs": [
    {
     "name": "stdout",
     "output_type": "stream",
     "text": [
      "0.09814379217163638 \n",
      "\n",
      "5.7904765587061675\n",
      "5.976862594102759\n",
      "4.570979659109172\n",
      "\n",
      "2\n",
      "paper\n"
     ]
    }
   ],
   "source": [
    "# Generate floating random numbers from interval [3,7)\n",
    "import random\n",
    "print(random.random(),'\\n')\n",
    "for x in range(3):\n",
    "    print(random.uniform(3, 7))   # Generating 3 random numbers\n",
    "print()\n",
    "\n",
    "# Simulate the dice, random number between 1 and 6\n",
    "print(random.randrange(1, 7))\n",
    "\n",
    "# Random element from a list of rock, paper and scissors\n",
    "li= ['rock','paper','scissors']\n",
    "print(random.choice(li))\n",
    "\n",
    "# choice() :- used to generate 1 random number from a container.\n",
    "# randrange(beg, end, step) :- used to generate random number(integer) but within a range specified in its arguments\n",
    "# shuffle() :- used to shuffle the entire list to randomly arrange them.\n",
    "# uniform(a, b) :- used to generate a floating point random number between the numbers mentioned in its arguments.\n",
    "# random() :- used to generate a float random number less than 1 and greater or equal to 0."
   ]
  },
  {
   "cell_type": "markdown",
   "metadata": {},
   "source": [
    "### 2. Slicing in string"
   ]
  },
  {
   "cell_type": "code",
   "execution_count": 4,
   "metadata": {},
   "outputs": [
    {
     "name": "stdout",
     "output_type": "stream",
     "text": [
      "Enter the string: Rajasthan\n",
      "Rjshn\n",
      "aata\n",
      "nahtsajaR\n"
     ]
    }
   ],
   "source": [
    "# Print characters at the even index number \n",
    "# input: \"Rajasthan\"\n",
    "str1 = input('Enter the string: ')\n",
    "print(str1[::2])\n",
    "\n",
    "# Print characters at the odd index number \n",
    "print(str1[1::2])\n",
    "\n",
    "# Print the given string in reverse \n",
    "print(str1[::-1])"
   ]
  },
  {
   "cell_type": "code",
   "execution_count": 5,
   "metadata": {},
   "outputs": [
    {
     "name": "stdout",
     "output_type": "stream",
     "text": [
      "Enter the string: Forsk Technologies\n",
      "Forsk\n",
      "Technologies\n",
      "Forsk\n",
      "Technologies\n"
     ]
    }
   ],
   "source": [
    "# Print Forsk using slicing ( forward indexing Left to Right ) \n",
    "# input: \"Forsk Technologies\"\n",
    "str2 = input('Enter the string: ')\n",
    "ind= str2.find(' ')\n",
    "print(str2[:ind])\n",
    "\n",
    "# Print Technologies using slicing ( forward indexing Left to Right )  \n",
    "print(str2[ind+1:])\n",
    "\n",
    "# Print Forsk using slicing ( Reverse indexing Right to Left )\n",
    "n= len(str2)\n",
    "print(str2[-n:-(n-ind)]) \n",
    "\n",
    "# Print Technologies using slicing ( Reverse indexing Right to Left )  \n",
    "print(str2[-(n-ind)+1::1])"
   ]
  },
  {
   "cell_type": "code",
   "execution_count": 6,
   "metadata": {},
   "outputs": [
    {
     "name": "stdout",
     "output_type": "stream",
     "text": [
      "Enter the string: Forsk Technologies\n",
      "ksroF\n",
      "ksroF\n",
      "seigolonhceT\n",
      "Technologies Forsk\n",
      "Technologies Forsk\n"
     ]
    }
   ],
   "source": [
    "# input: \"Forsk Technologies\"\n",
    "# Print ksroF using slicing ( forward indexing and Reverse  Indexing)\n",
    "\n",
    "str2 = input('Enter the string: ')\n",
    "ind= str2.find(' ')\n",
    "n= len(str2)\n",
    "print(str2[ind-1::-1])\n",
    "print(str2[-(n-ind)-1:-n-1:-1])\n",
    "\n",
    "# Print siesgolonhceT using slicing ( forward indexing Left to Right )  \n",
    "print(str2[-1:-(n-ind):-1])\n",
    "\n",
    "# Print Technologies Forsk using slicing ( forward indexing Left to Right  )  \n",
    "print(str2[ind+1:]+' '+str2[:ind])\n",
    "\n",
    "# Print Technologies Forsk using slicing ( Reverse indexing Right to Left ) \n",
    "print(str2[-(n-ind)+1:]+' '+str2[-n:-(n-ind)])"
   ]
  },
  {
   "cell_type": "code",
   "execution_count": null,
   "metadata": {},
   "outputs": [],
   "source": []
  }
 ],
 "metadata": {
  "kernelspec": {
   "display_name": "Python 3",
   "language": "python",
   "name": "python3"
  },
  "language_info": {
   "codemirror_mode": {
    "name": "ipython",
    "version": 3
   },
   "file_extension": ".py",
   "mimetype": "text/x-python",
   "name": "python",
   "nbconvert_exporter": "python",
   "pygments_lexer": "ipython3",
   "version": "3.7.4"
  }
 },
 "nbformat": 4,
 "nbformat_minor": 2
}
