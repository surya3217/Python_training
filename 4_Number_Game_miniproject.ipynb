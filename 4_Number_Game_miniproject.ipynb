{
 "cells": [
  {
   "cell_type": "markdown",
   "metadata": {},
   "source": [
    "## 04_Python_Number_Game_MiniProject"
   ]
  },
  {
   "cell_type": "code",
   "execution_count": 3,
   "metadata": {},
   "outputs": [
    {
     "name": "stdout",
     "output_type": "stream",
     "text": [
      "Please Guess the number between 1 to 9: 5\n",
      "\n",
      "secret number: 7\n",
      "guess number: 5\n",
      "Player lose and 'Computer wins'.\n"
     ]
    }
   ],
   "source": [
    "\"\"\"\n",
    "Challenge 1\n",
    "    The computer will think of a random number from 1 to 10 as secret number\n",
    "    Then ask you ( Player ) to guess the number and store as guess number.\n",
    "    Compare the guess number with the secret number. \n",
    "    \n",
    "    If the player guesses the right number he wins, so print player wins and computer lose.\n",
    "    If the player guesses the wrong number,then he loses so print player lose and computer wins.\n",
    "\n",
    "Challenge 2\n",
    "    Print the secret number and guess number when Player loses using format function \n",
    "\"\"\"\n",
    "import random\n",
    "secret= random.randrange(1,10)\n",
    "guess= int(input('Please Guess the number between 1 to 9: '))\n",
    "print('\\nsecret number: {}\\nguess number: {}'.format(secret,guess))\n",
    "if secret is guess:\n",
    "    print(\"'Player wins' and Computer lose.\\n\")\n",
    "else:\n",
    "    print(\"Player lose and 'Computer wins'.\")\n"
   ]
  },
  {
   "cell_type": "code",
   "execution_count": 4,
   "metadata": {},
   "outputs": [
    {
     "name": "stdout",
     "output_type": "stream",
     "text": [
      "Please Guess the number between 1 to 9: 4\n",
      "\n",
      "secret number: 5\n",
      "guess number: 4\n",
      "Player lose and 'Computer wins'.\n",
      "Please Guess the number between 1 to 9: 2\n",
      "\n",
      "secret number: 1\n",
      "guess number: 2\n",
      "Player lose and 'Computer wins'.\n",
      "Please Guess the number between 1 to 9: 6\n",
      "\n",
      "secret number: 3\n",
      "guess number: 6\n",
      "Player lose and 'Computer wins'.\n",
      "Please Guess the number between 1 to 9: 2\n",
      "\n",
      "secret number: 8\n",
      "guess number: 2\n",
      "Player lose and 'Computer wins'.\n",
      "Please Guess the number between 1 to 9: 2\n",
      "\n",
      "secret number: 5\n",
      "guess number: 2\n",
      "Player lose and 'Computer wins'.\n",
      "Please Guess the number between 1 to 9: 1\n",
      "\n",
      "secret number: 1\n",
      "guess number: 1\n",
      "'Player wins' and Computer lose.\n",
      "\n"
     ]
    }
   ],
   "source": [
    "\"\"\"\n",
    "Challenge 3: Let people play again and again until he guesses the right secret number\n",
    "\"\"\"\n",
    "import random\n",
    "while(True):\n",
    "    secret= random.randrange(1,10)\n",
    "    guess= int(input('Please Guess the number between 1 to 9: '))\n",
    "    print('\\nsecret number: {}\\nguess number: {}'.format(secret,guess))\n",
    "    if secret is guess:\n",
    "        print(\"'Player wins' and Computer lose.\\n\")\n",
    "        break\n",
    "    else:\n",
    "        print(\"Player lose and 'Computer wins'.\")\n",
    "\n"
   ]
  },
  {
   "cell_type": "code",
   "execution_count": null,
   "metadata": {},
   "outputs": [],
   "source": []
  }
 ],
 "metadata": {
  "kernelspec": {
   "display_name": "Python 3",
   "language": "python",
   "name": "python3"
  },
  "language_info": {
   "codemirror_mode": {
    "name": "ipython",
    "version": 3
   },
   "file_extension": ".py",
   "mimetype": "text/x-python",
   "name": "python",
   "nbconvert_exporter": "python",
   "pygments_lexer": "ipython3",
   "version": "3.7.4"
  }
 },
 "nbformat": 4,
 "nbformat_minor": 2
}
