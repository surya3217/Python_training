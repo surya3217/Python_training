{
 "cells": [
  {
   "cell_type": "code",
   "execution_count": 9,
   "metadata": {},
   "outputs": [
    {
     "name": "stdout",
     "output_type": "stream",
     "text": [
      "Enter number of rows: 6\n",
      "******\n",
      "******\n",
      "******\n",
      "******\n",
      "******\n",
      "******\n"
     ]
    }
   ],
   "source": [
    "# 1. Line Pattern\n",
    "row= int(input('Enter number of rows: '))\n",
    "for i in range(row):\n",
    "    print('*'*row)   # here same line repeating again so we have used multiplication(*)\n",
    "    "
   ]
  },
  {
   "cell_type": "code",
   "execution_count": 20,
   "metadata": {},
   "outputs": [
    {
     "name": "stdout",
     "output_type": "stream",
     "text": [
      "Enter number of rows: 6\n",
      "*\n",
      "**\n",
      "***\n",
      "****\n",
      "*****\n",
      "******\n"
     ]
    }
   ],
   "source": [
    "# 2. Half-Pyramid Pattern \n",
    "row= int(input('Enter number of rows: '))\n",
    "for i in range(1, row+1):\n",
    "    for j in range(1,i+1):\n",
    "        print('*', end='')\n",
    "    print()  \n",
    "    \n",
    "#'''or'''\n",
    "#for i in range(row):\n",
    "#    print('*'*i)   # here same line repeating again so we have used multiplication(*)\n",
    "    "
   ]
  },
  {
   "cell_type": "code",
   "execution_count": 30,
   "metadata": {},
   "outputs": [
    {
     "name": "stdout",
     "output_type": "stream",
     "text": [
      "Enter number of rows: 6\n",
      "******\n",
      "*****\n",
      "****\n",
      "***\n",
      "**\n",
      "*\n"
     ]
    }
   ],
   "source": [
    "# 3. Downward Half-Pyramid Pattern\n",
    "row= int(input('Enter number of rows: '))\n",
    "for i in range(1,row+1):\n",
    "    for j in range(row-i+1,0,-1):\n",
    "        print('*', end='')\n",
    "    print()\n",
    "\n",
    "#'''Or'''\n",
    "#for i in range(row+1):\n",
    "#    print('*'*(row-i))   # here same line repeating again so we have used multiplication(*)\n",
    "    "
   ]
  },
  {
   "cell_type": "code",
   "execution_count": 25,
   "metadata": {
    "scrolled": true
   },
   "outputs": [
    {
     "name": "stdout",
     "output_type": "stream",
     "text": [
      "Enter number of rows: 6\n",
      "     *\n",
      "    **\n",
      "   ***\n",
      "  ****\n",
      " *****\n",
      "******\n"
     ]
    }
   ],
   "source": [
    "# 4. Downward Half-Pyramid Pattern\n",
    "row= int(input('Enter number of rows: '))\n",
    "\n",
    "#for i in range(1,row+1):\n",
    "#    print(' '*(row-i), '*'*i)\n",
    "\n",
    "'''Or'''\n",
    "\n",
    "for i in range(1,row+1):\n",
    "    for j in range(1,row-i+1):\n",
    "        print(' ', end='')\n",
    "    \n",
    "    for k in range(1,i+1):\n",
    "        print('*', end='')\n",
    "    print()"
   ]
  },
  {
   "cell_type": "code",
   "execution_count": 4,
   "metadata": {},
   "outputs": [
    {
     "name": "stdout",
     "output_type": "stream",
     "text": [
      "Enter the number of rows: 5\n",
      "*****\n",
      " ****\n",
      "  ***\n",
      "   **\n",
      "    *\n"
     ]
    }
   ],
   "source": [
    "# 5.Pattern\n",
    "row= int(input('Enter the number of rows: '))\n",
    "for i in range(1,row+1):       \n",
    "    for j in range(1,i):        ## loop for space printing\n",
    "        print(' ', end='')\n",
    "\n",
    "    print('*'*(row-i+1))     ## loop for star printing\n"
   ]
  },
  {
   "cell_type": "code",
   "execution_count": 3,
   "metadata": {},
   "outputs": [
    {
     "name": "stdout",
     "output_type": "stream",
     "text": [
      "Enter number of rows: 6\n",
      "       *\n",
      "      ***\n",
      "     *****\n",
      "    *******\n",
      "   *********\n",
      "  ***********\n"
     ]
    }
   ],
   "source": [
    "# 6.Pattern\n",
    "row= int(input('Enter number of rows: '))\n",
    "\n",
    "#for i in range(row):\n",
    "#    print(' '*(row-i) + '*'*(2*i+1) )\n",
    "\n",
    "'''Or'''\n",
    "\n",
    "for i in range(row):\n",
    "    for j in range(row-i+1):\n",
    "        print(' ', end='')\n",
    "    \n",
    "    for k in range(1,(2*i+2)):\n",
    "        print('*', end='')\n",
    "    print()"
   ]
  },
  {
   "cell_type": "code",
   "execution_count": null,
   "metadata": {},
   "outputs": [],
   "source": []
  }
 ],
 "metadata": {
  "kernelspec": {
   "display_name": "Python 3",
   "language": "python",
   "name": "python3"
  },
  "language_info": {
   "codemirror_mode": {
    "name": "ipython",
    "version": 3
   },
   "file_extension": ".py",
   "mimetype": "text/x-python",
   "name": "python",
   "nbconvert_exporter": "python",
   "pygments_lexer": "ipython3",
   "version": "3.7.4"
  }
 },
 "nbformat": 4,
 "nbformat_minor": 2
}
