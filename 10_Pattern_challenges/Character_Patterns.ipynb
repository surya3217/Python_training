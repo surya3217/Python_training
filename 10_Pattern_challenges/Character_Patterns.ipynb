{
 "cells": [
  {
   "cell_type": "code",
   "execution_count": 1,
   "metadata": {},
   "outputs": [
    {
     "name": "stdout",
     "output_type": "stream",
     "text": [
      "Enter number of rows: 5\n",
      "EDCBA\n",
      "EDCBA\n",
      "EDCBA\n",
      "EDCBA\n",
      "EDCBA\n"
     ]
    }
   ],
   "source": [
    "# 1.Pattern\n",
    "row= int(input('Enter number of rows: '))\n",
    "str1= 'EDCBA'\n",
    "for i in range(row):\n",
    "    print(str1)\n",
    "    "
   ]
  },
  {
   "cell_type": "code",
   "execution_count": 5,
   "metadata": {},
   "outputs": [
    {
     "name": "stdout",
     "output_type": "stream",
     "text": [
      "Enter number of rows: 5\n",
      "AAAAA\n",
      "BBBBB\n",
      "CCCCC\n",
      "DDDDD\n",
      "EEEEE\n"
     ]
    }
   ],
   "source": [
    "# 2.Pattern\n",
    "row= int(input('Enter number of rows: '))\n",
    "for i in range(row):       # ascii code of 'A'=65\n",
    "    print(chr(65+i)*row)\n"
   ]
  },
  {
   "cell_type": "code",
   "execution_count": 7,
   "metadata": {},
   "outputs": [
    {
     "name": "stdout",
     "output_type": "stream",
     "text": [
      "Enter number of rows: 5\n",
      "EEEEE\n",
      "DDDDD\n",
      "CCCCC\n",
      "BBBBB\n",
      "AAAAA\n"
     ]
    }
   ],
   "source": [
    "# 3.Pattern\n",
    "row= int(input('Enter number of rows: '))\n",
    "for i in range(row):       # ascii code of 'E'=69\n",
    "    print(chr(69-i)*row)\n"
   ]
  },
  {
   "cell_type": "code",
   "execution_count": null,
   "metadata": {},
   "outputs": [],
   "source": []
  }
 ],
 "metadata": {
  "kernelspec": {
   "display_name": "Python 3",
   "language": "python",
   "name": "python3"
  },
  "language_info": {
   "codemirror_mode": {
    "name": "ipython",
    "version": 3
   },
   "file_extension": ".py",
   "mimetype": "text/x-python",
   "name": "python",
   "nbconvert_exporter": "python",
   "pygments_lexer": "ipython3",
   "version": "3.7.4"
  }
 },
 "nbformat": 4,
 "nbformat_minor": 2
}
