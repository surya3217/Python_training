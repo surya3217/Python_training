{
 "cells": [
  {
   "cell_type": "code",
   "execution_count": 1,
   "metadata": {},
   "outputs": [
    {
     "name": "stdout",
     "output_type": "stream",
     "text": [
      "Enter number of rows: 5\n",
      "EDCBA\n",
      "EDCBA\n",
      "EDCBA\n",
      "EDCBA\n",
      "EDCBA\n"
     ]
    }
   ],
   "source": [
    "# 1.Pattern\n",
    "row= int(input('Enter number of rows: '))\n",
    "str1= 'EDCBA'\n",
    "for i in range(row):\n",
    "    print(str1)\n",
    "    "
   ]
  },
  {
   "cell_type": "code",
   "execution_count": 5,
   "metadata": {},
   "outputs": [
    {
     "name": "stdout",
     "output_type": "stream",
     "text": [
      "Enter number of rows: 5\n",
      "AAAAA\n",
      "BBBBB\n",
      "CCCCC\n",
      "DDDDD\n",
      "EEEEE\n"
     ]
    }
   ],
   "source": [
    "# 2.Pattern\n",
    "row= int(input('Enter number of rows: '))\n",
    "for i in range(row):       # ascii code of 'A'=65\n",
    "    print(chr(65+i)*row)\n"
   ]
  },
  {
   "cell_type": "code",
   "execution_count": 7,
   "metadata": {},
   "outputs": [
    {
     "name": "stdout",
     "output_type": "stream",
     "text": [
      "Enter number of rows: 5\n",
      "EEEEE\n",
      "DDDDD\n",
      "CCCCC\n",
      "BBBBB\n",
      "AAAAA\n"
     ]
    }
   ],
   "source": [
    "# 3.Pattern\n",
    "row= int(input('Enter number of rows: '))\n",
    "for i in range(row):       # ascii code of 'E'=69\n",
    "    print(chr(69-i)*row)\n"
   ]
  },
  {
   "cell_type": "code",
   "execution_count": 8,
   "metadata": {},
   "outputs": [
    {
     "name": "stdout",
     "output_type": "stream",
     "text": [
      "Enter the number of rows: 5\n",
      "A\n",
      "AB\n",
      "ABC\n",
      "ABCD\n",
      "ABCDE\n"
     ]
    }
   ],
   "source": [
    "# 4.Pattern\n",
    "row= int(input('Enter the number of rows: '))\n",
    "for i in range(1,row+1):\n",
    "    for j in range(65,65+i):\n",
    "        print(chr(j), end='')\n",
    "    print() "
   ]
  },
  {
   "cell_type": "code",
   "execution_count": 2,
   "metadata": {},
   "outputs": [
    {
     "name": "stdout",
     "output_type": "stream",
     "text": [
      "Enter the number of rows: 6\n",
      "A\n",
      "BB\n",
      "CCC\n",
      "DDDD\n",
      "EEEEE\n",
      "FFFFFF\n"
     ]
    }
   ],
   "source": [
    "# 5.Pattern\n",
    "row= int(input('Enter the number of rows: '))\n",
    "for i in range(1,row+1):        ## row starts from 1 to row no.\n",
    "    for j in range(i):          ## starts from 0 to i\n",
    "        print(chr(64+i), end='')\n",
    "    print() \n"
   ]
  },
  {
   "cell_type": "code",
   "execution_count": 3,
   "metadata": {},
   "outputs": [
    {
     "name": "stdout",
     "output_type": "stream",
     "text": [
      "Enter the number of rows: 6\n",
      "AAAAAA\n",
      "BBBBB\n",
      "CCCC\n",
      "DDD\n",
      "EE\n",
      "F\n"
     ]
    }
   ],
   "source": [
    "# 6.Pattern\n",
    "row= int(input('Enter the number of rows: '))\n",
    "j=0\n",
    "for i in range(row,0,-1):\n",
    "    print(chr(65+j)*i)\n",
    "    j+=1\n"
   ]
  },
  {
   "cell_type": "code",
   "execution_count": 4,
   "metadata": {},
   "outputs": [
    {
     "name": "stdout",
     "output_type": "stream",
     "text": [
      "Enter the number of rows: 6\n",
      "ABCDEF\n",
      "ABCDE\n",
      "ABCD\n",
      "ABC\n",
      "AB\n",
      "A\n"
     ]
    }
   ],
   "source": [
    "# 7.Pattern\n",
    "row= int(input('Enter the number of rows: '))\n",
    "for i in range(row,0,-1):\n",
    "    for j in range(65,65+i):\n",
    "        print(chr(j), end='')\n",
    "    print() \n"
   ]
  },
  {
   "cell_type": "code",
   "execution_count": 7,
   "metadata": {},
   "outputs": [
    {
     "name": "stdout",
     "output_type": "stream",
     "text": [
      "Enter the number of rows: 5\n",
      "EDCBA\n",
      "EDCB\n",
      "EDC\n",
      "ED\n",
      "E\n",
      "\n"
     ]
    }
   ],
   "source": [
    "# 8.Pattern\n",
    "row= int(input('Enter the number of rows: '))  \n",
    "for i in range(row+1):              ## runs for rows less than 6\n",
    "    for j in range(69,64+i,-1):\n",
    "        print(chr(j), end='')\n",
    "    print()\n"
   ]
  },
  {
   "cell_type": "code",
   "execution_count": 8,
   "metadata": {},
   "outputs": [
    {
     "name": "stdout",
     "output_type": "stream",
     "text": [
      "Enter the number of rows: 6\n",
      "     A\n",
      "    AB\n",
      "   ABC\n",
      "  ABCD\n",
      " ABCDE\n",
      "ABCDEF\n"
     ]
    }
   ],
   "source": [
    "# 9.Pattern\n",
    "row= int(input('Enter the number of rows: '))\n",
    "for i in range(1,row+1):       \n",
    "    for j in range(1,row-i+1):    ## loop for space printing\n",
    "        print(' ', end='')\n",
    "    \n",
    "    for k in range(65,65+i):      ## loop for character printing\n",
    "        print(chr(k), end='')\n",
    "    print()\n"
   ]
  },
  {
   "cell_type": "code",
   "execution_count": 12,
   "metadata": {},
   "outputs": [
    {
     "name": "stdout",
     "output_type": "stream",
     "text": [
      "Enter the number of rows: 6\n",
      "     A\n",
      "    BB\n",
      "   CCC\n",
      "  DDDD\n",
      " EEEEE\n",
      "FFFFFF\n"
     ]
    }
   ],
   "source": [
    "# 10.Pattern\n",
    "row= int(input('Enter the number of rows: '))\n",
    "for i in range(1,row+1):       \n",
    "    for j in range(1,row-i+1):    ## loop for space printing\n",
    "        print(' ', end='')\n",
    "    \n",
    "    for k in range(i):        ## loop for character printing\n",
    "        print(chr(64+i), end='')\n",
    "    print()\n"
   ]
  },
  {
   "cell_type": "code",
   "execution_count": 2,
   "metadata": {},
   "outputs": [
    {
     "name": "stdout",
     "output_type": "stream",
     "text": [
      "Enter the number of rows: 6\n",
      "ABCDEF\n",
      " ABCDE\n",
      "  ABCD\n",
      "   ABC\n",
      "    AB\n",
      "     A\n"
     ]
    }
   ],
   "source": [
    "# 11.Pattern\n",
    "row= int(input('Enter the number of rows: '))\n",
    "for i in range(1,row+1):       \n",
    "    for j in range(1,i):         ## loop for space printing\n",
    "        print(' ', end='')\n",
    "    \n",
    "    for k in range(1,row-i+2):\n",
    "        print(chr(64+k),end='')  ## loop for character printing\n",
    "    print()\n",
    "    "
   ]
  },
  {
   "cell_type": "code",
   "execution_count": 1,
   "metadata": {},
   "outputs": [
    {
     "name": "stdout",
     "output_type": "stream",
     "text": [
      "Enter the number of rows: 6\n",
      "       A\n",
      "      BBB\n",
      "     CCCCC\n",
      "    DDDDDDD\n",
      "   EEEEEEEEE\n",
      "  FFFFFFFFFFF\n"
     ]
    }
   ],
   "source": [
    "# 12.Pattern\n",
    "row= int(input('Enter the number of rows: '))\n",
    "for i in range(row):\n",
    "    for j in range(row-i+1):\n",
    "        print(' ', end='')       ## loop for space printing\n",
    "    \n",
    "    for k in range(1,(2*i+2)):\n",
    "        print(chr(65+i), end='')    ## loop for character printing\n",
    "    print()\n"
   ]
  },
  {
   "cell_type": "code",
   "execution_count": 2,
   "metadata": {},
   "outputs": [
    {
     "name": "stdout",
     "output_type": "stream",
     "text": [
      "Enter the number of rows: 6\n",
      "       A\n",
      "      ABC\n",
      "     ABCDE\n",
      "    ABCDEFG\n",
      "   ABCDEFGHI\n",
      "  ABCDEFGHIJK\n"
     ]
    }
   ],
   "source": [
    "# 13.Pattern\n",
    "row= int(input('Enter the number of rows: '))\n",
    "for i in range(row):\n",
    "    for j in range(row-i+1):\n",
    "        print(' ', end='')        ## loop for space printing\n",
    "    \n",
    "    for k in range(1,(2*i+2)):\n",
    "        print(chr(64+k), end='')   ## loop for character printing\n",
    "    print()\n"
   ]
  },
  {
   "cell_type": "code",
   "execution_count": 1,
   "metadata": {},
   "outputs": [
    {
     "name": "stdout",
     "output_type": "stream",
     "text": [
      "Enter the number of rows: 6\n",
      "       A\n",
      "      CBA\n",
      "     EDCBA\n",
      "    GFEDCBA\n",
      "   IHGFEDCBA\n",
      "  KJIHGFEDCBA\n"
     ]
    }
   ],
   "source": [
    "# 14.Pattern\n",
    "row= int(input('Enter the number of rows: '))\n",
    "for i in range(row):\n",
    "    for j in range(row-i+1):\n",
    "        print(' ', end='')          ## loop for space printing\n",
    "    \n",
    "    for k in range((2*i+1),0,-1):\n",
    "        print(chr(64+k), end='')    ## loop for character printing\n",
    "    print()\n"
   ]
  },
  {
   "cell_type": "code",
   "execution_count": 1,
   "metadata": {},
   "outputs": [
    {
     "name": "stdout",
     "output_type": "stream",
     "text": [
      "Enter the number of rows: 6\n",
      "FFFFFFFFFFF\n",
      " EEEEEEEEE\n",
      "  DDDDDDD\n",
      "   CCCCC\n",
      "    BBB\n",
      "     A\n"
     ]
    }
   ],
   "source": [
    "# 15.Pattern\n",
    "row= int(input('Enter the number of rows: '))\n",
    "for i in range(row):\n",
    "    for j in range(i):\n",
    "        print(' ', end='')        ## loop for space printing\n",
    " \n",
    "    for k in range((2*row-1)-2*i ,0,-1):\n",
    "        print(chr(64+row-i), end='')     ## loop for character printing\n",
    "    print()\n"
   ]
  },
  {
   "cell_type": "code",
   "execution_count": 2,
   "metadata": {},
   "outputs": [
    {
     "name": "stdout",
     "output_type": "stream",
     "text": [
      "Enter the number of rows: 6\n",
      "ABCDEFGHIJK\n",
      " ABCDEFGHI\n",
      "  ABCDEFG\n",
      "   ABCDE\n",
      "    ABC\n",
      "     A\n"
     ]
    }
   ],
   "source": [
    "# 16.Pattern\n",
    "row= int(input('Enter the number of rows: '))\n",
    "for i in range(row):\n",
    "    num=1\n",
    "    for j in range(i):\n",
    "        print(' ', end='')     ## loop for space printing\n",
    " \n",
    "    for k in range((2*row-1)-2*i ,0,-1):\n",
    "        print(chr(64+num), end='')     ## loop for character printing\n",
    "        num+=1\n",
    "    print()\n"
   ]
  },
  {
   "cell_type": "code",
   "execution_count": 1,
   "metadata": {},
   "outputs": [
    {
     "name": "stdout",
     "output_type": "stream",
     "text": [
      "Enter number of rows: 6\n",
      "C\n",
      "CB\n",
      "CBA\n",
      "CBA\n",
      "CB\n",
      "C\n"
     ]
    }
   ],
   "source": [
    "# 17.Pattern\n",
    "def upper_pattern(n):\n",
    "    '''upper pattern logic,common for both'''\n",
    "    for i in range(1,n+1):\n",
    "        num=n\n",
    "        for j in range(1,i+1):\n",
    "            print(chr(64+num),end='')\n",
    "            num-=1\n",
    "        print()\n",
    "\n",
    "def lower_pattern(n,num):\n",
    "    '''lower pattern logic'''\n",
    "    for i in range(1,n):\n",
    "        x= num\n",
    "        for j in range(n-i,0,-1):\n",
    "            print(chr(64+x), end='')\n",
    "            x-=1\n",
    "        print()\n",
    "\n",
    "        \n",
    "row= int(input('Enter number of rows: '))\n",
    "if row%2==0:\n",
    "    n= (row)//2         ## for even no. of rows\n",
    "    upper_pattern(n)\n",
    "    lower_pattern(n+1,n)\n",
    "        \n",
    "else:\n",
    "    n= (row)//2+1        ## for odd no. of rows\n",
    "    upper_pattern(n)\n",
    "    lower_pattern(n,n)\n"
   ]
  },
  {
   "cell_type": "code",
   "execution_count": null,
   "metadata": {},
   "outputs": [],
   "source": []
  }
 ],
 "metadata": {
  "kernelspec": {
   "display_name": "Python 3",
   "language": "python",
   "name": "python3"
  },
  "language_info": {
   "codemirror_mode": {
    "name": "ipython",
    "version": 3
   },
   "file_extension": ".py",
   "mimetype": "text/x-python",
   "name": "python",
   "nbconvert_exporter": "python",
   "pygments_lexer": "ipython3",
   "version": "3.7.4"
  }
 },
 "nbformat": 4,
 "nbformat_minor": 2
}
