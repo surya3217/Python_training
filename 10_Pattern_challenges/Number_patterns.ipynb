{
 "cells": [
  {
   "cell_type": "code",
   "execution_count": 5,
   "metadata": {},
   "outputs": [
    {
     "name": "stdout",
     "output_type": "stream",
     "text": [
      "Enter the number of rows: 5\n",
      "11111\n",
      "22222\n",
      "33333\n",
      "44444\n",
      "55555\n"
     ]
    }
   ],
   "source": [
    "# 1.Pattern\n",
    "row= int(input('Enter the number of rows: '))\n",
    "for i in range(1,row+1):\n",
    "    print(str(i)*5)\n",
    "    "
   ]
  },
  {
   "cell_type": "code",
   "execution_count": 6,
   "metadata": {},
   "outputs": [
    {
     "name": "stdout",
     "output_type": "stream",
     "text": [
      "Enter the number of rows: 5\n",
      "5 4 3 2 1\n",
      "5 4 3 2 1\n",
      "5 4 3 2 1\n",
      "5 4 3 2 1\n",
      "5 4 3 2 1\n"
     ]
    }
   ],
   "source": [
    "# 2.Pattern\n",
    "row= int(input('Enter the number of rows: '))\n",
    "num= '5 4 3 2 1'\n",
    "for i in range(row):\n",
    "    print(num)\n"
   ]
  },
  {
   "cell_type": "code",
   "execution_count": 9,
   "metadata": {},
   "outputs": [
    {
     "name": "stdout",
     "output_type": "stream",
     "text": [
      "Enter the number of rows: 5\n",
      "1\n",
      "12\n",
      "123\n",
      "1234\n",
      "12345\n"
     ]
    }
   ],
   "source": [
    "# 3.Pattern\n",
    "row= int(input('Enter the number of rows: '))\n",
    "for i in range(1,row+1):\n",
    "    for j in range(1,i+1):\n",
    "        print(j, end='')\n",
    "    print() \n"
   ]
  },
  {
   "cell_type": "code",
   "execution_count": 15,
   "metadata": {},
   "outputs": [
    {
     "name": "stdout",
     "output_type": "stream",
     "text": [
      "Enter the number of rows: 5\n",
      "11111\n",
      "2222\n",
      "333\n",
      "44\n",
      "5\n"
     ]
    }
   ],
   "source": [
    "# 4.Pattern\n",
    "row= int(input('Enter the number of rows: '))\n",
    "num= 1    \n",
    "for i in range(row,0,-1):\n",
    "    print(str(num)*i)\n",
    "    num+=1\n",
    "    "
   ]
  },
  {
   "cell_type": "code",
   "execution_count": 18,
   "metadata": {},
   "outputs": [
    {
     "name": "stdout",
     "output_type": "stream",
     "text": [
      "Enter the number of rows: 5\n",
      "55555\n",
      "4444\n",
      "333\n",
      "22\n",
      "1\n"
     ]
    }
   ],
   "source": [
    "# 5.Pattern\n",
    "row= int(input('Enter the number of rows: '))\n",
    "for i in range(row,0,-1):\n",
    "    print(str(i)*i)\n",
    "    "
   ]
  },
  {
   "cell_type": "code",
   "execution_count": 11,
   "metadata": {},
   "outputs": [
    {
     "name": "stdout",
     "output_type": "stream",
     "text": [
      "Enter the number of rows: 5\n",
      "54321\n",
      "5432\n",
      "543\n",
      "54\n",
      "5\n"
     ]
    }
   ],
   "source": [
    "# 6.Pattern\n",
    "row= int(input('Enter the number of rows: '))\n",
    "for i in range(row):\n",
    "    for j in range(row,i,-1):\n",
    "        print(j, end='')\n",
    "    print()\n"
   ]
  },
  {
   "cell_type": "markdown",
   "metadata": {},
   "source": [
    "### 7. Pattern with only one print statment"
   ]
  },
  {
   "cell_type": "code",
   "execution_count": 12,
   "metadata": {},
   "outputs": [
    {
     "name": "stdout",
     "output_type": "stream",
     "text": [
      "1\n",
      "22\n",
      "333\n",
      "4444\n",
      "55555\n"
     ]
    }
   ],
   "source": [
    "for i in range(1,6):\n",
    "    for j in range(1,i+1):\n",
    "        print(i, end='' if j< i else '\\n')\n"
   ]
  },
  {
   "cell_type": "code",
   "execution_count": 65,
   "metadata": {},
   "outputs": [
    {
     "name": "stdout",
     "output_type": "stream",
     "text": [
      "Enter the number of rows: 6\n",
      "     1\n",
      "    12\n",
      "   123\n",
      "  1234\n",
      " 12345\n",
      "123456\n"
     ]
    }
   ],
   "source": [
    "# 8.Pattern\n",
    "row= int(input('Enter the number of rows: '))\n",
    "for i in range(1,row+1):       \n",
    "    for j in range(1,row-i+1):    ## loop for space printing\n",
    "        print(' ', end='')\n",
    "    \n",
    "    for k in range(1,i+1):        ## loop for number printing\n",
    "        print(k, end='')\n",
    "    print()\n"
   ]
  },
  {
   "cell_type": "code",
   "execution_count": 66,
   "metadata": {},
   "outputs": [
    {
     "name": "stdout",
     "output_type": "stream",
     "text": [
      "Enter the number of rows: 6\n",
      "666666\n",
      " 55555\n",
      "  4444\n",
      "   333\n",
      "    22\n",
      "     1\n"
     ]
    }
   ],
   "source": [
    "# 9.Pattern\n",
    "row= int(input('Enter the number of rows: '))\n",
    "num= row\n",
    "for i in range(1,row+1):       \n",
    "    for j in range(1,i):        ## loop for space printing\n",
    "        print(' ', end='')\n",
    "\n",
    "    print(str(num)*(row-i+1))   ## loop for number printing\n",
    "    num-=1"
   ]
  },
  {
   "cell_type": "code",
   "execution_count": 67,
   "metadata": {},
   "outputs": [
    {
     "name": "stdout",
     "output_type": "stream",
     "text": [
      "Enter the number of rows: 6\n",
      "123456\n",
      " 12345\n",
      "  1234\n",
      "   123\n",
      "    12\n",
      "     1\n"
     ]
    }
   ],
   "source": [
    "# 10.Pattern\n",
    "row= int(input('Enter the number of rows: '))\n",
    "for i in range(1,row+1):       \n",
    "    for j in range(1,i):        ## loop for space printing\n",
    "        print(' ', end='')\n",
    "    \n",
    "    for k in range(1,row-i+2):\n",
    "        print(k,end='')        ## loop for number printing\n",
    "    print()"
   ]
  },
  {
   "cell_type": "code",
   "execution_count": 2,
   "metadata": {},
   "outputs": [
    {
     "name": "stdout",
     "output_type": "stream",
     "text": [
      "Enter the number of rows: 6\n",
      "       1\n",
      "      222\n",
      "     33333\n",
      "    4444444\n",
      "   555555555\n",
      "  66666666666\n"
     ]
    }
   ],
   "source": [
    "# 11.Pattern\n",
    "row= int(input('Enter the number of rows: '))\n",
    "for i in range(row):\n",
    "    for j in range(row-i+1):\n",
    "        print(' ', end='')       ## loop for space printing\n",
    "    \n",
    "    for k in range(1,(2*i+2)):\n",
    "        print(i+1, end='')       ## loop for number printing\n",
    "    print()\n"
   ]
  },
  {
   "cell_type": "code",
   "execution_count": 4,
   "metadata": {},
   "outputs": [
    {
     "name": "stdout",
     "output_type": "stream",
     "text": [
      "Enter the number of rows: 5\n",
      "      1\n",
      "     123\n",
      "    12345\n",
      "   1234567\n",
      "  123456789\n"
     ]
    }
   ],
   "source": [
    "# 12.Pattern\n",
    "row= int(input('Enter the number of rows: '))\n",
    "for i in range(row):\n",
    "    for j in range(row-i+1):\n",
    "        print(' ', end='')      ## loop for space printing\n",
    "    \n",
    "    for k in range(1,(2*i+2)):\n",
    "        print(k, end='')        ## loop for number printing\n",
    "    print()\n"
   ]
  },
  {
   "cell_type": "code",
   "execution_count": 6,
   "metadata": {
    "scrolled": true
   },
   "outputs": [
    {
     "name": "stdout",
     "output_type": "stream",
     "text": [
      "Enter the number of rows: 5\n",
      "      1\n",
      "     321\n",
      "    54321\n",
      "   7654321\n",
      "  987654321\n"
     ]
    }
   ],
   "source": [
    "# 13.Pattern\n",
    "row= int(input('Enter the number of rows: '))\n",
    "for i in range(row):\n",
    "    for j in range(row-i+1):\n",
    "        print(' ', end='')     ## loop for space printing\n",
    "    \n",
    "    for k in range((2*i+1),0,-1):\n",
    "        print(k, end='')       ## loop for number printing\n",
    "    print()\n"
   ]
  },
  {
   "cell_type": "code",
   "execution_count": 4,
   "metadata": {},
   "outputs": [
    {
     "name": "stdout",
     "output_type": "stream",
     "text": [
      "Enter the number of rows: 6\n",
      "66666666666\n",
      " 555555555\n",
      "  4444444\n",
      "   33333\n",
      "    222\n",
      "     1\n"
     ]
    }
   ],
   "source": [
    "# 14.Pattern\n",
    "row= int(input('Enter the number of rows: '))\n",
    "for i in range(row):\n",
    "    for j in range(i):\n",
    "        print(' ', end='')     ## loop for space printing\n",
    " \n",
    "    for k in range((2*row-1)-2*i ,0,-1):\n",
    "        print(row-i, end='')     ## loop for number printing\n",
    "    print()\n"
   ]
  },
  {
   "cell_type": "code",
   "execution_count": 4,
   "metadata": {},
   "outputs": [
    {
     "name": "stdout",
     "output_type": "stream",
     "text": [
      "Enter the number of rows: 5\n",
      "123456789\n",
      " 1234567\n",
      "  12345\n",
      "   123\n",
      "    1\n"
     ]
    }
   ],
   "source": [
    "# 15.Pattern\n",
    "row= int(input('Enter the number of rows: '))\n",
    "for i in range(row):\n",
    "    num=1\n",
    "    for j in range(i):\n",
    "        print(' ', end='')    ## loop for space printing\n",
    " \n",
    "    for k in range((2*row-1)-2*i ,0,-1):\n",
    "        print(num, end='')\n",
    "        num+=1\n",
    "    print()"
   ]
  },
  {
   "cell_type": "code",
   "execution_count": 3,
   "metadata": {},
   "outputs": [
    {
     "name": "stdout",
     "output_type": "stream",
     "text": [
      "Enter number of rows: 6\n",
      "1\n",
      "22\n",
      "333\n",
      "333\n",
      "22\n",
      "1\n",
      "Enter number of rows: 7\n",
      "1\n",
      "22\n",
      "333\n",
      "4444\n",
      "333\n",
      "22\n",
      "1\n"
     ]
    }
   ],
   "source": [
    "# 16.Pattern\n",
    "def upper_pattern(n):\n",
    "    '''upper pattern logic,common for both'''\n",
    "    for i in range(1, n+1):\n",
    "        for j in range(1,i+1):\n",
    "            print(i,end='')\n",
    "        print()\n",
    "\n",
    "def lower_pattern(n):\n",
    "    '''lower pattern logic'''\n",
    "    for i in range(1,n):\n",
    "        for j in range(n-i,0,-1):\n",
    "            print(n-i, end='')\n",
    "        print()\n",
    "\n",
    "\n",
    "for i in range(2):    \n",
    "    row= int(input('Enter number of rows: '))\n",
    "    if row%2==0:\n",
    "        n= (row)//2         ## for even no. of rows\n",
    "        upper_pattern(n)\n",
    "        lower_pattern(n+1)\n",
    "\n",
    "    else:\n",
    "        n= (row)//2+1        ## for odd no. of rows\n",
    "        upper_pattern(n)\n",
    "        lower_pattern(n)\n"
   ]
  },
  {
   "cell_type": "code",
   "execution_count": 7,
   "metadata": {},
   "outputs": [
    {
     "name": "stdout",
     "output_type": "stream",
     "text": [
      "Enter number of rows: 7\n",
      "4\n",
      "43\n",
      "432\n",
      "4321\n",
      "432\n",
      "43\n",
      "4\n",
      "Enter number of rows: 8\n",
      "4\n",
      "43\n",
      "432\n",
      "4321\n",
      "4321\n",
      "432\n",
      "43\n",
      "4\n"
     ]
    }
   ],
   "source": [
    "    \n",
    "# 17.Pattern\n",
    "def upper_pattern(n):\n",
    "    '''upper pattern logic,common for both'''\n",
    "    for i in range(1,n+1):\n",
    "        num=n\n",
    "        for j in range(1,i+1):\n",
    "            print(num,end='')\n",
    "            num-=1\n",
    "        print()\n",
    "\n",
    "def lower_pattern(n,num):\n",
    "    '''lower pattern logic'''    \n",
    "    for i in range(1,n):\n",
    "        x= num\n",
    "        for j in range(n-i,0,-1):\n",
    "            print(x, end='')\n",
    "            x-=1\n",
    "        print()\n",
    "\n",
    "\n",
    "for i in range(2):    \n",
    "    row= int(input('Enter number of rows: '))\n",
    "    if row%2==0:\n",
    "        n= (row)//2         ## for even no. of rows\n",
    "        upper_pattern(n)\n",
    "        lower_pattern(n+1,n)\n",
    "\n",
    "    else:\n",
    "        n= (row)//2+1        ## for odd no. of rows\n",
    "        upper_pattern(n)\n",
    "        lower_pattern(n,n)\n"
   ]
  },
  {
   "cell_type": "code",
   "execution_count": 8,
   "metadata": {},
   "outputs": [
    {
     "name": "stdout",
     "output_type": "stream",
     "text": [
      "Enter number of rows: 7\n",
      "   4\n",
      "  43\n",
      " 432\n",
      "4321\n",
      " 432\n",
      "  43\n",
      "   4\n",
      "    \n",
      "Enter number of rows: 8\n",
      "   4\n",
      "  43\n",
      " 432\n",
      "4321\n",
      "4321\n",
      " 432\n",
      "  43\n",
      "   4\n",
      "    \n"
     ]
    }
   ],
   "source": [
    "# 18.Pattern\n",
    "def upper_pattern(n):\n",
    "    '''upper pattern logic,common for both'''\n",
    "    for i in range(1, n+1):\n",
    "        num=n\n",
    "        for j in range(1,n-i+1):\n",
    "            print(' ', end='')\n",
    "    \n",
    "        for k in range(1,i+1):\n",
    "            print(num, end='')\n",
    "            num-=1\n",
    "        print()\n",
    "\n",
    "def lower_pattern(n,flag):\n",
    "    '''lower pattern logic'''\n",
    "    for i in range(1,n+1):\n",
    "        num= n- int(not(flag))\n",
    "        for j in range(1, i+flag):\n",
    "            print(' ', end='')\n",
    "            \n",
    "        for k in range(n-i, 0,-1):\n",
    "            print(num, end='')\n",
    "            num-=1\n",
    "        print()\n",
    "\n",
    "\n",
    "for i in range(2):\n",
    "    row= int(input('Enter number of rows: '))\n",
    "    if row%2==0:\n",
    "        n= (row)//2           ## for even no. of rows\n",
    "        upper_pattern(n)\n",
    "        lower_pattern(n+1,0)\n",
    "    else:\n",
    "        n= (row)//2+1         ## for odd no. of rows\n",
    "        upper_pattern(n)\n",
    "        lower_pattern(n,1)\n"
   ]
  },
  {
   "cell_type": "code",
   "execution_count": 3,
   "metadata": {},
   "outputs": [
    {
     "name": "stdout",
     "output_type": "stream",
     "text": [
      "Enter the number of rows: 6\n",
      "      \n",
      "     1\n",
      "    121\n",
      "   12321\n",
      "  1234321\n",
      " 123454321\n"
     ]
    }
   ],
   "source": [
    "# 19.Pattern\n",
    "row= int(input('Enter the number of rows: '))\n",
    "for i in range(1,row+1):\n",
    "    num=1\n",
    "    for j in range(row-i+1):\n",
    "        print(' ', end='')         ## loop for space printing\n",
    "    \n",
    "    for k in range(1,i):\n",
    "        print(num, end='')          ## loop to make first half tringle\n",
    "        num+=1\n",
    "        \n",
    "    for k in range(1,i-1):\n",
    "        print(num-2, end='')        ## loop to make second half tringle\n",
    "        num-=1\n",
    "    print()\n"
   ]
  },
  {
   "cell_type": "code",
   "execution_count": 4,
   "metadata": {},
   "outputs": [
    {
     "name": "stdout",
     "output_type": "stream",
     "text": [
      "Enter the number of rows: 7\n",
      "       0\n",
      "      101\n",
      "     21012\n",
      "    3210123\n",
      "   432101234\n",
      "  54321012345\n",
      " 6543210123456\n"
     ]
    }
   ],
   "source": [
    "# 20.Pattern\n",
    "row= int(input('Enter the number of rows: '))\n",
    "for i in range(1,row+1):\n",
    "    num=i-1\n",
    "    for j in range(row-i+1):\n",
    "        print(' ', end='')         ## loop for space printing\n",
    "    \n",
    "    for k in range(1,i+1):\n",
    "        print(num, end='')          ## loop to make first half tringle\n",
    "        num-=1\n",
    "        \n",
    "    for k in range(1,i):\n",
    "        print(num+2, end='')        ## loop to make second half tringle\n",
    "        num+=1\n",
    "    print()\n"
   ]
  },
  {
   "cell_type": "code",
   "execution_count": 6,
   "metadata": {},
   "outputs": [
    {
     "name": "stdout",
     "output_type": "stream",
     "text": [
      "Enter number of rows: 7\n",
      "   1\n",
      "  222\n",
      " 33333\n",
      "4444444\n",
      " 33333\n",
      "  222\n",
      "   1\n",
      "Enter number of rows: 8\n",
      "   1\n",
      "  222\n",
      " 33333\n",
      "4444444\n",
      "4444444\n",
      " 33333\n",
      "  222\n",
      "   1\n"
     ]
    }
   ],
   "source": [
    "# 21.Pattern\n",
    "def upper_pattern(n):\n",
    "    '''upper pattern logic,common for both'''\n",
    "    for i in range(n):\n",
    "        for j in range(n-i-1):\n",
    "            print(' ', end='')\n",
    "\n",
    "        for k in range(1,(2*i+2)):\n",
    "            print(i+1, end='')\n",
    "        print()\n",
    "\n",
    "def lower_pattern(n,flag):\n",
    "    '''lower pattern logic'''\n",
    "    for i in range(n):\n",
    "        for j in range(i+flag):\n",
    "            print(' ', end='')\n",
    "\n",
    "        for k in range((2*n-1)-2*i ,0,-1):\n",
    "            print(n-i, end='')\n",
    "        print()\n",
    "\n",
    "for i in range(2):    \n",
    "    row= int(input('Enter number of rows: '))\n",
    "    if row%2==0:\n",
    "        n= (row)//2           ## for even no. of rows\n",
    "        upper_pattern(n)\n",
    "        lower_pattern(n,0)\n",
    "    else:\n",
    "        n= (row)//2+1         ## for odd no. of rows\n",
    "        upper_pattern(n)\n",
    "        lower_pattern(n-1,1)\n"
   ]
  },
  {
   "cell_type": "code",
   "execution_count": 1,
   "metadata": {},
   "outputs": [
    {
     "name": "stdout",
     "output_type": "stream",
     "text": [
      "Enter number of rows: 6\n",
      "     1\n",
      "    2 2\n",
      "   3   3\n",
      "  4     4\n",
      " 5       5\n",
      "6         6\n"
     ]
    }
   ],
   "source": [
    "# 22.Pattern\n",
    "row= int(input('Enter number of rows: '))\n",
    "for i in range(1,row+1):\n",
    "    print(' '*(row-i), end='')\n",
    "    if i==1:\n",
    "        print(i)\n",
    "    else:\n",
    "        print(i, ' '*(2*i-3) , i, sep= '' )    \n",
    "    "
   ]
  },
  {
   "cell_type": "code",
   "execution_count": null,
   "metadata": {},
   "outputs": [],
   "source": []
  }
 ],
 "metadata": {
  "kernelspec": {
   "display_name": "Python 3",
   "language": "python",
   "name": "python3"
  },
  "language_info": {
   "codemirror_mode": {
    "name": "ipython",
    "version": 3
   },
   "file_extension": ".py",
   "mimetype": "text/x-python",
   "name": "python",
   "nbconvert_exporter": "python",
   "pygments_lexer": "ipython3",
   "version": "3.7.4"
  }
 },
 "nbformat": 4,
 "nbformat_minor": 2
}
