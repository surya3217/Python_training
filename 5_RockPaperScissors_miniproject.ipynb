{
 "cells": [
  {
   "cell_type": "markdown",
   "metadata": {},
   "source": [
    "## 05_Rock_Paper_Scissor_MiniProject"
   ]
  },
  {
   "cell_type": "code",
   "execution_count": 1,
   "metadata": {},
   "outputs": [
    {
     "name": "stdout",
     "output_type": "stream",
     "text": [
      "1 rock\n",
      "2 paper\n",
      "3 scissors\n",
      "Enter your choice number: gjggfjfjgk\n",
      "\n",
      "No valid choice! Please try again...\n",
      "1 rock\n",
      "2 paper\n",
      "3 scissors\n",
      "Enter your choice number: 2\n",
      "\n",
      "'User wins' and Computer lose.\n",
      "User score: 1 Computer score: 0\n",
      "Do you want to play again?\n",
      "Enter 'y' for Yes and 'n' for No: n\n"
     ]
    }
   ],
   "source": [
    "\"\"\"\n",
    "Make a game of rock, paper scissors against the computer. \n",
    "Algorithm\n",
    "    Tell user to enter either rock,paper or scissors\n",
    "    Get the response\n",
    "    Generate a random number from 1 to 3 (1=rock,2=paper,3=scissors)\n",
    "    Compare user selection and computer selection\n",
    "    Display who wins.\n",
    "\n",
    "Extension\n",
    "    Make sure the user enters a valid entry.\n",
    "    Add a loop structure to play several times and keep a running score\n",
    "    Make an enumerated variable type to store choices.\n",
    "\"\"\"\n",
    "import random\n",
    "user_sc=0\n",
    "comp_sc=0\n",
    "lis1= ['rock','paper','scissors']\n",
    "while(True):\n",
    "    while True:\n",
    "        try:\n",
    "            for index, st in enumerate(lis1,1):     # giving the choice to user using enumeration\n",
    "                print(index,st)\n",
    "            choice= int(input('Enter your choice number: '))    # get the response\n",
    "            if choice in range(1,4):\n",
    "                break\n",
    "            else:\n",
    "                print('\\nWrong input! Please try again...')\n",
    "        except ValueError:\n",
    "            print(\"\\nNo valid choice! Please try again...\")\n",
    "            \n",
    "    comp= random.randrange(1,4)    # random no. generate by computer\n",
    "    if choice is comp:             # comparing the numbers\n",
    "        user_sc= user_sc+1\n",
    "        print(\"\\n'User wins' and Computer lose.\")        \n",
    "    else:\n",
    "        comp_sc= comp_sc+1\n",
    "        print(\"\\nUser lose and 'Computer wins'.\")\n",
    "    \n",
    "    print('User score: {} Computer score: {}'.format(user_sc,comp_sc))\n",
    "    \n",
    "    # asking again to user to play another time or not\n",
    "    ans= input(\"Do you want to play again?\\nEnter 'y' for Yes and 'n' for No: \")\n",
    "    if ans=='Y' or ans =='y':\n",
    "        continue\n",
    "    else:\n",
    "        break\n"
   ]
  },
  {
   "cell_type": "code",
   "execution_count": null,
   "metadata": {},
   "outputs": [],
   "source": []
  }
 ],
 "metadata": {
  "kernelspec": {
   "display_name": "Python 3",
   "language": "python",
   "name": "python3"
  },
  "language_info": {
   "codemirror_mode": {
    "name": "ipython",
    "version": 3
   },
   "file_extension": ".py",
   "mimetype": "text/x-python",
   "name": "python",
   "nbconvert_exporter": "python",
   "pygments_lexer": "ipython3",
   "version": "3.7.4"
  }
 },
 "nbformat": 4,
 "nbformat_minor": 2
}
