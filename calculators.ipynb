{
 "cells": [
  {
   "cell_type": "markdown",
   "metadata": {},
   "source": [
    "### Compute the position of the object under gravity"
   ]
  },
  {
   "cell_type": "code",
   "execution_count": 1,
   "metadata": {},
   "outputs": [
    {
     "name": "stdout",
     "output_type": "stream",
     "text": [
      "Enter object falling time: 10\n",
      "Position of object: 490.500 m\n"
     ]
    }
   ],
   "source": [
    "time= float(input('Enter object falling time: '))\n",
    "pos= (9.81*time*time)/2\n",
    "print('Position of object: {:.3f} m'.format(pos))\n",
    "#Distance = (Acceleration*Time*Time ) / 2"
   ]
  },
  {
   "cell_type": "markdown",
   "metadata": {},
   "source": [
    "### Ride Cost Calculator"
   ]
  },
  {
   "cell_type": "code",
   "execution_count": 2,
   "metadata": {},
   "outputs": [
    {
     "name": "stdout",
     "output_type": "stream",
     "text": [
      "Enter distance travelled(km): 80\n",
      "Enter cost of diesel per litre: 80\n",
      "Enter Vehicle Fuel Average(km/litre): 18\n",
      "Cost of driving per day to office: 355.556 INR\n"
     ]
    }
   ],
   "source": [
    "dist= float(input('Enter distance travelled(km): '))    \n",
    "cost= float(input('Enter cost of diesel per litre: '))    \n",
    "avg= float(input('Enter Vehicle Fuel Average(km/litre): '))      \n",
    "print('Cost of driving per day to office: {:.3f} INR'.format((dist/avg)*cost))"
   ]
  },
  {
   "cell_type": "markdown",
   "metadata": {},
   "source": [
    "### Weighted Score Calculator"
   ]
  },
  {
   "cell_type": "code",
   "execution_count": 3,
   "metadata": {},
   "outputs": [
    {
     "name": "stdout",
     "output_type": "stream",
     "text": [
      "Enter a assignment score: 45 78 98\n",
      "Enter a exam score: 76 84\n",
      "weighted_score: 78.1\n"
     ]
    }
   ],
   "source": [
    "#Respective weights for 3 assignments and 2 exams are 10%, 10%, 10%, 35%, 35% \n",
    "A1, A2, A3 = input(\"Enter a assignment score: \").split()\n",
    "E1, E2 = input(\"Enter a exam score: \").split()\n",
    "\n",
    "weighted_score = ( float(A1) + float(A2) + float(A3) ) *0.1 + (float(E1) + float(E2) ) * 0.35\n",
    "print('weighted_score: {}'.format(weighted_score))"
   ]
  }
 ],
 "metadata": {
  "kernelspec": {
   "display_name": "Python 3",
   "language": "python",
   "name": "python3"
  },
  "language_info": {
   "codemirror_mode": {
    "name": "ipython",
    "version": 3
   },
   "file_extension": ".py",
   "mimetype": "text/x-python",
   "name": "python",
   "nbconvert_exporter": "python",
   "pygments_lexer": "ipython3",
   "version": "3.7.4"
  }
 },
 "nbformat": 4,
 "nbformat_minor": 2
}
