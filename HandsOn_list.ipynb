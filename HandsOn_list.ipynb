{
 "cells": [
  {
   "cell_type": "markdown",
   "metadata": {},
   "source": [
    "### 1. Operation on address "
   ]
  },
  {
   "cell_type": "code",
   "execution_count": 2,
   "metadata": {},
   "outputs": [
    {
     "name": "stdout",
     "output_type": "stream",
     "text": [
      "My address: ['North', 'Foster', 'Avenue', 3225, 'Chicago', 'IL', 60625] \n",
      "Address_sum: 63850\n"
     ]
    }
   ],
   "source": [
    "# Take your street address and make it a list variable myaddress where each token is an element.\n",
    "# Set the sum of the numerical portions of your address list to a variable called address sum.\n",
    "\n",
    "# Change one of the string elements of the list to another string (e.g., if your address \n",
    "# had \"West\" in it, change that string to \"North\").\n",
    "\n",
    "# Change the street portion of myaddress to have the street first and the building number\n",
    "# at the end. \n",
    "\n",
    "# address Building no. ------- Street Name------City,   State, Postal Code \n",
    "myaddress = [3225, 'West', 'Foster', 'Avenue', 'Chicago', 'IL', 60625]\n",
    "address_sum= 0\n",
    "\n",
    "for index, token in enumerate(myaddress):\n",
    "    if type(token)==int:\n",
    "        address_sum= address_sum+ token\n",
    "    if token=='West':\n",
    "        myaddress[index]= 'North'\n",
    "\n",
    "a = myaddress[0]\n",
    "b = myaddress[1:4]\n",
    "myaddress[0:3] = b\n",
    "myaddress[3] = a\n",
    "print('My address:',myaddress,'\\nAddress_sum:',address_sum)\n"
   ]
  },
  {
   "cell_type": "markdown",
   "metadata": {},
   "source": [
    "### 2. Average of list elements "
   ]
  },
  {
   "cell_type": "code",
   "execution_count": 6,
   "metadata": {},
   "outputs": [
    {
     "name": "stdout",
     "output_type": "stream",
     "text": [
      "Enter the number: 4 \n",
      "Enter the number: 3\n",
      "Enter the number: 9\n",
      "Enter the number: 10\n",
      "Enter the number: 2\n",
      "Enter the number: 6\n",
      "Enter the number: 23\n",
      "Enter the number: 7\n",
      "Enter the number: \n",
      "[4, 3, 9, 10, 2, 6, 23, 7]\n",
      "Sum of all numbers: 64\n",
      "Average of all numbers: 8.0\n",
      "Largest no.: 23\t Smallest no.: 2\n"
     ]
    }
   ],
   "source": [
    "''' Write a program that asks the user, again and again, to enter a number.\n",
    "    When the user enters an empty string, then stop asking for additional inputs.\n",
    "    Along the way, as the user is entering numbers, store those numbers in a list. \n",
    "    Find minimum and maximum values that you've seen so far.\n",
    "    When the user has finished entering numbers, your program should print out:\n",
    "         The sum of these numbers\n",
    "         The average (mean) of these numbers\n",
    "         The largest and smallest numbers you received from the user\n",
    "'''\n",
    "\n",
    "lis= []\n",
    "while(True):\n",
    "    a= input('Enter the number: ')\n",
    "    if not a:\n",
    "        break\n",
    "    else:\n",
    "        lis.append(int(a))\n",
    "print(lis)\n",
    "print('Sum of all numbers:',sum(lis))\n",
    "print('Average of all numbers:',sum(lis)/len(lis))\n",
    "print('Largest no.: {}\\t Smallest no.: {}'.format(max(lis),min(lis)))\n",
    "    "
   ]
  },
  {
   "cell_type": "code",
   "execution_count": null,
   "metadata": {},
   "outputs": [],
   "source": []
  }
 ],
 "metadata": {
  "kernelspec": {
   "display_name": "Python 3",
   "language": "python",
   "name": "python3"
  },
  "language_info": {
   "codemirror_mode": {
    "name": "ipython",
    "version": 3
   },
   "file_extension": ".py",
   "mimetype": "text/x-python",
   "name": "python",
   "nbconvert_exporter": "python",
   "pygments_lexer": "ipython3",
   "version": "3.7.4"
  }
 },
 "nbformat": 4,
 "nbformat_minor": 2
}
