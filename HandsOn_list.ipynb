{
 "cells": [
  {
   "cell_type": "markdown",
   "metadata": {},
   "source": [
    "### 1. Operation on address "
   ]
  },
  {
   "cell_type": "code",
   "execution_count": 2,
   "metadata": {},
   "outputs": [
    {
     "name": "stdout",
     "output_type": "stream",
     "text": [
      "My address: ['North', 'Foster', 'Avenue', 3225, 'Chicago', 'IL', 60625] \n",
      "Address_sum: 63850\n"
     ]
    }
   ],
   "source": [
    "# Take your street address and make it a list variable myaddress where each token is an element.\n",
    "# Set the sum of the numerical portions of your address list to a variable called address sum.\n",
    "\n",
    "# Change one of the string elements of the list to another string (e.g., if your address \n",
    "# had \"West\" in it, change that string to \"North\").\n",
    "\n",
    "# Change the street portion of myaddress to have the street first and the building number\n",
    "# at the end. \n",
    "\n",
    "# address Building no. ------- Street Name------City,   State, Postal Code \n",
    "myaddress = [3225, 'West', 'Foster', 'Avenue', 'Chicago', 'IL', 60625]\n",
    "address_sum= 0\n",
    "\n",
    "for index, token in enumerate(myaddress):\n",
    "    if type(token)==int:\n",
    "        address_sum= address_sum+ token\n",
    "    if token=='West':\n",
    "        myaddress[index]= 'North'\n",
    "\n",
    "a = myaddress[0]\n",
    "b = myaddress[1:4]\n",
    "myaddress[0:3] = b\n",
    "myaddress[3] = a\n",
    "print('My address:',myaddress,'\\nAddress_sum:',address_sum)\n"
   ]
  },
  {
   "cell_type": "markdown",
   "metadata": {},
   "source": [
    "### 2. Average of list elements "
   ]
  },
  {
   "cell_type": "code",
   "execution_count": 16,
   "metadata": {},
   "outputs": [
    {
     "name": "stdout",
     "output_type": "stream",
     "text": [
      "Enter the number: 4\n",
      "Enter the number: 5\n",
      "Enter the number: 10\n",
      "Enter the number: 3\n",
      "Enter the number: 9\n",
      "Enter the number: 11\n",
      "Enter the number: 46\n",
      "Enter the number: \n",
      "[4, 5, 10, 3, 9, 11, 46]\n",
      "Sum of all numbers: 88\n",
      "Average of all numbers: 12.571428571428571\n",
      "Largest no.: 46\t Smallest no.: 3\n"
     ]
    }
   ],
   "source": [
    "# Write a program that asks the user, again and again, to enter a number. When the user enters\n",
    "# an empty string, then stop asking for additional inputs. Along the way, as the user is entering\n",
    "# numbers, store those numbers in a list. Find minimum and maximum values that you've seen so far.\n",
    "# When the user has finished entering numbers, your program should print out:\n",
    "# Sum of these numbers, Average (mean) of these numbers, Largest and smallest numbers\n",
    "\n",
    "lis= []\n",
    "while(True):\n",
    "    a= input('Enter the number: ')\n",
    "    if not a:\n",
    "        break\n",
    "    else:\n",
    "        lis.append(int(a))\n",
    "print(lis)\n",
    "print('Sum of all numbers:',sum(lis))\n",
    "print('Average of all numbers:',sum(lis)/len(lis))\n",
    "print('Largest no.: {}\\t Smallest no.: {}'.format(max(lis),min(lis)))\n",
    "    "
   ]
  },
  {
   "cell_type": "markdown",
   "metadata": {},
   "source": [
    "### 3. Remove element"
   ]
  },
  {
   "cell_type": "code",
   "execution_count": 15,
   "metadata": {},
   "outputs": [
    {
     "name": "stdout",
     "output_type": "stream",
     "text": [
      "Before removal: [5, 4, 2, 5, 3, 3, 0, 0, 2, 4, 1, 4, 3, 3, 4]\n",
      "After removal : [5, 4, 2, 5, 0, 0, 2, 4, 1, 4, 4]\n"
     ]
    }
   ],
   "source": [
    "# remove all 3 from the list\n",
    "\n",
    "from random import randrange\n",
    "\n",
    "some_list = [randrange(6) for x in range(15)] \n",
    "print('Before removal:',some_list)\n",
    "while (3 in some_list):\n",
    "    some_list.remove(3)\n",
    "    \n",
    "print('After removal :',some_list)\n"
   ]
  },
  {
   "cell_type": "markdown",
   "metadata": {},
   "source": [
    "### 4. Print list element"
   ]
  },
  {
   "cell_type": "code",
   "execution_count": 31,
   "metadata": {},
   "outputs": [
    {
     "name": "stdout",
     "output_type": "stream",
     "text": [
      "3225\n",
      "West\n",
      "Foster\n",
      "Avenue\n",
      "Chicago\n",
      "IL\n",
      "60625\n",
      "\n",
      "3225, West, Foster, Avenue, Chicago, IL, 60625, \n"
     ]
    }
   ],
   "source": [
    "# Write a loop that goes through that list and prints out each item in that list\n",
    "\n",
    "myaddress = [3225, 'West', 'Foster', 'Avenue', 'Chicago', 'IL', 60625]\n",
    "for name in myaddress:      # for each loop, here name as iteartor\n",
    "    print(name)\n",
    "print()\n",
    "\n",
    "'''Or'''\n",
    "for name in myaddress: \n",
    "    print(name,end=\", \")\n",
    "print()\n"
   ]
  },
  {
   "cell_type": "markdown",
   "metadata": {},
   "source": [
    "### 5. Some list function"
   ]
  },
  {
   "cell_type": "code",
   "execution_count": 51,
   "metadata": {},
   "outputs": [
    {
     "name": "stdout",
     "output_type": "stream",
     "text": [
      "[3225, 'West', 'Foster', 'Avenue', 'Chicago', 'IL', 60625]\n",
      "[60625, 'IL', 'Chicago', 'Avenue', 'Foster', 'West', 3225]\n",
      "[4, 5, 6, 8, 3225, 'West', 'Foster', 'Avenue', 'Chicago', 'IL', 60625]\n",
      "[1, 2, 3, 4, 5, 6, 4, 5, 6, 8]\n",
      "[15, 4, 5, 10, 6, 8]\n"
     ]
    }
   ],
   "source": [
    "\n",
    "address = [3225, 'West', 'Foster', 'Avenue', 'Chicago', 'IL', 60625]\n",
    "lis1= address.copy()     # coping of list element\n",
    "print(lis1)\n",
    "\n",
    "address.reverse()     # reverse the order of list \n",
    "print(address)        # not return the list,in place reverse\n",
    "\n",
    "lis2= [4,5,6,8]      # concate the list\n",
    "lis1= lis2 + lis1    # order important\n",
    "print(lis1)\n",
    "\n",
    "'''Or'''\n",
    "num= [1,2,3,4,5,6]\n",
    "num.extend(lis2)     # to extend one list with another\n",
    "print(num)\n",
    "\n",
    "num2= [4,5,6,8]\n",
    "num2.insert(2,10)     # insert element with index and value\n",
    "num2.insert(0,15)\n",
    "print(num2)\n"
   ]
  },
  {
   "cell_type": "markdown",
   "metadata": {},
   "source": [
    "### 6. Check temperature of list"
   ]
  },
  {
   "cell_type": "code",
   "execution_count": 54,
   "metadata": {},
   "outputs": [
    {
     "name": "stdout",
     "output_type": "stream",
     "text": [
      "Tflags: [True, False, True, True]\n"
     ]
    }
   ],
   "source": [
    "# Consider you have the list of temperatures T,and a list of flags called Tflags that is initialized to\n",
    "# all False. Write a loop that checks each temperature in T and sets the corresponding Tflags element\n",
    "# to True if the temperature is above the freezing point of water. Freezing point of water= 273.2\n",
    "\n",
    "T = [273.4, 265.5, 277.7, 285.5]\n",
    "Tflags = [False, False, False, False]\n",
    "\n",
    "for index,(value,flag) in enumerate(zip(T,Tflags)):\n",
    "    if value> 273.2:\n",
    "        Tflags[index]= True\n",
    "    \n",
    "print('Tflags:',Tflags)\n"
   ]
  },
  {
   "cell_type": "code",
   "execution_count": null,
   "metadata": {},
   "outputs": [],
   "source": []
  }
 ],
 "metadata": {
  "kernelspec": {
   "display_name": "Python 3",
   "language": "python",
   "name": "python3"
  },
  "language_info": {
   "codemirror_mode": {
    "name": "ipython",
    "version": 3
   },
   "file_extension": ".py",
   "mimetype": "text/x-python",
   "name": "python",
   "nbconvert_exporter": "python",
   "pygments_lexer": "ipython3",
   "version": "3.7.4"
  }
 },
 "nbformat": 4,
 "nbformat_minor": 2
}
