{
 "cells": [
  {
   "cell_type": "markdown",
   "metadata": {},
   "source": [
    "### 1. Operation on address "
   ]
  },
  {
   "cell_type": "code",
   "execution_count": 2,
   "metadata": {},
   "outputs": [
    {
     "name": "stdout",
     "output_type": "stream",
     "text": [
      "My address: ['North', 'Foster', 'Avenue', 3225, 'Chicago', 'IL', 60625] \n",
      "Address_sum: 63850\n"
     ]
    }
   ],
   "source": [
    "# Take your street address and make it a list variable myaddress where each token is an element.\n",
    "# Set the sum of the numerical portions of your address list to a variable called address sum.\n",
    "\n",
    "# Change one of the string elements of the list to another string (e.g., if your address \n",
    "# had \"West\" in it, change that string to \"North\").\n",
    "\n",
    "# Change the street portion of myaddress to have the street first and the building number\n",
    "# at the end. \n",
    "\n",
    "# address Building no. ------- Street Name------City,   State, Postal Code \n",
    "myaddress = [3225, 'West', 'Foster', 'Avenue', 'Chicago', 'IL', 60625]\n",
    "address_sum= 0\n",
    "\n",
    "for index, token in enumerate(myaddress):\n",
    "    if type(token)==int:\n",
    "        address_sum= address_sum+ token\n",
    "    if token=='West':\n",
    "        myaddress[index]= 'North'\n",
    "\n",
    "a = myaddress[0]\n",
    "b = myaddress[1:4]\n",
    "myaddress[0:3] = b\n",
    "myaddress[3] = a\n",
    "print('My address:',myaddress,'\\nAddress_sum:',address_sum)\n"
   ]
  },
  {
   "cell_type": "markdown",
   "metadata": {},
   "source": [
    "### 2. Average of list elements "
   ]
  },
  {
   "cell_type": "code",
   "execution_count": 16,
   "metadata": {},
   "outputs": [
    {
     "name": "stdout",
     "output_type": "stream",
     "text": [
      "Enter the number: 4\n",
      "Enter the number: 5\n",
      "Enter the number: 10\n",
      "Enter the number: 3\n",
      "Enter the number: 9\n",
      "Enter the number: 11\n",
      "Enter the number: 46\n",
      "Enter the number: \n",
      "[4, 5, 10, 3, 9, 11, 46]\n",
      "Sum of all numbers: 88\n",
      "Average of all numbers: 12.571428571428571\n",
      "Largest no.: 46\t Smallest no.: 3\n"
     ]
    }
   ],
   "source": [
    "# Write a program that asks the user, again and again, to enter a number. When the user enters\n",
    "# an empty string, then stop asking for additional inputs. Along the way, as the user is entering\n",
    "# numbers, store those numbers in a list. Find minimum and maximum values that you've seen so far.\n",
    "# When the user has finished entering numbers, your program should print out:\n",
    "# Sum of these numbers, Average (mean) of these numbers, Largest and smallest numbers\n",
    "\n",
    "lis= []\n",
    "while(True):\n",
    "    a= input('Enter the number: ')\n",
    "    if not a:\n",
    "        break\n",
    "    else:\n",
    "        lis.append(int(a))\n",
    "print(lis)\n",
    "print('Sum of all numbers:',sum(lis))\n",
    "print('Average of all numbers:',sum(lis)/len(lis))\n",
    "print('Largest no.: {}\\t Smallest no.: {}'.format(max(lis),min(lis)))\n",
    "    "
   ]
  },
  {
   "cell_type": "markdown",
   "metadata": {},
   "source": [
    "### 3. Remove element"
   ]
  },
  {
   "cell_type": "code",
   "execution_count": 15,
   "metadata": {},
   "outputs": [
    {
     "name": "stdout",
     "output_type": "stream",
     "text": [
      "Before removal: [5, 4, 2, 5, 3, 3, 0, 0, 2, 4, 1, 4, 3, 3, 4]\n",
      "After removal : [5, 4, 2, 5, 0, 0, 2, 4, 1, 4, 4]\n"
     ]
    }
   ],
   "source": [
    "# remove all 3 from the list\n",
    "\n",
    "from random import randrange\n",
    "\n",
    "some_list = [randrange(6) for x in range(15)] \n",
    "print('Before removal:',some_list)\n",
    "while (3 in some_list):\n",
    "    some_list.remove(3)\n",
    "    \n",
    "print('After removal :',some_list)\n"
   ]
  },
  {
   "cell_type": "markdown",
   "metadata": {},
   "source": [
    "### 4. Print list element"
   ]
  },
  {
   "cell_type": "code",
   "execution_count": 31,
   "metadata": {},
   "outputs": [
    {
     "name": "stdout",
     "output_type": "stream",
     "text": [
      "3225\n",
      "West\n",
      "Foster\n",
      "Avenue\n",
      "Chicago\n",
      "IL\n",
      "60625\n",
      "\n",
      "3225, West, Foster, Avenue, Chicago, IL, 60625, \n"
     ]
    }
   ],
   "source": [
    "# Write a loop that goes through that list and prints out each item in that list\n",
    "\n",
    "myaddress = [3225, 'West', 'Foster', 'Avenue', 'Chicago', 'IL', 60625]\n",
    "for name in myaddress:      # for each loop, here name as iteartor\n",
    "    print(name)\n",
    "print()\n",
    "\n",
    "'''Or'''\n",
    "for name in myaddress: \n",
    "    print(name,end=\", \")\n",
    "print()\n"
   ]
  },
  {
   "cell_type": "markdown",
   "metadata": {},
   "source": [
    "### 5. Some list function"
   ]
  },
  {
   "cell_type": "code",
   "execution_count": 51,
   "metadata": {},
   "outputs": [
    {
     "name": "stdout",
     "output_type": "stream",
     "text": [
      "[3225, 'West', 'Foster', 'Avenue', 'Chicago', 'IL', 60625]\n",
      "[60625, 'IL', 'Chicago', 'Avenue', 'Foster', 'West', 3225]\n",
      "[4, 5, 6, 8, 3225, 'West', 'Foster', 'Avenue', 'Chicago', 'IL', 60625]\n",
      "[1, 2, 3, 4, 5, 6, 4, 5, 6, 8]\n",
      "[15, 4, 5, 10, 6, 8]\n"
     ]
    }
   ],
   "source": [
    "\n",
    "address = [3225, 'West', 'Foster', 'Avenue', 'Chicago', 'IL', 60625]\n",
    "lis1= address.copy()     # coping of list element\n",
    "print(lis1)\n",
    "\n",
    "address.reverse()     # reverse the order of list \n",
    "print(address)        # not return the list,in place reverse\n",
    "\n",
    "lis2= [4,5,6,8]      # concate the list\n",
    "lis1= lis2 + lis1    # order important\n",
    "print(lis1)\n",
    "\n",
    "'''Or'''\n",
    "num= [1,2,3,4,5,6]\n",
    "num.extend(lis2)     # to extend one list with another\n",
    "print(num)\n",
    "\n",
    "num2= [4,5,6,8]\n",
    "num2.insert(2,10)     # insert element with index and value\n",
    "num2.insert(0,15)\n",
    "print(num2)\n"
   ]
  },
  {
   "cell_type": "markdown",
   "metadata": {},
   "source": [
    "### 6. Check temperature of list"
   ]
  },
  {
   "cell_type": "code",
   "execution_count": 54,
   "metadata": {},
   "outputs": [
    {
     "name": "stdout",
     "output_type": "stream",
     "text": [
      "Tflags: [True, False, True, True]\n"
     ]
    }
   ],
   "source": [
    "# Consider you have the list of temperatures T,and a list of flags called Tflags that is initialized to\n",
    "# all False. Write a loop that checks each temperature in T and sets the corresponding Tflags element\n",
    "# to True if the temperature is above the freezing point of water. Freezing point of water= 273.2\n",
    "\n",
    "T = [273.4, 265.5, 277.7, 285.5]\n",
    "Tflags = [False, False, False, False]\n",
    "\n",
    "for index,(value,flag) in enumerate(zip(T,Tflags)):\n",
    "    if value> 273.2:\n",
    "        Tflags[index]= True\n",
    "    \n",
    "print('Tflags:',Tflags)\n"
   ]
  },
  {
   "cell_type": "markdown",
   "metadata": {},
   "source": [
    "### 7. Clean the Messy salaries"
   ]
  },
  {
   "cell_type": "code",
   "execution_count": 55,
   "metadata": {},
   "outputs": [
    {
     "name": "stdout",
     "output_type": "stream",
     "text": [
      "salaries: [876001, 543903, 2453896]\n"
     ]
    }
   ],
   "source": [
    "# Clean the Messy salaries into integers for Data Processing\n",
    "\n",
    "salaries = ['$876,001', '$543,903', '$2453,896'] \n",
    "for index, num in enumerate(salaries):\n",
    "    salaries[index]= int(num.replace('$','').replace(',',''))\n",
    "    \n",
    "print('salaries:',salaries)\n",
    "    "
   ]
  },
  {
   "cell_type": "markdown",
   "metadata": {},
   "source": [
    "### 8. Fibonacci series"
   ]
  },
  {
   "cell_type": "code",
   "execution_count": 58,
   "metadata": {},
   "outputs": [
    {
     "name": "stdout",
     "output_type": "stream",
     "text": [
      "[0, 1, 1, 2, 3, 5, 8, 13, 21, 34, 55, 89, 144, 233, 377, 610, 987, 1597, 2584, 4181, 6765, 10946, 17711, 28657, 46368, 75025, 121393, 196418, 317811, 514229, 832040, 1346269, 2178309, 3524578, 5702887, 9227465, 14930352, 24157817, 39088169, 63245986, 102334155, 165580141, 267914296, 433494437, 701408733, 1134903170, 1836311903, 2971215073, 4807526976, 7778742049]\n",
      "\n",
      "Enter the position to know the Fibonacci value: 39\n",
      "Fibonacci value: 39088169\n"
     ]
    }
   ],
   "source": [
    "# Create a list of Fibonacci numbers up to the 50th term.\n",
    "# The program will then ask the user for which position in the sequence\n",
    "# they want to know the Fibonacci value for\n",
    "# The Fibonacci sequence was originally used as a basic model for rabbit population growth:  \n",
    "\n",
    "lis= [0,1]\n",
    "for i in range(2,50):\n",
    "    lis.append(lis[i-1]+ lis[i-2])\n",
    "print(lis)\n",
    "\n",
    "pos= int(input('\\nEnter the position to know the Fibonacci value: '))\n",
    "print('Fibonacci value:',lis[pos-1])\n"
   ]
  },
  {
   "cell_type": "markdown",
   "metadata": {},
   "source": [
    "### 9. Count strings"
   ]
  },
  {
   "cell_type": "code",
   "execution_count": 60,
   "metadata": {},
   "outputs": [
    {
     "name": "stdout",
     "output_type": "stream",
     "text": [
      "Number of desired string: 3\n"
     ]
    }
   ],
   "source": [
    "# Given a list of strings, return the count of the number of strings where the string\n",
    "# length is 2 or more and the first and last chars of the string are the same.\n",
    "\n",
    "#words = ['', 'x', 'xy', 'xyx', 'xx']\n",
    "#words = ['aaa', 'be', 'abc', 'hello']\n",
    "words = ['aba', 'xyz', 'aa', 'x', 'bbb']\n",
    "\n",
    "count= 0\n",
    "for name in words:\n",
    "    length= len(name)\n",
    "    if length>=2 and name[0]==name[-1]:\n",
    "            count=count+1\n",
    "\n",
    "print('Number of desired string:',count)\n"
   ]
  },
  {
   "cell_type": "markdown",
   "metadata": {},
   "source": [
    "### 10. Sort the list"
   ]
  },
  {
   "cell_type": "code",
   "execution_count": 73,
   "metadata": {},
   "outputs": [
    {
     "name": "stdout",
     "output_type": "stream",
     "text": [
      "['xyz', 'xanadu'] ['mix', 'apple', 'aardvark']\n",
      "['xyz', 'xanadu'] ['mix', 'apple', 'aardvark']\n",
      "Sorted list: ['xanadu', 'xyz', 'aardvark', 'apple', 'mix']\n"
     ]
    }
   ],
   "source": [
    "# Given a list, return a list with the strings in sorted order, except group all the strings that begin with 'x'\n",
    "# first. e.g. ['mix', 'xyz', 'apple', 'xanadu', 'aardvark'] yields ['xanadu', 'xyz', 'aardvark', 'apple', 'mix']\n",
    "# Hint: this can be done by making 2 lists and sorting each of them before combining them.\n",
    "\n",
    "#words =['bbb', 'ccc', 'axx', 'xzz', 'xaa']\n",
    "#words =['ccc', 'bbb', 'aaa', 'xcc', 'xaa']\n",
    "words =['mix', 'xyz', 'apple', 'xanadu', 'aardvark']\n",
    "\n",
    "list1= [item for item in words if item[0]=='x']    # list comprehension but with more time complexity\n",
    "list2= [item for item in words if item[0]!='x']    # 2 loops run for n times\n",
    "print(list1,list2)\n",
    "\n",
    "'''Or'''\n",
    "\n",
    "stlist1= []\n",
    "stlist2= []\n",
    "for name in words:           # low complexity, only 1 loop run for n times\n",
    "    if name[0]=='x':\n",
    "        stlist1.append(name)\n",
    "    else:\n",
    "        stlist2.append(name)\n",
    "print(stlist1,stlist2)     \n",
    "\n",
    "\n",
    "words= sorted(list1)+ sorted(list2)\n",
    "print('Sorted list:',words)\n"
   ]
  },
  {
   "cell_type": "markdown",
   "metadata": {},
   "source": [
    "### 11. Remove multiple occurrence of elements"
   ]
  },
  {
   "cell_type": "code",
   "execution_count": 2,
   "metadata": {},
   "outputs": [
    {
     "name": "stdout",
     "output_type": "stream",
     "text": [
      "Enter the elements: 4 3 9 8 5 4 3 8 6 6 1\n",
      "{'1', '6', '8', '9', '5', '3', '4'}\n",
      "['4', '3', '9', '8', '5', '6', '1']\n"
     ]
    }
   ],
   "source": [
    "# Given a list of numbers, return a list where all adjacent == elements have been reduced to a single\n",
    "# element, so [1, 2, 2, 3] returns [1, 2, 3]. You may create a new list or modify the passed in list.\n",
    "#nums = [1, 2, 2, 3, 1, 5, 5]\n",
    "#nums = [1, 2, 2, 3, 3, 3, 6, 8, 2, 6, 8, 9]\n",
    "\n",
    "nums= input('Enter the elements: ').split()\n",
    "s= set(nums)       # using set,order change\n",
    "print(s)\n",
    "\n",
    "'''Or'''\n",
    "\n",
    "list2=[]           # order remain same     \n",
    "for item in nums:\n",
    "    if item not in list2:\n",
    "        list2.append(item)\n",
    "print(list2)"
   ]
  },
  {
   "cell_type": "markdown",
   "metadata": {},
   "source": [
    "### 12. Merge lists element"
   ]
  },
  {
   "cell_type": "code",
   "execution_count": null,
   "metadata": {},
   "outputs": [],
   "source": [
    "# Given two lists sorted in increasing order, create and return a merged list of all the \n",
    "# elements in sorted order.You may modify the passed in lists.Ideally, the solution should\n",
    "# work in \"linear\" time, making a single pass of both lists.\n",
    "\n",
    "list1 = ['aa', 'xx', 'zz'] #['aa', 'xx']         ['aa', 'aa']\n",
    "list2 = ['bb', 'cc']       #['bb', 'cc', 'zz']   ['aa', 'bb', 'bb']\n",
    "\n",
    "list1 = list1 + list2\n",
    "print('Time complexity not linear:',sorted(list1))\n",
    "\n",
    "'''Or'''\n",
    "# Time complexity is linear\n",
    "\n",
    "list1 = ['aa', 'xx', 'zz'] \n",
    "list2 = ['bb', 'cc']\n",
    "lis3= []\n",
    "i,j= 0,0\n",
    "\n",
    "while(i<len(list1) and j< len(list2)):\n",
    "    if list1[i]<list2[j]:\n",
    "        lis3.append(list1[i])\n",
    "        i+=1\n",
    "    else:\n",
    "        lis3.append(list2[j])\n",
    "        j+=1\n",
    "\n",
    "while(i<len(list1) ):\n",
    "    lis3.append(list1[i])\n",
    "    i+=1\n",
    "\n",
    "while(j<len(list2) ):\n",
    "    lis3.append(list1[j])\n",
    "    j+=1\n",
    "\n",
    "print('Time complexity is linear:',lis3)\n"
   ]
  },
  {
   "cell_type": "markdown",
   "metadata": {},
   "source": [
    "### 13. Number of days in specific month"
   ]
  },
  {
   "cell_type": "code",
   "execution_count": 6,
   "metadata": {},
   "outputs": [
    {
     "name": "stdout",
     "output_type": "stream",
     "text": [
      "Enter the year: 2020\n",
      "Enter the specific month: feb\n",
      "Leap year\n",
      "Number of days in this month: 29\n"
     ]
    }
   ],
   "source": [
    "# Make a function days_in_month to return the number of days in a specific month of a year\n",
    "\n",
    "def days_in_month(year,month):\n",
    "    month_lp= {'jan':31,'feb':29,'march':31,'april':30,'may':31,'june':30,'july':31,'aug':31,'sept':30,'oct':31,'nov':30,'dec':31}\n",
    "    month_nlp= {'jan':31,'feb':28,'march':31,'april':30,'may':31,'june':30,'july':31,'aug':31,'sept':30,'oct':31,'nov':30,'dec':31}\n",
    "    flag= 0          # not leap year\n",
    "    \n",
    "    if year%400==0:\n",
    "        print('Leap year')\n",
    "        flag= 1\n",
    "    elif year%100==0:\n",
    "        print('Not a Leap year')\n",
    "    elif year%4==0:\n",
    "        print('Leap year')\n",
    "        flag=1\n",
    "    else:\n",
    "        print('Not a Leap year')\n",
    "        \n",
    "    if flag!=0:\n",
    "        return month_lp[month]\n",
    "    else:\n",
    "        return month_nlp[month]\n",
    "\n",
    "    \n",
    "yr= int(input('Enter the year: '))\n",
    "month= input('Enter the specific month: ')\n",
    "print('Number of days in this month:',days_in_month(yr,month))\n",
    "\n"
   ]
  },
  {
   "cell_type": "markdown",
   "metadata": {},
   "source": [
    "### 14. Create dictionary"
   ]
  },
  {
   "cell_type": "code",
   "execution_count": 9,
   "metadata": {},
   "outputs": [
    {
     "name": "stdout",
     "output_type": "stream",
     "text": [
      "Enter \"street\": 220 Mansarovar\n",
      "Enter \"city\": Jaipur\n",
      "Enter \"state\": Rajasthan\n",
      "Enter \"zip\": 302017\n",
      "Address: {'street': '220 Mansarovar', 'city': 'Jaipur', 'state': 'Rajasthan', 'zip': '302017'}\n"
     ]
    }
   ],
   "source": [
    "# Create a dictionary myaddress. Choose relevant keys, and separate your address into \n",
    "# street address, city, state, and postal code portions, all of which are strings\n",
    "# (for your ZIP Code, don’t enter it in as a number).\n",
    "\n",
    "# myaddress = {'street':'3225 West Foster Avenue','city':'Chicago', 'state':'IL','zip':'60625'}\n",
    "lis1= ['street','city','state','zip']\n",
    "address= {}\n",
    "for item in lis1:\n",
    "    address[item]= input('Enter \"{}\": '.format(item))\n",
    "\n",
    "print('Address:',address)\n"
   ]
  },
  {
   "cell_type": "code",
   "execution_count": null,
   "metadata": {},
   "outputs": [],
   "source": []
  }
 ],
 "metadata": {
  "kernelspec": {
   "display_name": "Python 3",
   "language": "python",
   "name": "python3"
  },
  "language_info": {
   "codemirror_mode": {
    "name": "ipython",
    "version": 3
   },
   "file_extension": ".py",
   "mimetype": "text/x-python",
   "name": "python",
   "nbconvert_exporter": "python",
   "pygments_lexer": "ipython3",
   "version": "3.7.4"
  }
 },
 "nbformat": 4,
 "nbformat_minor": 2
}
