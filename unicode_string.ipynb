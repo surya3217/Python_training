{
 "cells": [
  {
   "cell_type": "markdown",
   "metadata": {},
   "source": [
    "### 01 Print Name "
   ]
  },
  {
   "cell_type": "code",
   "execution_count": 3,
   "metadata": {},
   "outputs": [
    {
     "name": "stdout",
     "output_type": "stream",
     "text": [
      "\"Sylvester\"\n",
      "\"Fernandes\"\n"
     ]
    }
   ],
   "source": [
    "#Print your First Name and Last Name in Quotation and on different lines.\n",
    "f_name= 'Sylvester'\n",
    "l_name= 'Fernandes'\n",
    "print('\\\"{}\\\"\\n\\\"{}\\\"'.format(f_name,l_name))"
   ]
  },
  {
   "cell_type": "markdown",
   "metadata": {},
   "source": [
    "### 02 Temperature of City"
   ]
  },
  {
   "cell_type": "code",
   "execution_count": 4,
   "metadata": {},
   "outputs": [
    {
     "name": "stdout",
     "output_type": "stream",
     "text": [
      "Enter temperature of your city: 26\n",
      "26° C\n",
      "26° C\n"
     ]
    }
   ],
   "source": [
    "# Temperature of city in Degree Celsius using unicode\n",
    "temp= input('Enter temperature of your city: ')\n",
    "print(temp+'\\u00b0','C')\n",
    "'''or'''\n",
    "print(temp+chr(176),'C')"
   ]
  },
  {
   "cell_type": "markdown",
   "metadata": {},
   "source": [
    "### 03 Unicode Printing"
   ]
  },
  {
   "cell_type": "code",
   "execution_count": 5,
   "metadata": {},
   "outputs": [
    {
     "name": "stdout",
     "output_type": "stream",
     "text": [
      "UNIX® and Sun Microsystem™ are Copyright ©, 2019 Oracle\n"
     ]
    }
   ],
   "source": [
    "print('UNIX\\u00AE and Sun Microsystem\\u2122 are Copyright \\u00A9, 2019 Oracle')"
   ]
  },
  {
   "cell_type": "markdown",
   "metadata": {},
   "source": [
    "### 04 Name Printing in Hindi (Devanagari)"
   ]
  },
  {
   "cell_type": "code",
   "execution_count": 8,
   "metadata": {},
   "outputs": [
    {
     "name": "stdout",
     "output_type": "stream",
     "text": [
      "सूरज,सैनी\n"
     ]
    }
   ],
   "source": [
    "# help: http://jrgraphix.net/r/Unicode/0900-097F\n",
    "print('\\u0938'+'\\u0942'+'\\u0930'+'\\u091C'+','+'\\u0938'+'\\u0948'+'\\u0928'+'\\u0940')"
   ]
  },
  {
   "cell_type": "markdown",
   "metadata": {},
   "source": [
    "### 05 Printing Checkerboard pattern"
   ]
  },
  {
   "cell_type": "code",
   "execution_count": 9,
   "metadata": {},
   "outputs": [
    {
     "name": "stdout",
     "output_type": "stream",
     "text": [
      "* * * * * * * *  \n",
      " * * * * * * * * \n",
      "* * * * * * * *  \n",
      " * * * * * * * * \n",
      "* * * * * * * *  \n",
      " * * * * * * * * \n",
      "* * * * * * * * \n"
     ]
    }
   ],
   "source": [
    "# Print the checkerboard pattern using escape Codes and Unicode with \n",
    "# multiple print statements and the multiplication operator\n",
    "print('\\u002A '*8,'\\n','\\u002A '*8+'\\n'+'\\u002A '*8,'\\n','\\u002A '*8)\n",
    "print('\\u002A '*8,'\\n','\\u002A '*8+'\\n'+'\\u002A '*8)"
   ]
  },
  {
   "cell_type": "markdown",
   "metadata": {},
   "source": [
    "### 06 BMI Help Screen"
   ]
  },
  {
   "cell_type": "code",
   "execution_count": 10,
   "metadata": {},
   "outputs": [
    {
     "name": "stdout",
     "output_type": "stream",
     "text": [
      "    World Health Organisation's BMI VALUES ( 8 Levels )\n",
      "      Severe Thinness: less than 16 \n",
      "      Moderate Thinness: between 16 and 16.9 \n",
      "      Mild Thinness: between 17 and 18.4 \n",
      "      Normal: between 18.5 and 24.9 \n",
      "      Overweight: between 25 and 29.9        \n",
      "      Obese Class I: between 30 and 34.9 \n",
      "      Obese Class II: between 35 and 39.9 \n",
      "      Obese Class III: 40 or greater\n"
     ]
    }
   ],
   "source": [
    "# Use of triple quotes syntax for formatted text(multiple lines)\n",
    "print('''    World Health Organisation's BMI VALUES ( 8 Levels )\n",
    "      Severe Thinness: less than 16 \n",
    "      Moderate Thinness: between 16 and 16.9 \n",
    "      Mild Thinness: between 17 and 18.4 \n",
    "      Normal: between 18.5 and 24.9 \n",
    "      Overweight: between 25 and 29.9        \n",
    "      Obese Class I: between 30 and 34.9 \n",
    "      Obese Class II: between 35 and 39.9 \n",
    "      Obese Class III: 40 or greater''')"
   ]
  },
  {
   "cell_type": "markdown",
   "metadata": {},
   "source": [
    "### 07 BMI in Hindi"
   ]
  },
  {
   "cell_type": "code",
   "execution_count": 17,
   "metadata": {},
   "outputs": [
    {
     "name": "stdout",
     "output_type": "stream",
     "text": [
      "अपना वजन बतायें (kg): 23\n",
      "अपनी लंबाई बतायें (m): 1.3\n",
      "अापका बाॅडी मास इंडेक्स: 13.609 kg/m²\n"
     ]
    }
   ],
   "source": [
    "# Body Mass Index(BMI) program in hindi script.\n",
    "# help: http://jrgraphix.net/r/Unicode/0900-097F\n",
    "weight= float(input('\\u0905\\u092A\\u0928\\u093E \\u0935\\u091C\\u0928 \\u092C\\u0924\\u093E\\u092F\\u0947\\u0902 (kg): '))\n",
    "height= float(input('\\u0905\\u092A\\u0928\\u0940 \\u0932\\u0902\\u092C\\u093E\\u0908 \\u092C\\u0924\\u093E\\u092F\\u0947\\u0902 (m): '))\n",
    "bmi= (weight/height)/height\n",
    "print(\"\\u0905\\u093E\\u092A\\u0915\\u093E \\u092C\\u093E\\u0945\\u0921\\u0940 \\u092E\\u093E\\u0938 \\u0907\\u0902\\u0921\\u0947\\u0915\\u094D\\u0938: {:.3f}\".format(bmi),'kg/m\\u00b2')\n"
   ]
  }
 ],
 "metadata": {
  "kernelspec": {
   "display_name": "Python 3",
   "language": "python",
   "name": "python3"
  },
  "language_info": {
   "codemirror_mode": {
    "name": "ipython",
    "version": 3
   },
   "file_extension": ".py",
   "mimetype": "text/x-python",
   "name": "python",
   "nbconvert_exporter": "python",
   "pygments_lexer": "ipython3",
   "version": "3.7.4"
  }
 },
 "nbformat": 4,
 "nbformat_minor": 2
}
