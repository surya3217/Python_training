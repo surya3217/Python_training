{
 "cells": [
  {
   "cell_type": "markdown",
   "metadata": {},
   "source": [
    "### 01 Print last line of paragraph"
   ]
  },
  {
   "cell_type": "code",
   "execution_count": 1,
   "metadata": {},
   "outputs": [
    {
     "name": "stdout",
     "output_type": "stream",
     "text": [
      "    From here print this text without manually counting the indexes.\n",
      "    From here print this text without manually counting the indexes.\n"
     ]
    }
   ],
   "source": [
    "# print the last line from a multiline statement\n",
    "multi= '''This is a multi line string. This code challenge is to\n",
    "    test your understanding about strings.\n",
    "    You need to print some part of this string.\n",
    "    From here print this text without manually counting the indexes.'''\n",
    "length= len(multi)\n",
    "n= multi[-1:-length:-1].find('\\n')\n",
    "print(multi[-n:])\n",
    "\n",
    "'''OR'''\n",
    "\n",
    "mulyi_li= multi.splitlines()\n",
    "n= len(mulyi_li)\n",
    "print(mulyi_li[n-1])"
   ]
  },
  {
   "cell_type": "markdown",
   "metadata": {},
   "source": [
    "### 02 Styling of String"
   ]
  },
  {
   "cell_type": "code",
   "execution_count": 12,
   "metadata": {},
   "outputs": [
    {
     "name": "stdout",
     "output_type": "stream",
     "text": [
      "Enter the string: SyLvEsTeR fUrneNdis\n",
      "SYLVESTER FURNENDIS\n",
      "sylvester furnendis\n",
      "Sylvester Furnendis\n"
     ]
    }
   ],
   "source": [
    "# Using dir and help functions\n",
    "# input: SyLvEsTeR fUrneNdis\n",
    "str1= input('Enter the string: ')\n",
    "print(str1.upper())    # to make uppercase\n",
    "print(str1.lower())    # to make lowercase\n",
    "print(str1.title())    # to capitalize the first letter of every word and make other latters in lowercase"
   ]
  },
  {
   "cell_type": "markdown",
   "metadata": {},
   "source": [
    "### 03 Replacing of Characters"
   ]
  },
  {
   "cell_type": "code",
   "execution_count": 4,
   "metadata": {},
   "outputs": [
    {
     "name": "stdout",
     "output_type": "stream",
     "text": [
      "Enter the string: RESTART\n",
      "RESTA$T\n"
     ]
    }
   ],
   "source": [
    "#  replace all R with $ except the first occurrence\n",
    "## Using dir and help functions\n",
    "str2= input('Enter the string: ')\n",
    "n= str2.find('R')\n",
    "str3= str2[:n+1] +str2[n+1:].replace('R','$')\n",
    "print(str3)"
   ]
  },
  {
   "cell_type": "markdown",
   "metadata": {},
   "source": [
    "### 04 String Handling"
   ]
  },
  {
   "cell_type": "code",
   "execution_count": 11,
   "metadata": {},
   "outputs": [
    {
     "name": "stdout",
     "output_type": "stream",
     "text": [
      "Enter the string: Sylvester Furnendis\n",
      "Furnendis Sylvester\n",
      "Furnendis Sylvester "
     ]
    }
   ],
   "source": [
    "# print name in reverse order with a space between them\n",
    "# input: Sylvester Furnendis\n",
    "str2= input('Enter the string: ')\n",
    "n= str2.find(' ')\n",
    "print(str2[n+1:]+' '+str2[:n])\n",
    "\n",
    "'''OR'''\n",
    "li= str2.split(' ')\n",
    "for i in range(len(li)-1,-1,-1):\n",
    "    print(li[i],end=' ')"
   ]
  },
  {
   "cell_type": "markdown",
   "metadata": {},
   "source": [
    "### 05 Replace space with '*'"
   ]
  },
  {
   "cell_type": "code",
   "execution_count": 7,
   "metadata": {},
   "outputs": [
    {
     "name": "stdout",
     "output_type": "stream",
     "text": [
      "Enter the string: Welcome to Pink City Jaipur\n",
      "Welcome*to*Pink*City*Jaipur\n"
     ]
    }
   ],
   "source": [
    "# input: Welcome to Pink City Jaipur\n",
    "# Using dir and help functions\n",
    "str1= input('Enter the string: ')\n",
    "print(str1.replace(' ','*'))"
   ]
  },
  {
   "cell_type": "markdown",
   "metadata": {},
   "source": [
    "### 06 Join '*' after each character"
   ]
  },
  {
   "cell_type": "code",
   "execution_count": 8,
   "metadata": {},
   "outputs": [
    {
     "name": "stdout",
     "output_type": "stream",
     "text": [
      "Enter the string: Welcome to Pink City Jaipur\n",
      "W*e*l*c*o*m*e* *t*o* *P*i*n*k* *C*i*t*y* *J*a*i*p*u*r\n"
     ]
    }
   ],
   "source": [
    "# input: Welcome to Pink City Jaipur\n",
    "# Using dir and help functions\n",
    "str1= input('Enter the string: ')\n",
    "str2='*'.join(str1)\n",
    "print(str2)"
   ]
  }
 ],
 "metadata": {
  "kernelspec": {
   "display_name": "Python 3",
   "language": "python",
   "name": "python3"
  },
  "language_info": {
   "codemirror_mode": {
    "name": "ipython",
    "version": 3
   },
   "file_extension": ".py",
   "mimetype": "text/x-python",
   "name": "python",
   "nbconvert_exporter": "python",
   "pygments_lexer": "ipython3",
   "version": "3.7.4"
  }
 },
 "nbformat": 4,
 "nbformat_minor": 2
}
